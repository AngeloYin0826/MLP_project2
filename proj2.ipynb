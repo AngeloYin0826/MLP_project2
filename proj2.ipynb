{
 "cells": [
  {
   "cell_type": "markdown",
   "metadata": {
    "id": "gGNR9UuNj4wa"
   },
   "source": [
    "# Machine Learning in Python - Project 2\n",
    "\n",
    "Due Friday, April 15th by 5 pm UK local time."
   ]
  },
  {
   "cell_type": "markdown",
   "metadata": {
    "id": "T6s0syWoj4wr"
   },
   "source": [
    "*include contributors names here*"
   ]
  },
  {
   "cell_type": "markdown",
   "metadata": {
    "id": "qjlL-SGwj4wu"
   },
   "source": [
    "## 0. Setup"
   ]
  },
  {
   "cell_type": "code",
   "execution_count": 1,
   "metadata": {
    "id": "SADfrxrkj4wx"
   },
   "outputs": [],
   "source": [
    "# Add any additional libraries or submodules below\n",
    "\n",
    "# Display plots inline\n",
    "%matplotlib inline\n",
    "\n",
    "# Data libraries\n",
    "import pandas as pd\n",
    "import numpy as np\n",
    "\n",
    "# Plotting libraries\n",
    "import matplotlib.pyplot as plt\n",
    "import seaborn as sns\n",
    "\n",
    "# Plotting defaults\n",
    "plt.rcParams['figure.figsize'] = (8,5)\n",
    "plt.rcParams['figure.dpi'] = 80\n",
    "\n",
    "from scipy.stats.distributions import uniform, loguniform\n",
    "\n",
    "# sklearn modules\n",
    "import sklearn\n",
    "from sklearn.preprocessing import OneHotEncoder\n",
    "from sklearn.linear_model import LogisticRegression\n",
    "from sklearn.model_selection import train_test_split\n",
    "from sklearn.metrics import roc_auc_score\n",
    "from sklearn.metrics import accuracy_score\n",
    "from sklearn.metrics import classification_report\n",
    "from sklearn.metrics import confusion_matrix\n",
    "from sklearn.metrics import mean_squared_error\n",
    "from sklearn.model_selection import cross_validate\n",
    "from sklearn.pipeline import Pipeline  # combining classifier steps\n",
    "from sklearn.preprocessing import StandardScaler\n",
    "from sklearn.model_selection import GridSearchCV, RandomizedSearchCV, KFold, StratifiedKFold\n",
    "from sklearn.tree import DecisionTreeClassifier, plot_tree, export_graphviz\n",
    "from sklearn.model_selection import cross_val_score\n",
    "from sklearn.metrics import recall_score\n",
    "\n",
    "import os\n",
    "#from google.colab import drive"
   ]
  },
  {
   "cell_type": "code",
   "execution_count": 2,
   "metadata": {
    "id": "Cz5QXiYHk_hM"
   },
   "outputs": [],
   "source": [
    "import graphviz "
   ]
  },
  {
   "cell_type": "code",
   "execution_count": 3,
   "metadata": {
    "colab": {
     "base_uri": "https://localhost:8080/",
     "height": 276
    },
    "id": "G6dw5ux6j4w0",
    "outputId": "485f2b7b-9865-44d1-fcfa-84a62c9f4562"
   },
   "outputs": [],
   "source": [
    "# Load data\n",
    "#drive.mount('/content/drive') # give permission\n",
    "#os.chdir('drive/My Drive/Colab Notebooks/ML for python/project 2')\n",
    "#os.chdir('drive/My Drive/Colab Notebooks/mlp/project-2')\n",
    "d = pd.read_csv(\"hotel.csv\")"
   ]
  },
  {
   "cell_type": "markdown",
   "metadata": {
    "id": "agDBRafJj4w2"
   },
   "source": [
    "## 1. Introduction\n",
    "\n",
    "*This section should include a brief introduction to the task and the data (assume this is a report you are delivering to a client). If you use any additional data sources, you should introduce them here and discuss why they were included.*\n",
    "\n",
    "*Briefly outline the approaches being used and the conclusions that you are able to draw.*"
   ]
  },
  {
   "cell_type": "markdown",
   "metadata": {
    "id": "JVS4Iu-fj4w3"
   },
   "source": [
    "## 2. Exploratory Data Analysis and Feature Engineering"
   ]
  },
  {
   "cell_type": "markdown",
   "metadata": {
    "id": "kM3VgcQEj4w4"
   },
   "source": [
    "*Include a detailed discussion of the data with a particular emphasis on the features of the data that are relevant for the subsequent modeling. Including visualizations of the data is strongly encouraged - all code and plots must also be described in the write up. Think carefully about whether each plot needs to be included in your final draft - your report should include figures but they should be as focused and impactful as possible.*\n",
    "\n",
    "*Additionally, this section should also implement and describe any preprocessing / feature engineering of the data. Specifically, this should be any code that you use to generate new columns in the data frame `d`. All of this processing is explicitly meant to occur before we split the data in to training and testing subsets. Processing that will be performed as part of an sklearn pipeline can be mentioned here but should be implemented in the following section.*\n",
    "\n",
    "*All code and figures should be accompanied by text that provides an overview / context to what is being done or presented.*"
   ]
  },
  {
   "cell_type": "code",
   "execution_count": 4,
   "metadata": {
    "colab": {
     "base_uri": "https://localhost:8080/"
    },
    "id": "fW3R1rBg9CFJ",
    "outputId": "5fdf9c29-9c80-4a81-fc46-f626c4728991"
   },
   "outputs": [
    {
     "name": "stdout",
     "output_type": "stream",
     "text": [
      "<class 'pandas.core.frame.DataFrame'>\n",
      "RangeIndex: 119390 entries, 0 to 119389\n",
      "Data columns (total 30 columns):\n",
      " #   Column                          Non-Null Count   Dtype  \n",
      "---  ------                          --------------   -----  \n",
      " 0   is_canceled                     119390 non-null  int64  \n",
      " 1   hotel                           119390 non-null  object \n",
      " 2   lead_time                       119390 non-null  int64  \n",
      " 3   arrival_date_year               119390 non-null  int64  \n",
      " 4   arrival_date_month              119390 non-null  object \n",
      " 5   arrival_date_week_number        119390 non-null  int64  \n",
      " 6   arrival_date_day_of_month       119390 non-null  int64  \n",
      " 7   stays_in_weekend_nights         119390 non-null  int64  \n",
      " 8   stays_in_week_nights            119390 non-null  int64  \n",
      " 9   adults                          119390 non-null  int64  \n",
      " 10  children                        119386 non-null  float64\n",
      " 11  babies                          119390 non-null  int64  \n",
      " 12  meal                            119390 non-null  object \n",
      " 13  country                         118902 non-null  object \n",
      " 14  market_segment                  119390 non-null  object \n",
      " 15  distribution_channel            119390 non-null  object \n",
      " 16  is_repeated_guest               119390 non-null  int64  \n",
      " 17  previous_cancellations          119390 non-null  int64  \n",
      " 18  previous_bookings_not_canceled  119390 non-null  int64  \n",
      " 19  reserved_room_type              119390 non-null  object \n",
      " 20  assigned_room_type              119390 non-null  object \n",
      " 21  booking_changes                 119390 non-null  int64  \n",
      " 22  deposit_type                    119390 non-null  object \n",
      " 23  agent                           103050 non-null  float64\n",
      " 24  company                         6797 non-null    float64\n",
      " 25  days_in_waiting_list            119390 non-null  int64  \n",
      " 26  customer_type                   119390 non-null  object \n",
      " 27  adr                             119390 non-null  float64\n",
      " 28  required_car_parking_spaces     119390 non-null  int64  \n",
      " 29  total_of_special_requests       119390 non-null  int64  \n",
      "dtypes: float64(4), int64(16), object(10)\n",
      "memory usage: 27.3+ MB\n",
      "None\n"
     ]
    }
   ],
   "source": [
    "df = d.copy()\n",
    "print(df.info())"
   ]
  },
  {
   "cell_type": "markdown",
   "metadata": {
    "id": "XuCNeGYck_hS"
   },
   "source": [
    "### 2.1 Data Cleaning"
   ]
  },
  {
   "cell_type": "markdown",
   "metadata": {
    "id": "fLmYf5Z3k_hT"
   },
   "source": [
    "Before feature selection and data preprocessing, we explored deeply into the raw data first, and found some improper data based on the realistic logic. Specifically, we deleted some data according to the following criteria:\n",
    "\n",
    "  - The variable `repeated_guest` marked as 0 should have no previous booking.\n",
    "  \n",
    "  - Average daily rate `adr` should have a reasonable value (non-negative and no more than 1000).\n",
    "  \n",
    "  - The number of car parking spaces required should be no more than the number of adults.\n",
    "  \n",
    "Moreover, missing values of categorical variables, i.e., `country`, `distribution_channel`, are deleted, as they occupy small proportions.\n",
    "\n",
    "As for the numerical variable `children` with a small amount of missing values, it was imputed by its mean value."
   ]
  },
  {
   "cell_type": "code",
   "execution_count": 5,
   "metadata": {
    "id": "wUSUmVSmruqM"
   },
   "outputs": [],
   "source": [
    "# drop observations with no previous booking but considered as repeated guest\n",
    "drop_idx_1 = df.loc[(df['is_repeated_guest'] == 0) & (df['previous_bookings_not_canceled'] > 0)].index\n",
    "df.drop(index = drop_idx_1, inplace = True)"
   ]
  },
  {
   "cell_type": "code",
   "execution_count": 6,
   "metadata": {
    "id": "7EGLVFH8uJaK"
   },
   "outputs": [],
   "source": [
    "# drop observations with improper values\n",
    "drop_idx_2 = df.loc[(df['adr'] < 0) | (df['adr'] > 1000)].index\n",
    "df.drop(index = drop_idx_2, inplace = True)"
   ]
  },
  {
   "cell_type": "code",
   "execution_count": 7,
   "metadata": {
    "id": "mFLu_RXNv7JP"
   },
   "outputs": [],
   "source": [
    "# drop observations with required car parking spaces over the number of adults\n",
    "drop_idx_3 = df.loc[df['required_car_parking_spaces'] > df['adults']].index\n",
    "df.drop(index = drop_idx_3, inplace = True)"
   ]
  },
  {
   "cell_type": "code",
   "execution_count": 8,
   "metadata": {
    "id": "eBOFr1K0J0g0"
   },
   "outputs": [],
   "source": [
    "# drop observations where country is missing\n",
    "drop_idx_4 = df.loc[df['country'].isna() == True].index\n",
    "df.drop(index = drop_idx_4, inplace = True)"
   ]
  },
  {
   "cell_type": "code",
   "execution_count": 9,
   "metadata": {
    "id": "1Rwa_6Ilk_hV"
   },
   "outputs": [],
   "source": [
    "# drop observations with undefined market segment\n",
    "drop_idx_5 = df.loc[df['distribution_channel'] == 'Undefined'].index\n",
    "df.drop(index = drop_idx_5, inplace = True)"
   ]
  },
  {
   "cell_type": "code",
   "execution_count": 10,
   "metadata": {
    "colab": {
     "base_uri": "https://localhost:8080/"
    },
    "id": "X-FgOZc-FCj5",
    "outputId": "d20506d6-7649-4e71-a030-912f19b7168f"
   },
   "outputs": [],
   "source": [
    "# impute missing values in children by its mean\n",
    "df['children'] = df['children'].fillna(df['children'].mean())"
   ]
  },
  {
   "cell_type": "code",
   "execution_count": 11,
   "metadata": {
    "colab": {
     "base_uri": "https://localhost:8080/"
    },
    "id": "D6osUlNPk_hW",
    "outputId": "dac6c10d-522f-4931-8c1e-41e6bc7ac844"
   },
   "outputs": [
    {
     "name": "stdout",
     "output_type": "stream",
     "text": [
      "hotel_class\n",
      "0    0.282168\n",
      "1    0.417870\n",
      "Name: is_canceled, dtype: float64\n",
      "0.6686894639868828\n"
     ]
    }
   ],
   "source": [
    "# convert hotel to binary - city : 1, resort : 0\n",
    "df['hotel_class'] = df['hotel'].apply(lambda x:int(x=='City Hotel'))\n",
    "# cancellation proportion for each class\n",
    "print(df.groupby(['hotel_class'])['is_canceled'].sum()/df.groupby(['hotel_class'])['is_canceled'].count())\n",
    "print(df['hotel_class'].sum()/df['hotel_class'].count())"
   ]
  },
  {
   "cell_type": "code",
   "execution_count": 12,
   "metadata": {
    "colab": {
     "base_uri": "https://localhost:8080/",
     "height": 384
    },
    "id": "fqVyIghspF7b",
    "outputId": "b022713b-1731-49ba-91f7-685c907ebc6f"
   },
   "outputs": [
    {
     "data": {
      "image/png": "[encoded data removed]",
      "text/plain": [
       "<Figure size 640x400 with 1 Axes>"
      ]
     },
     "metadata": {
      "needs_background": "light"
     },
     "output_type": "display_data"
    }
   ],
   "source": [
    "# histogram for cancellation proportion of each month\n",
    "arrival_month_cancel_proportion = df.groupby(['arrival_date_month'])['is_canceled'].sum('is_canceled')/df.groupby(['arrival_date_month'])['is_canceled'].count()\n",
    "month_df = arrival_month_cancel_proportion.to_frame().reset_index()\n",
    "month_df['month_index'] = [4,8,12,2,1,7,6,3,5,11,10,9]\n",
    "sns.barplot(x = month_df['month_index'], y = month_df['is_canceled']).set(title='arrival_month_cancel_proportion')\n",
    "plt.show()"
   ]
  },
  {
   "cell_type": "code",
   "execution_count": 13,
   "metadata": {
    "colab": {
     "base_uri": "https://localhost:8080/"
    },
    "id": "dEeuBG6Hk_hX",
    "outputId": "be8df48c-e9ab-4191-db1a-b6c17caf1fe1"
   },
   "outputs": [
    {
     "name": "stdout",
     "output_type": "stream",
     "text": [
      "month_class\n",
      "0    0.328893\n",
      "1    0.392828\n",
      "Name: is_canceled, dtype: float64\n",
      "0.6884666745550128\n"
     ]
    }
   ],
   "source": [
    "# convert month to binary - 4-10 : 1, others : 0\n",
    "df['month_class'] = df['arrival_date_month'].apply(lambda x:int(x in ['April', 'May', 'June', 'July', 'August', 'September', 'October']))\n",
    "# cancellation proportion for each class\n",
    "print(df.groupby(['month_class'])['is_canceled'].sum()/df.groupby(['month_class'])['is_canceled'].count())\n",
    "print(df['month_class'].sum()/df['month_class'].count())"
   ]
  },
  {
   "cell_type": "code",
   "execution_count": 14,
   "metadata": {
    "colab": {
     "base_uri": "https://localhost:8080/",
     "height": 383
    },
    "id": "4YROFumek_hX",
    "outputId": "4546d8e2-faf4-4fd9-9310-2480a5e35a15"
   },
   "outputs": [
    {
     "data": {
      "image/png": "[encoded data removed]",
      "text/plain": [
       "<Figure size 640x400 with 1 Axes>"
      ]
     },
     "metadata": {
      "needs_background": "light"
     },
     "output_type": "display_data"
    }
   ],
   "source": [
    "adults_cancel_prop = df.groupby(['adults'])['is_canceled'].sum()/df.groupby(['adults'])['is_canceled'].count()\n",
    "# adults\n",
    "adults_cancel_prop_df = adults_cancel_prop.to_frame().reset_index()\n",
    "sns.scatterplot(x=adults_cancel_prop_df['adults'], y=adults_cancel_prop_df['is_canceled']).set(title='adults versus cancellation percentage')\n",
    "plt.show()"
   ]
  },
  {
   "cell_type": "code",
   "execution_count": 15,
   "metadata": {
    "colab": {
     "base_uri": "https://localhost:8080/",
     "height": 384
    },
    "id": "GXoQUVvLk_hY",
    "outputId": "93b4f088-24eb-42db-e19d-7d38ae0b7767"
   },
   "outputs": [
    {
     "data": {
      "image/png": "[encoded data removed]",
      "text/plain": [
       "<Figure size 640x400 with 1 Axes>"
      ]
     },
     "metadata": {
      "needs_background": "light"
     },
     "output_type": "display_data"
    }
   ],
   "source": [
    "# children and baby\n",
    "df['children_baby'] = df['children'] + df['babies']\n",
    "\n",
    "chil_cancel_prop = df.groupby(['children_baby'])['is_canceled'].sum()/df.groupby(['children_baby'])['is_canceled'].count()\n",
    "\n",
    "chil_cancel_prop_df = chil_cancel_prop.to_frame().reset_index()\n",
    "sns.scatterplot(x=chil_cancel_prop_df['children_baby'], y=chil_cancel_prop_df['is_canceled']).set(title='childeren and babies versus cancellation percentage')\n",
    "plt.show()"
   ]
  },
  {
   "cell_type": "code",
   "execution_count": 16,
   "metadata": {
    "colab": {
     "base_uri": "https://localhost:8080/"
    },
    "id": "Q4oZozCo4B3m",
    "outputId": "c388771c-987a-4f4c-b66e-1cb722586081"
   },
   "outputs": [
    {
     "name": "stdout",
     "output_type": "stream",
     "text": [
      "country_prt\n",
      "0    0.237155\n",
      "1    0.570577\n",
      "Name: is_canceled, dtype: float64\n",
      "0.4071569837218344\n"
     ]
    }
   ],
   "source": [
    "# convert country to binary - PRT : 1, non-PRT : 0\n",
    "df['country_prt'] = df['country'].apply(lambda x:int(x=='PRT'))\n",
    "# cancellation proportion for each class\n",
    "print(df.groupby(['country_prt'])['is_canceled'].sum()/df.groupby(['country_prt'])['is_canceled'].count())\n",
    "print(df['country_prt'].sum()/df['country_prt'].count())"
   ]
  },
  {
   "cell_type": "code",
   "execution_count": 17,
   "metadata": {
    "colab": {
     "base_uri": "https://localhost:8080/",
     "height": 488
    },
    "id": "m-kVyq4rk_hY",
    "outputId": "89fed795-520f-4c06-a181-fd085cd02f19"
   },
   "outputs": [
    {
     "data": {
      "image/png": "[encoded data removed]",
      "text/plain": [
       "<Figure size 640x400 with 1 Axes>"
      ]
     },
     "metadata": {
      "needs_background": "light"
     },
     "output_type": "display_data"
    },
    {
     "data": {
      "text/plain": [
       "distribution_channel\n",
       "Corporate    0.053094\n",
       "Direct       0.121224\n",
       "GDS          0.001623\n",
       "TA/TO        0.824059\n",
       "Name: distribution_channel, dtype: float64"
      ]
     },
     "execution_count": 17,
     "metadata": {},
     "output_type": "execute_result"
    }
   ],
   "source": [
    "# histograms for distribution channel\n",
    "dis_type = df.groupby(['distribution_channel'])['is_canceled'].sum()/df.groupby(['distribution_channel'])['is_canceled'].count()\n",
    "dis_type_df = dis_type.to_frame().reset_index()\n",
    "sns.barplot(x=dis_type_df['distribution_channel'], y=dis_type_df['is_canceled']).set(title='distribution_channel versus cancellation percentage', ylim=(0,1))\n",
    "plt.show()\n",
    "df.groupby(['distribution_channel'])['distribution_channel'].count()/df['distribution_channel'].count()"
   ]
  },
  {
   "cell_type": "code",
   "execution_count": 18,
   "metadata": {
    "colab": {
     "base_uri": "https://localhost:8080/"
    },
    "id": "CxSfj4abk_ha",
    "outputId": "2964d2b8-21b2-4e99-b533-fc2533bfa788"
   },
   "outputs": [
    {
     "name": "stdout",
     "output_type": "stream",
     "text": [
      "distribution_channel_class\n",
      "0    0.192919\n",
      "1    0.411339\n",
      "Name: is_canceled, dtype: float64\n",
      "0.8240588921381362\n"
     ]
    }
   ],
   "source": [
    "# convert distribution channel to binary - TA/TO : 1, non-TA/TO : 0\n",
    "df['distribution_channel_class'] = df['distribution_channel'].apply(lambda x:int(x=='TA/TO'))\n",
    "# cancellation proportion for each class\n",
    "print(df.groupby(['distribution_channel_class'])['is_canceled'].sum()/df.groupby(['distribution_channel_class'])['is_canceled'].count())\n",
    "print(df['distribution_channel_class'].sum()/df['distribution_channel_class'].count())"
   ]
  },
  {
   "cell_type": "code",
   "execution_count": 19,
   "metadata": {
    "colab": {
     "base_uri": "https://localhost:8080/",
     "height": 540
    },
    "id": "U-MXRzxuk_ha",
    "outputId": "f5831659-503c-4dd1-ed4d-ed0fa54fed73"
   },
   "outputs": [
    {
     "data": {
      "image/png": "[encoded data removed]",
      "text/plain": [
       "<Figure size 640x400 with 1 Axes>"
      ]
     },
     "metadata": {
      "needs_background": "light"
     },
     "output_type": "display_data"
    },
    {
     "data": {
      "text/plain": [
       "market_segment\n",
       "Aviation         0.002003\n",
       "Complementary    0.006136\n",
       "Corporate        0.041524\n",
       "Direct           0.104084\n",
       "Groups           0.166898\n",
       "Offline TA/TO    0.203562\n",
       "Online TA        0.475794\n",
       "Name: market_segment, dtype: float64"
      ]
     },
     "execution_count": 19,
     "metadata": {},
     "output_type": "execute_result"
    }
   ],
   "source": [
    "# histograms for market segment\n",
    "mar_type = df.groupby(['market_segment'])['is_canceled'].sum()/df.groupby(['market_segment'])['is_canceled'].count()\n",
    "mar_type_df = mar_type.to_frame().reset_index()\n",
    "sns.barplot(x=mar_type_df['market_segment'], y=mar_type_df['is_canceled']).set(title='market_segment versus cancellation percentage', ylim=(0,1))\n",
    "plt.show()\n",
    "df.groupby(['market_segment'])['market_segment'].count()/df['market_segment'].count()"
   ]
  },
  {
   "cell_type": "code",
   "execution_count": 20,
   "metadata": {
    "colab": {
     "base_uri": "https://localhost:8080/"
    },
    "id": "tayD0om_8N_W",
    "outputId": "832511b4-c37b-419f-8195-d4ffbedfe172"
   },
   "outputs": [
    {
     "name": "stdout",
     "output_type": "stream",
     "text": [
      "is_repeated_guest\n",
      "0    0.380468\n",
      "1    0.145225\n",
      "Name: is_canceled, dtype: float64\n",
      "0.03212528947412904\n"
     ]
    }
   ],
   "source": [
    "# cancellation proportion for each class\n",
    "print(df.groupby(['is_repeated_guest'])['is_canceled'].sum()/df.groupby(['is_repeated_guest'])['is_canceled'].count())\n",
    "print(df['is_repeated_guest'].sum()/df['is_repeated_guest'].count())"
   ]
  },
  {
   "cell_type": "code",
   "execution_count": 21,
   "metadata": {
    "colab": {
     "base_uri": "https://localhost:8080/"
    },
    "id": "nB90h4KB-wud",
    "outputId": "e520f70e-b448-4f63-f13f-f3f1a09d24c4"
   },
   "outputs": [
    {
     "name": "stdout",
     "output_type": "stream",
     "text": [
      "previous_cancellations_class\n",
      "0    0.341461\n",
      "1    0.926427\n",
      "Name: is_canceled, dtype: float64\n",
      "0.05376189590763874\n"
     ]
    }
   ],
   "source": [
    "# convert previous_cancellations_class to binary - non-zero : 1, zero : 0\n",
    "df['previous_cancellations_class'] = df['previous_cancellations'].apply(lambda x:int(x!=0))\n",
    "# cancellation proportion for each class\n",
    "print(df.groupby(['previous_cancellations_class'])['is_canceled'].sum()/df.groupby(['previous_cancellations_class'])['is_canceled'].count())\n",
    "print(df['previous_cancellations_class'].sum()/df['previous_cancellations_class'].count())"
   ]
  },
  {
   "cell_type": "code",
   "execution_count": 22,
   "metadata": {
    "colab": {
     "base_uri": "https://localhost:8080/"
    },
    "id": "C35U8dQLkaM_",
    "outputId": "72d75912-36bb-4638-bb6e-ee9e1c85405d"
   },
   "outputs": [
    {
     "name": "stdout",
     "output_type": "stream",
     "text": [
      "reserved_equal_assigned\n",
      "0    0.054496\n",
      "1    0.417305\n",
      "Name: is_canceled, dtype: float64\n",
      "0.877634848459237\n"
     ]
    }
   ],
   "source": [
    "# create a new binary column for reserved and assigned - matching : 1, non-matching : 0\n",
    "df['reserved_equal_assigned'] = np.where((df['reserved_room_type'] == df['assigned_room_type']), 1, 0)\n",
    "# cancellation proportion for each class\n",
    "print(df.groupby(['reserved_equal_assigned'])['is_canceled'].sum()/df.groupby(['reserved_equal_assigned'])['is_canceled'].count())\n",
    "print(df['reserved_equal_assigned'].sum()/df['reserved_equal_assigned'].count())"
   ]
  },
  {
   "cell_type": "code",
   "execution_count": 23,
   "metadata": {
    "colab": {
     "base_uri": "https://localhost:8080/"
    },
    "id": "JDOFTyziIbYD",
    "outputId": "2be1f0cb-d1e4-4fb3-a2c2-00f7f909525b"
   },
   "outputs": [
    {
     "name": "stdout",
     "output_type": "stream",
     "text": [
      "booking_changes_class\n",
      "0    0.410986\n",
      "1    0.158290\n",
      "Name: is_canceled, dtype: float64\n",
      "0.1506786794908636\n"
     ]
    }
   ],
   "source": [
    "# convert booking_changes to binary - changed : 1, non-changed : 0\n",
    "df['booking_changes_class'] = df['booking_changes'].apply(lambda x:int(x!=0))\n",
    "# cancellation proportion for each class\n",
    "print(df.groupby(['booking_changes_class'])['is_canceled'].sum()/df.groupby(['booking_changes_class'])['is_canceled'].count())\n",
    "print(df['booking_changes_class'].sum()/df['booking_changes_class'].count())"
   ]
  },
  {
   "cell_type": "code",
   "execution_count": 24,
   "metadata": {
    "colab": {
     "base_uri": "https://localhost:8080/",
     "height": 402
    },
    "id": "1RdsYczEl5SF",
    "outputId": "94dc406e-d0bd-4167-d837-f159ef43e566"
   },
   "outputs": [
    {
     "data": {
      "text/plain": [
       "[Text(0.5, 1.0, 'deposit_type versus cancellation percentage'), (0.0, 1.0)]"
      ]
     },
     "execution_count": 24,
     "metadata": {},
     "output_type": "execute_result"
    },
    {
     "data": {
      "image/png": "[encoded data removed]",
      "text/plain": [
       "<Figure size 640x400 with 1 Axes>"
      ]
     },
     "metadata": {
      "needs_background": "light"
     },
     "output_type": "display_data"
    }
   ],
   "source": [
    "# histogram for cancellation proportions for each deposit type\n",
    "depos = df.groupby(['deposit_type'])['is_canceled'].sum()/df.groupby(['deposit_type'])['is_canceled'].count()\n",
    "depos_df = depos.to_frame().reset_index()\n",
    "sns.barplot(x = depos_df['deposit_type'], y=depos_df['is_canceled']).set(title='deposit_type versus cancellation percentage', ylim=(0,1))"
   ]
  },
  {
   "cell_type": "code",
   "execution_count": 25,
   "metadata": {
    "colab": {
     "base_uri": "https://localhost:8080/"
    },
    "id": "apmyiWFOk_hc",
    "outputId": "01bb8e75-8531-4d77-d288-4b42d5cc8e2d"
   },
   "outputs": [
    {
     "data": {
      "text/plain": [
       "array([2132, 2133, 2134, 2135, 2140], dtype=int64)"
      ]
     },
     "execution_count": 25,
     "metadata": {},
     "output_type": "execute_result"
    }
   ],
   "source": [
    "idxxxx = np.where(df['deposit_type'] == 'Non Refund')\n",
    "idxxxx[0][0:5]"
   ]
  },
  {
   "cell_type": "code",
   "execution_count": 26,
   "metadata": {
    "id": "O_fMuUJ6k_hc"
   },
   "outputs": [],
   "source": [
    "# one hot encoding for deposit type\n",
    "onehot = OneHotEncoder(handle_unknown='ignore')\n",
    "dep_encoded = onehot.fit_transform(np.array(df['deposit_type']).reshape(-1, 1))\n",
    "dep_encoded_df = pd.DataFrame(dep_encoded.toarray(), columns = ['No_Deposit', 'Non_Refund', 'Refundable'])\n",
    "df = pd.merge(df, dep_encoded_df, left_index = True, right_index = True)"
   ]
  },
  {
   "cell_type": "code",
   "execution_count": 27,
   "metadata": {
    "colab": {
     "base_uri": "https://localhost:8080/",
     "height": 454
    },
    "id": "BztJMrNcnr0F",
    "outputId": "3b3637a5-90f7-49d9-8857-876d39e0cc25"
   },
   "outputs": [
    {
     "data": {
      "image/png": "[encoded data removed]",
      "text/plain": [
       "<Figure size 640x400 with 1 Axes>"
      ]
     },
     "metadata": {
      "needs_background": "light"
     },
     "output_type": "display_data"
    },
    {
     "data": {
      "text/plain": [
       "have_days_in_wl\n",
       "0    0.367794\n",
       "1    0.639956\n",
       "Name: is_canceled, dtype: float64"
      ]
     },
     "execution_count": 27,
     "metadata": {},
     "output_type": "execute_result"
    }
   ],
   "source": [
    "# scatter plot for cancellation proportion over day_in_waiting_list \n",
    "days_wl = df.groupby(['days_in_waiting_list'])['is_canceled'].sum()/df.groupby(['days_in_waiting_list'])['is_canceled'].count()\n",
    "days_wl_df = days_wl.to_frame().reset_index()\n",
    "sns.scatterplot(x=days_wl_df['days_in_waiting_list'], y=days_wl_df['is_canceled']).set(title='days_in_waiting_list versus cancellation percentage')\n",
    "plt.show()\n",
    "# convert this column to binary - wait : 1, non-wait : 0\n",
    "df['have_days_in_wl'] = np.where((df['days_in_waiting_list'] != 0), 1, 0)\n",
    "# cancellation proportion for each class\n",
    "df.groupby(['have_days_in_wl'])['is_canceled'].sum()/df.groupby(['have_days_in_wl'])['is_canceled'].count()"
   ]
  },
  {
   "cell_type": "code",
   "execution_count": 28,
   "metadata": {
    "colab": {
     "base_uri": "https://localhost:8080/",
     "height": 488
    },
    "id": "EccwYCnWpyEb",
    "outputId": "48dbf87f-d57f-4229-b81a-6b19a6990ecb"
   },
   "outputs": [
    {
     "data": {
      "image/png": "[encoded data removed]",
      "text/plain": [
       "<Figure size 640x400 with 1 Axes>"
      ]
     },
     "metadata": {
      "needs_background": "light"
     },
     "output_type": "display_data"
    },
    {
     "data": {
      "text/plain": [
       "customer_type\n",
       "Contract           0.034747\n",
       "Group              0.004461\n",
       "Transient          0.750087\n",
       "Transient-Party    0.210705\n",
       "Name: customer_type, dtype: float64"
      ]
     },
     "execution_count": 28,
     "metadata": {},
     "output_type": "execute_result"
    }
   ],
   "source": [
    "# histograms for cancellation proportion for each customer type\n",
    "cust_type = df.groupby(['customer_type'])['is_canceled'].sum()/df.groupby(['customer_type'])['is_canceled'].count()\n",
    "cust_type_df = cust_type.to_frame().reset_index()\n",
    "sns.barplot(x=cust_type_df['customer_type'], y=cust_type_df['is_canceled']).set(title='customer_type versus cancellation percentage', ylim=(0,1))\n",
    "plt.show()\n",
    "df.groupby(['customer_type'])['customer_type'].count()/df['customer_type'].count()"
   ]
  },
  {
   "cell_type": "code",
   "execution_count": 29,
   "metadata": {
    "colab": {
     "base_uri": "https://localhost:8080/"
    },
    "id": "qggTyqSzk_hd",
    "outputId": "661ede13-ea04-4b75-f98d-40269c97c87a"
   },
   "outputs": [
    {
     "data": {
      "text/plain": [
       "array([0, 1, 2, 3, 4], dtype=int64)"
      ]
     },
     "execution_count": 29,
     "metadata": {},
     "output_type": "execute_result"
    }
   ],
   "source": [
    "idxxxx = np.where(df['customer_type'] == 'Transient')\n",
    "idxxxx[0][0:5]"
   ]
  },
  {
   "cell_type": "code",
   "execution_count": 30,
   "metadata": {
    "id": "LSLi8kwRk_hd"
   },
   "outputs": [],
   "source": [
    "# one hot encoding for customer type\n",
    "onehot = OneHotEncoder(handle_unknown='ignore')\n",
    "cus_encoded = onehot.fit_transform(np.array(df['customer_type']).reshape(-1, 1))\n",
    "cus_encoded_df = pd.DataFrame(cus_encoded.toarray(), columns = ['Contract', 'Group', 'Transient', 'Transient-Party'])\n",
    "df = pd.merge(df, cus_encoded_df, left_index = True, right_index = True)"
   ]
  },
  {
   "cell_type": "code",
   "execution_count": 31,
   "metadata": {
    "colab": {
     "base_uri": "https://localhost:8080/",
     "height": 383
    },
    "id": "f_zrYf_8qcGL",
    "outputId": "04448e50-a0b0-45a8-ef4e-ad6734cd5916"
   },
   "outputs": [
    {
     "data": {
      "image/png": "[encoded data removed]",
      "text/plain": [
       "<Figure size 640x400 with 1 Axes>"
      ]
     },
     "metadata": {
      "needs_background": "light"
     },
     "output_type": "display_data"
    }
   ],
   "source": [
    "# scatter plot for cancellation proportion over adr\n",
    "adr_temp = df.groupby(['adr'])['is_canceled'].sum()/df.groupby(['adr'])['is_canceled'].count()\n",
    "adr_df = adr_temp.to_frame().reset_index()\n",
    "sns.scatterplot(x=adr_df['adr'], y=adr_df['is_canceled']).set(title='adr versus cancellation percentage')\n",
    "plt.show()"
   ]
  },
  {
   "cell_type": "code",
   "execution_count": 32,
   "metadata": {
    "colab": {
     "base_uri": "https://localhost:8080/"
    },
    "id": "o9SX9ZgesDBE",
    "outputId": "1eae4970-6f61-4c46-ac25-c1fcd9d1dfb4"
   },
   "outputs": [
    {
     "name": "stdout",
     "output_type": "stream",
     "text": [
      "required_car_parking_spaces_class\n",
      "0    0.404427\n",
      "1    0.000000\n",
      "Name: is_canceled, dtype: float64\n",
      "0.06098295747977277\n"
     ]
    }
   ],
   "source": [
    "# covert required_car_parking_spaces to binary - required : 1, non-required : 0\n",
    "df['required_car_parking_spaces_class'] = df['required_car_parking_spaces'].apply(lambda x:int(x!=0))\n",
    "# cancellation proportion for each class\n",
    "print(df.groupby('required_car_parking_spaces_class')['is_canceled'].sum()/df.groupby(['required_car_parking_spaces_class'])['is_canceled'].count())\n",
    "print(df['required_car_parking_spaces_class'].sum()/df['required_car_parking_spaces_class'].count())"
   ]
  },
  {
   "cell_type": "code",
   "execution_count": 33,
   "metadata": {
    "colab": {
     "base_uri": "https://localhost:8080/",
     "height": 384
    },
    "id": "f9y7UYeFs0MV",
    "outputId": "c447ed06-6358-4357-abe7-7ead6cb2d466"
   },
   "outputs": [
    {
     "data": {
      "image/png": "[encoded data removed]",
      "text/plain": [
       "<Figure size 640x400 with 1 Axes>"
      ]
     },
     "metadata": {
      "needs_background": "light"
     },
     "output_type": "display_data"
    }
   ],
   "source": [
    "# scatter plot for cancellation proportion over number of special requests\n",
    "special_req = df.groupby('total_of_special_requests')['is_canceled'].sum()/df.groupby(['total_of_special_requests'])['is_canceled'].count()\n",
    "special_req = special_req.to_frame().reset_index()\n",
    "sns.scatterplot(x=special_req['total_of_special_requests'], y=special_req['is_canceled']).set(title='total_of_special_requests versus cancellation percentage')\n",
    "plt.show()\n",
    "# obvious negative correlation"
   ]
  },
  {
   "cell_type": "code",
   "execution_count": 34,
   "metadata": {
    "colab": {
     "base_uri": "https://localhost:8080/",
     "height": 1000
    },
    "id": "VNjXTseolq-k",
    "outputId": "e6677088-6425-44ee-ff3b-8efcbe4db64d"
   },
   "outputs": [
    {
     "data": {
      "text/html": [
       "<div>\n",
       "<style scoped>\n",
       "    .dataframe tbody tr th:only-of-type {\n",
       "        vertical-align: middle;\n",
       "    }\n",
       "\n",
       "    .dataframe tbody tr th {\n",
       "        vertical-align: top;\n",
       "    }\n",
       "\n",
       "    .dataframe thead th {\n",
       "        text-align: right;\n",
       "    }\n",
       "</style>\n",
       "<table border=\"1\" class=\"dataframe\">\n",
       "  <thead>\n",
       "    <tr style=\"text-align: right;\">\n",
       "      <th></th>\n",
       "      <th>is_canceled</th>\n",
       "      <th>lead_time</th>\n",
       "      <th>arrival_date_year</th>\n",
       "      <th>arrival_date_week_number</th>\n",
       "      <th>arrival_date_day_of_month</th>\n",
       "      <th>stays_in_weekend_nights</th>\n",
       "      <th>stays_in_week_nights</th>\n",
       "      <th>adults</th>\n",
       "      <th>children</th>\n",
       "      <th>babies</th>\n",
       "      <th>...</th>\n",
       "      <th>booking_changes_class</th>\n",
       "      <th>No_Deposit</th>\n",
       "      <th>Non_Refund</th>\n",
       "      <th>Refundable</th>\n",
       "      <th>have_days_in_wl</th>\n",
       "      <th>Contract</th>\n",
       "      <th>Group</th>\n",
       "      <th>Transient</th>\n",
       "      <th>Transient-Party</th>\n",
       "      <th>required_car_parking_spaces_class</th>\n",
       "    </tr>\n",
       "  </thead>\n",
       "  <tbody>\n",
       "    <tr>\n",
       "      <th>is_canceled</th>\n",
       "      <td>1.000000</td>\n",
       "      <td>0.302014</td>\n",
       "      <td>0.034337</td>\n",
       "      <td>0.013073</td>\n",
       "      <td>-0.003738</td>\n",
       "      <td>-0.002997</td>\n",
       "      <td>0.023442</td>\n",
       "      <td>0.059896</td>\n",
       "      <td>0.008077</td>\n",
       "      <td>-0.033271</td>\n",
       "      <td>...</td>\n",
       "      <td>-0.186280</td>\n",
       "      <td>-0.356151</td>\n",
       "      <td>0.358809</td>\n",
       "      <td>-0.008494</td>\n",
       "      <td>0.096813</td>\n",
       "      <td>-0.000294</td>\n",
       "      <td>-0.031994</td>\n",
       "      <td>0.087912</td>\n",
       "      <td>-0.087953</td>\n",
       "      <td>-0.199410</td>\n",
       "    </tr>\n",
       "    <tr>\n",
       "      <th>lead_time</th>\n",
       "      <td>0.302014</td>\n",
       "      <td>1.000000</td>\n",
       "      <td>0.033543</td>\n",
       "      <td>0.125083</td>\n",
       "      <td>-0.000249</td>\n",
       "      <td>0.082665</td>\n",
       "      <td>0.164815</td>\n",
       "      <td>0.116490</td>\n",
       "      <td>-0.040639</td>\n",
       "      <td>-0.021195</td>\n",
       "      <td>...</td>\n",
       "      <td>-0.017652</td>\n",
       "      <td>-0.165523</td>\n",
       "      <td>0.165545</td>\n",
       "      <td>0.006812</td>\n",
       "      <td>0.142025</td>\n",
       "      <td>-0.002551</td>\n",
       "      <td>-0.018650</td>\n",
       "      <td>0.005078</td>\n",
       "      <td>-0.001207</td>\n",
       "      <td>-0.117828</td>\n",
       "    </tr>\n",
       "    <tr>\n",
       "      <th>arrival_date_year</th>\n",
       "      <td>0.034337</td>\n",
       "      <td>0.033543</td>\n",
       "      <td>1.000000</td>\n",
       "      <td>-0.557880</td>\n",
       "      <td>-0.004127</td>\n",
       "      <td>0.021597</td>\n",
       "      <td>0.032600</td>\n",
       "      <td>0.025538</td>\n",
       "      <td>0.050670</td>\n",
       "      <td>-0.013320</td>\n",
       "      <td>...</td>\n",
       "      <td>0.014781</td>\n",
       "      <td>0.044743</td>\n",
       "      <td>-0.045005</td>\n",
       "      <td>0.000428</td>\n",
       "      <td>-0.074740</td>\n",
       "      <td>-0.068362</td>\n",
       "      <td>-0.028865</td>\n",
       "      <td>0.158113</td>\n",
       "      <td>-0.132479</td>\n",
       "      <td>-0.012920</td>\n",
       "    </tr>\n",
       "    <tr>\n",
       "      <th>arrival_date_week_number</th>\n",
       "      <td>0.013073</td>\n",
       "      <td>0.125083</td>\n",
       "      <td>-0.557880</td>\n",
       "      <td>1.000000</td>\n",
       "      <td>0.064778</td>\n",
       "      <td>0.017300</td>\n",
       "      <td>0.014554</td>\n",
       "      <td>0.023822</td>\n",
       "      <td>0.003750</td>\n",
       "      <td>0.010016</td>\n",
       "      <td>...</td>\n",
       "      <td>0.004392</td>\n",
       "      <td>-0.013951</td>\n",
       "      <td>0.016271</td>\n",
       "      <td>-0.019989</td>\n",
       "      <td>-0.002535</td>\n",
       "      <td>0.057279</td>\n",
       "      <td>0.014693</td>\n",
       "      <td>-0.062873</td>\n",
       "      <td>0.038677</td>\n",
       "      <td>0.003600</td>\n",
       "    </tr>\n",
       "    <tr>\n",
       "      <th>arrival_date_day_of_month</th>\n",
       "      <td>-0.003738</td>\n",
       "      <td>-0.000249</td>\n",
       "      <td>-0.004127</td>\n",
       "      <td>0.064778</td>\n",
       "      <td>1.000000</td>\n",
       "      <td>-0.017317</td>\n",
       "      <td>-0.028128</td>\n",
       "      <td>0.001033</td>\n",
       "      <td>0.015179</td>\n",
       "      <td>-0.000213</td>\n",
       "      <td>...</td>\n",
       "      <td>0.008167</td>\n",
       "      <td>0.001141</td>\n",
       "      <td>-0.003985</td>\n",
       "      <td>0.025169</td>\n",
       "      <td>0.033003</td>\n",
       "      <td>0.003053</td>\n",
       "      <td>-0.002700</td>\n",
       "      <td>0.001996</td>\n",
       "      <td>-0.003046</td>\n",
       "      <td>0.009142</td>\n",
       "    </tr>\n",
       "    <tr>\n",
       "      <th>stays_in_weekend_nights</th>\n",
       "      <td>-0.002997</td>\n",
       "      <td>0.082665</td>\n",
       "      <td>0.021597</td>\n",
       "      <td>0.017300</td>\n",
       "      <td>-0.017317</td>\n",
       "      <td>1.000000</td>\n",
       "      <td>0.496069</td>\n",
       "      <td>0.090426</td>\n",
       "      <td>0.046682</td>\n",
       "      <td>0.018328</td>\n",
       "      <td>...</td>\n",
       "      <td>0.043979</td>\n",
       "      <td>0.053912</td>\n",
       "      <td>-0.053994</td>\n",
       "      <td>-0.001554</td>\n",
       "      <td>-0.072794</td>\n",
       "      <td>0.021552</td>\n",
       "      <td>0.001235</td>\n",
       "      <td>0.010556</td>\n",
       "      <td>-0.021057</td>\n",
       "      <td>-0.019709</td>\n",
       "    </tr>\n",
       "    <tr>\n",
       "      <th>stays_in_week_nights</th>\n",
       "      <td>0.023442</td>\n",
       "      <td>0.164815</td>\n",
       "      <td>0.032600</td>\n",
       "      <td>0.014554</td>\n",
       "      <td>-0.028128</td>\n",
       "      <td>0.496069</td>\n",
       "      <td>1.000000</td>\n",
       "      <td>0.091629</td>\n",
       "      <td>0.046259</td>\n",
       "      <td>0.020507</td>\n",
       "      <td>...</td>\n",
       "      <td>0.066017</td>\n",
       "      <td>0.051753</td>\n",
       "      <td>-0.052731</td>\n",
       "      <td>0.006487</td>\n",
       "      <td>-0.011716</td>\n",
       "      <td>0.034124</td>\n",
       "      <td>-0.004734</td>\n",
       "      <td>0.013041</td>\n",
       "      <td>-0.028352</td>\n",
       "      <td>-0.026749</td>\n",
       "    </tr>\n",
       "    <tr>\n",
       "      <th>adults</th>\n",
       "      <td>0.059896</td>\n",
       "      <td>0.116490</td>\n",
       "      <td>0.025538</td>\n",
       "      <td>0.023822</td>\n",
       "      <td>0.001033</td>\n",
       "      <td>0.090426</td>\n",
       "      <td>0.091629</td>\n",
       "      <td>1.000000</td>\n",
       "      <td>0.029798</td>\n",
       "      <td>0.017883</td>\n",
       "      <td>...</td>\n",
       "      <td>-0.068569</td>\n",
       "      <td>-0.004313</td>\n",
       "      <td>0.004303</td>\n",
       "      <td>0.000271</td>\n",
       "      <td>-0.033097</td>\n",
       "      <td>0.005767</td>\n",
       "      <td>-0.001761</td>\n",
       "      <td>0.006578</td>\n",
       "      <td>-0.009277</td>\n",
       "      <td>0.018968</td>\n",
       "    </tr>\n",
       "    <tr>\n",
       "      <th>children</th>\n",
       "      <td>0.008077</td>\n",
       "      <td>-0.040639</td>\n",
       "      <td>0.050670</td>\n",
       "      <td>0.003750</td>\n",
       "      <td>0.015179</td>\n",
       "      <td>0.046682</td>\n",
       "      <td>0.046259</td>\n",
       "      <td>0.029798</td>\n",
       "      <td>1.000000</td>\n",
       "      <td>0.023945</td>\n",
       "      <td>...</td>\n",
       "      <td>0.054823</td>\n",
       "      <td>0.029699</td>\n",
       "      <td>-0.030077</td>\n",
       "      <td>0.002098</td>\n",
       "      <td>-0.045525</td>\n",
       "      <td>0.006225</td>\n",
       "      <td>-0.002597</td>\n",
       "      <td>0.014838</td>\n",
       "      <td>-0.018112</td>\n",
       "      <td>0.058910</td>\n",
       "    </tr>\n",
       "    <tr>\n",
       "      <th>babies</th>\n",
       "      <td>-0.033271</td>\n",
       "      <td>-0.021195</td>\n",
       "      <td>-0.013320</td>\n",
       "      <td>0.010016</td>\n",
       "      <td>-0.000213</td>\n",
       "      <td>0.018328</td>\n",
       "      <td>0.020507</td>\n",
       "      <td>0.017883</td>\n",
       "      <td>0.023945</td>\n",
       "      <td>1.000000</td>\n",
       "      <td>...</td>\n",
       "      <td>0.111622</td>\n",
       "      <td>0.018064</td>\n",
       "      <td>-0.018879</td>\n",
       "      <td>0.006462</td>\n",
       "      <td>-0.013243</td>\n",
       "      <td>0.012465</td>\n",
       "      <td>0.006459</td>\n",
       "      <td>-0.002402</td>\n",
       "      <td>-0.004086</td>\n",
       "      <td>0.038778</td>\n",
       "    </tr>\n",
       "    <tr>\n",
       "      <th>is_repeated_guest</th>\n",
       "      <td>-0.088764</td>\n",
       "      <td>-0.125945</td>\n",
       "      <td>0.013660</td>\n",
       "      <td>-0.029223</td>\n",
       "      <td>-0.005847</td>\n",
       "      <td>-0.088832</td>\n",
       "      <td>-0.099168</td>\n",
       "      <td>-0.149061</td>\n",
       "      <td>-0.033275</td>\n",
       "      <td>-0.009064</td>\n",
       "      <td>...</td>\n",
       "      <td>0.020038</td>\n",
       "      <td>0.022475</td>\n",
       "      <td>-0.022255</td>\n",
       "      <td>-0.002904</td>\n",
       "      <td>-0.028467</td>\n",
       "      <td>0.035168</td>\n",
       "      <td>0.018322</td>\n",
       "      <td>-0.010288</td>\n",
       "      <td>-0.007818</td>\n",
       "      <td>0.076849</td>\n",
       "    </tr>\n",
       "    <tr>\n",
       "      <th>previous_cancellations</th>\n",
       "      <td>0.108711</td>\n",
       "      <td>0.088195</td>\n",
       "      <td>-0.120340</td>\n",
       "      <td>0.037553</td>\n",
       "      <td>-0.026721</td>\n",
       "      <td>-0.013111</td>\n",
       "      <td>-0.013421</td>\n",
       "      <td>-0.006149</td>\n",
       "      <td>-0.024539</td>\n",
       "      <td>-0.007478</td>\n",
       "      <td>...</td>\n",
       "      <td>-0.031771</td>\n",
       "      <td>-0.025502</td>\n",
       "      <td>0.026054</td>\n",
       "      <td>-0.003823</td>\n",
       "      <td>0.034045</td>\n",
       "      <td>0.019398</td>\n",
       "      <td>0.001500</td>\n",
       "      <td>-0.025167</td>\n",
       "      <td>0.017777</td>\n",
       "      <td>-0.019802</td>\n",
       "    </tr>\n",
       "    <tr>\n",
       "      <th>previous_bookings_not_canceled</th>\n",
       "      <td>-0.054476</td>\n",
       "      <td>-0.070304</td>\n",
       "      <td>0.030507</td>\n",
       "      <td>-0.016597</td>\n",
       "      <td>0.001217</td>\n",
       "      <td>-0.039324</td>\n",
       "      <td>-0.043848</td>\n",
       "      <td>-0.099572</td>\n",
       "      <td>-0.018844</td>\n",
       "      <td>-0.005751</td>\n",
       "      <td>...</td>\n",
       "      <td>0.018196</td>\n",
       "      <td>0.012964</td>\n",
       "      <td>-0.012738</td>\n",
       "      <td>-0.002547</td>\n",
       "      <td>-0.013440</td>\n",
       "      <td>0.020900</td>\n",
       "      <td>0.015436</td>\n",
       "      <td>-0.002427</td>\n",
       "      <td>-0.009300</td>\n",
       "      <td>0.042319</td>\n",
       "    </tr>\n",
       "    <tr>\n",
       "      <th>booking_changes</th>\n",
       "      <td>-0.143607</td>\n",
       "      <td>-0.004424</td>\n",
       "      <td>0.026006</td>\n",
       "      <td>0.002709</td>\n",
       "      <td>0.007124</td>\n",
       "      <td>0.063105</td>\n",
       "      <td>0.098032</td>\n",
       "      <td>-0.049818</td>\n",
       "      <td>0.049259</td>\n",
       "      <td>0.084595</td>\n",
       "      <td>...</td>\n",
       "      <td>0.802768</td>\n",
       "      <td>0.064225</td>\n",
       "      <td>-0.066080</td>\n",
       "      <td>0.013734</td>\n",
       "      <td>-0.016523</td>\n",
       "      <td>0.001852</td>\n",
       "      <td>0.001006</td>\n",
       "      <td>-0.014815</td>\n",
       "      <td>0.014729</td>\n",
       "      <td>0.065029</td>\n",
       "    </tr>\n",
       "    <tr>\n",
       "      <th>agent</th>\n",
       "      <td>-0.089626</td>\n",
       "      <td>-0.069444</td>\n",
       "      <td>0.075763</td>\n",
       "      <td>-0.027696</td>\n",
       "      <td>0.003891</td>\n",
       "      <td>0.142345</td>\n",
       "      <td>0.185653</td>\n",
       "      <td>-0.032222</td>\n",
       "      <td>0.045651</td>\n",
       "      <td>0.037098</td>\n",
       "      <td>...</td>\n",
       "      <td>0.091979</td>\n",
       "      <td>0.155891</td>\n",
       "      <td>-0.158349</td>\n",
       "      <td>0.023198</td>\n",
       "      <td>-0.069275</td>\n",
       "      <td>0.023259</td>\n",
       "      <td>0.017254</td>\n",
       "      <td>0.010375</td>\n",
       "      <td>-0.024093</td>\n",
       "      <td>0.179314</td>\n",
       "    </tr>\n",
       "    <tr>\n",
       "      <th>company</th>\n",
       "      <td>-0.027685</td>\n",
       "      <td>0.154419</td>\n",
       "      <td>0.266491</td>\n",
       "      <td>-0.081940</td>\n",
       "      <td>0.043804</td>\n",
       "      <td>0.067431</td>\n",
       "      <td>0.190066</td>\n",
       "      <td>0.213782</td>\n",
       "      <td>0.034876</td>\n",
       "      <td>0.019147</td>\n",
       "      <td>...</td>\n",
       "      <td>0.144483</td>\n",
       "      <td>0.121269</td>\n",
       "      <td>-0.135784</td>\n",
       "      <td>0.019432</td>\n",
       "      <td>0.035302</td>\n",
       "      <td>-0.070466</td>\n",
       "      <td>-0.030255</td>\n",
       "      <td>-0.004052</td>\n",
       "      <td>0.045103</td>\n",
       "      <td>-0.007366</td>\n",
       "    </tr>\n",
       "    <tr>\n",
       "      <th>days_in_waiting_list</th>\n",
       "      <td>0.052316</td>\n",
       "      <td>0.172531</td>\n",
       "      <td>-0.054709</td>\n",
       "      <td>0.023912</td>\n",
       "      <td>0.023333</td>\n",
       "      <td>-0.055036</td>\n",
       "      <td>-0.002045</td>\n",
       "      <td>-0.008597</td>\n",
       "      <td>-0.033369</td>\n",
       "      <td>-0.010742</td>\n",
       "      <td>...</td>\n",
       "      <td>-0.010026</td>\n",
       "      <td>-0.046960</td>\n",
       "      <td>0.047375</td>\n",
       "      <td>-0.001691</td>\n",
       "      <td>0.737864</td>\n",
       "      <td>-0.014214</td>\n",
       "      <td>-0.005456</td>\n",
       "      <td>-0.003170</td>\n",
       "      <td>0.010620</td>\n",
       "      <td>-0.032781</td>\n",
       "    </tr>\n",
       "    <tr>\n",
       "      <th>adr</th>\n",
       "      <td>0.057488</td>\n",
       "      <td>-0.072558</td>\n",
       "      <td>0.197613</td>\n",
       "      <td>0.074848</td>\n",
       "      <td>0.031718</td>\n",
       "      <td>0.051466</td>\n",
       "      <td>0.068219</td>\n",
       "      <td>0.231125</td>\n",
       "      <td>0.338436</td>\n",
       "      <td>0.030869</td>\n",
       "      <td>...</td>\n",
       "      <td>0.018349</td>\n",
       "      <td>0.020456</td>\n",
       "      <td>-0.018914</td>\n",
       "      <td>-0.014544</td>\n",
       "      <td>-0.043010</td>\n",
       "      <td>0.019820</td>\n",
       "      <td>-0.011174</td>\n",
       "      <td>0.039174</td>\n",
       "      <td>-0.048631</td>\n",
       "      <td>0.064357</td>\n",
       "    </tr>\n",
       "    <tr>\n",
       "      <th>required_car_parking_spaces</th>\n",
       "      <td>-0.199040</td>\n",
       "      <td>-0.117278</td>\n",
       "      <td>-0.012625</td>\n",
       "      <td>0.003147</td>\n",
       "      <td>0.009389</td>\n",
       "      <td>-0.019253</td>\n",
       "      <td>-0.026391</td>\n",
       "      <td>0.019271</td>\n",
       "      <td>0.059085</td>\n",
       "      <td>0.038863</td>\n",
       "      <td>...</td>\n",
       "      <td>0.073928</td>\n",
       "      <td>0.082846</td>\n",
       "      <td>-0.083373</td>\n",
       "      <td>0.001166</td>\n",
       "      <td>-0.043479</td>\n",
       "      <td>0.016230</td>\n",
       "      <td>0.019058</td>\n",
       "      <td>-0.018262</td>\n",
       "      <td>0.009007</td>\n",
       "      <td>0.998146</td>\n",
       "    </tr>\n",
       "    <tr>\n",
       "      <th>total_of_special_requests</th>\n",
       "      <td>-0.233793</td>\n",
       "      <td>-0.103540</td>\n",
       "      <td>0.100926</td>\n",
       "      <td>0.022501</td>\n",
       "      <td>0.002571</td>\n",
       "      <td>0.072823</td>\n",
       "      <td>0.067053</td>\n",
       "      <td>0.119134</td>\n",
       "      <td>0.081033</td>\n",
       "      <td>0.098821</td>\n",
       "      <td>...</td>\n",
       "      <td>0.045949</td>\n",
       "      <td>0.134176</td>\n",
       "      <td>-0.133812</td>\n",
       "      <td>-0.008909</td>\n",
       "      <td>-0.112576</td>\n",
       "      <td>0.001509</td>\n",
       "      <td>0.006542</td>\n",
       "      <td>0.013019</td>\n",
       "      <td>-0.015558</td>\n",
       "      <td>0.083018</td>\n",
       "    </tr>\n",
       "    <tr>\n",
       "      <th>hotel_class</th>\n",
       "      <td>0.143499</td>\n",
       "      <td>0.066409</td>\n",
       "      <td>0.019361</td>\n",
       "      <td>-0.005525</td>\n",
       "      <td>-0.004092</td>\n",
       "      <td>-0.193625</td>\n",
       "      <td>-0.241971</td>\n",
       "      <td>-0.024148</td>\n",
       "      <td>-0.050602</td>\n",
       "      <td>-0.044664</td>\n",
       "      <td>...</td>\n",
       "      <td>-0.091904</td>\n",
       "      <td>-0.177423</td>\n",
       "      <td>0.183031</td>\n",
       "      <td>-0.042223</td>\n",
       "      <td>0.102528</td>\n",
       "      <td>-0.039864</td>\n",
       "      <td>-0.022968</td>\n",
       "      <td>0.016906</td>\n",
       "      <td>0.003655</td>\n",
       "      <td>-0.218287</td>\n",
       "    </tr>\n",
       "    <tr>\n",
       "      <th>month_class</th>\n",
       "      <td>0.071453</td>\n",
       "      <td>0.255962</td>\n",
       "      <td>-0.059290</td>\n",
       "      <td>0.208559</td>\n",
       "      <td>-0.000287</td>\n",
       "      <td>0.062098</td>\n",
       "      <td>0.049756</td>\n",
       "      <td>0.099427</td>\n",
       "      <td>0.039181</td>\n",
       "      <td>0.001972</td>\n",
       "      <td>...</td>\n",
       "      <td>-0.017146</td>\n",
       "      <td>-0.041245</td>\n",
       "      <td>0.043198</td>\n",
       "      <td>-0.015578</td>\n",
       "      <td>-0.002427</td>\n",
       "      <td>0.083949</td>\n",
       "      <td>-0.005087</td>\n",
       "      <td>-0.062225</td>\n",
       "      <td>0.029267</td>\n",
       "      <td>-0.014156</td>\n",
       "    </tr>\n",
       "    <tr>\n",
       "      <th>children_baby</th>\n",
       "      <td>-0.000128</td>\n",
       "      <td>-0.044287</td>\n",
       "      <td>0.045749</td>\n",
       "      <td>0.006007</td>\n",
       "      <td>0.014605</td>\n",
       "      <td>0.049439</td>\n",
       "      <td>0.049549</td>\n",
       "      <td>0.033031</td>\n",
       "      <td>0.971223</td>\n",
       "      <td>0.261360</td>\n",
       "      <td>...</td>\n",
       "      <td>0.079526</td>\n",
       "      <td>0.032978</td>\n",
       "      <td>-0.033538</td>\n",
       "      <td>0.003565</td>\n",
       "      <td>-0.047110</td>\n",
       "      <td>0.008980</td>\n",
       "      <td>-0.000969</td>\n",
       "      <td>0.013755</td>\n",
       "      <td>-0.018461</td>\n",
       "      <td>0.066118</td>\n",
       "    </tr>\n",
       "    <tr>\n",
       "      <th>country_prt</th>\n",
       "      <td>0.335370</td>\n",
       "      <td>0.097822</td>\n",
       "      <td>-0.186748</td>\n",
       "      <td>0.030182</td>\n",
       "      <td>0.003977</td>\n",
       "      <td>-0.159414</td>\n",
       "      <td>-0.143288</td>\n",
       "      <td>-0.117743</td>\n",
       "      <td>-0.066821</td>\n",
       "      <td>0.009238</td>\n",
       "      <td>...</td>\n",
       "      <td>-0.067126</td>\n",
       "      <td>-0.141502</td>\n",
       "      <td>0.142120</td>\n",
       "      <td>0.000508</td>\n",
       "      <td>0.132228</td>\n",
       "      <td>0.017630</td>\n",
       "      <td>0.000631</td>\n",
       "      <td>-0.027638</td>\n",
       "      <td>0.021332</td>\n",
       "      <td>0.002548</td>\n",
       "    </tr>\n",
       "    <tr>\n",
       "      <th>distribution_channel_class</th>\n",
       "      <td>0.175203</td>\n",
       "      <td>0.217204</td>\n",
       "      <td>0.014756</td>\n",
       "      <td>0.007604</td>\n",
       "      <td>-0.001789</td>\n",
       "      <td>0.084389</td>\n",
       "      <td>0.077643</td>\n",
       "      <td>0.138777</td>\n",
       "      <td>-0.006999</td>\n",
       "      <td>-0.035890</td>\n",
       "      <td>...</td>\n",
       "      <td>-0.144994</td>\n",
       "      <td>-0.073370</td>\n",
       "      <td>0.077482</td>\n",
       "      <td>-0.033367</td>\n",
       "      <td>0.062631</td>\n",
       "      <td>-0.012230</td>\n",
       "      <td>-0.015629</td>\n",
       "      <td>0.023436</td>\n",
       "      <td>-0.016848</td>\n",
       "      <td>-0.137958</td>\n",
       "    </tr>\n",
       "    <tr>\n",
       "      <th>previous_cancellations_class</th>\n",
       "      <td>0.271086</td>\n",
       "      <td>0.214599</td>\n",
       "      <td>-0.271851</td>\n",
       "      <td>0.086222</td>\n",
       "      <td>-0.011287</td>\n",
       "      <td>-0.054915</td>\n",
       "      <td>-0.058322</td>\n",
       "      <td>-0.029660</td>\n",
       "      <td>-0.054594</td>\n",
       "      <td>-0.016179</td>\n",
       "      <td>...</td>\n",
       "      <td>-0.074083</td>\n",
       "      <td>-0.131445</td>\n",
       "      <td>0.133080</td>\n",
       "      <td>-0.008938</td>\n",
       "      <td>0.118153</td>\n",
       "      <td>0.040745</td>\n",
       "      <td>0.009530</td>\n",
       "      <td>-0.097792</td>\n",
       "      <td>0.083982</td>\n",
       "      <td>-0.048051</td>\n",
       "    </tr>\n",
       "    <tr>\n",
       "      <th>reserved_equal_assigned</th>\n",
       "      <td>0.251126</td>\n",
       "      <td>0.138485</td>\n",
       "      <td>0.096191</td>\n",
       "      <td>-0.011820</td>\n",
       "      <td>0.004307</td>\n",
       "      <td>0.073380</td>\n",
       "      <td>0.088426</td>\n",
       "      <td>0.053280</td>\n",
       "      <td>0.011453</td>\n",
       "      <td>-0.020198</td>\n",
       "      <td>...</td>\n",
       "      <td>-0.117147</td>\n",
       "      <td>-0.094421</td>\n",
       "      <td>0.096404</td>\n",
       "      <td>-0.013586</td>\n",
       "      <td>0.018081</td>\n",
       "      <td>-0.011986</td>\n",
       "      <td>-0.013504</td>\n",
       "      <td>0.040988</td>\n",
       "      <td>-0.035931</td>\n",
       "      <td>-0.076501</td>\n",
       "    </tr>\n",
       "    <tr>\n",
       "      <th>booking_changes_class</th>\n",
       "      <td>-0.186280</td>\n",
       "      <td>-0.017652</td>\n",
       "      <td>0.014781</td>\n",
       "      <td>0.004392</td>\n",
       "      <td>0.008167</td>\n",
       "      <td>0.043979</td>\n",
       "      <td>0.066017</td>\n",
       "      <td>-0.068569</td>\n",
       "      <td>0.054823</td>\n",
       "      <td>0.111622</td>\n",
       "      <td>...</td>\n",
       "      <td>1.000000</td>\n",
       "      <td>0.083186</td>\n",
       "      <td>-0.085733</td>\n",
       "      <td>0.019062</td>\n",
       "      <td>-0.018317</td>\n",
       "      <td>0.003479</td>\n",
       "      <td>0.004475</td>\n",
       "      <td>-0.024584</td>\n",
       "      <td>0.023803</td>\n",
       "      <td>0.073893</td>\n",
       "    </tr>\n",
       "    <tr>\n",
       "      <th>No_Deposit</th>\n",
       "      <td>-0.356151</td>\n",
       "      <td>-0.165523</td>\n",
       "      <td>0.044743</td>\n",
       "      <td>-0.013951</td>\n",
       "      <td>0.001141</td>\n",
       "      <td>0.053912</td>\n",
       "      <td>0.051753</td>\n",
       "      <td>-0.004313</td>\n",
       "      <td>0.029699</td>\n",
       "      <td>0.018064</td>\n",
       "      <td>...</td>\n",
       "      <td>0.083186</td>\n",
       "      <td>1.000000</td>\n",
       "      <td>-0.993686</td>\n",
       "      <td>-0.098343</td>\n",
       "      <td>-0.061822</td>\n",
       "      <td>-0.006296</td>\n",
       "      <td>0.022088</td>\n",
       "      <td>-0.109295</td>\n",
       "      <td>0.115212</td>\n",
       "      <td>0.083062</td>\n",
       "    </tr>\n",
       "    <tr>\n",
       "      <th>Non_Refund</th>\n",
       "      <td>0.358809</td>\n",
       "      <td>0.165545</td>\n",
       "      <td>-0.045005</td>\n",
       "      <td>0.016271</td>\n",
       "      <td>-0.003985</td>\n",
       "      <td>-0.053994</td>\n",
       "      <td>-0.052731</td>\n",
       "      <td>0.004303</td>\n",
       "      <td>-0.030077</td>\n",
       "      <td>-0.018879</td>\n",
       "      <td>...</td>\n",
       "      <td>-0.085733</td>\n",
       "      <td>-0.993686</td>\n",
       "      <td>1.000000</td>\n",
       "      <td>-0.013935</td>\n",
       "      <td>0.062574</td>\n",
       "      <td>0.006833</td>\n",
       "      <td>-0.025062</td>\n",
       "      <td>0.115856</td>\n",
       "      <td>-0.121931</td>\n",
       "      <td>-0.083595</td>\n",
       "    </tr>\n",
       "    <tr>\n",
       "      <th>Refundable</th>\n",
       "      <td>-0.008494</td>\n",
       "      <td>0.006812</td>\n",
       "      <td>0.000428</td>\n",
       "      <td>-0.019989</td>\n",
       "      <td>0.025169</td>\n",
       "      <td>-0.001554</td>\n",
       "      <td>0.006487</td>\n",
       "      <td>0.000271</td>\n",
       "      <td>0.002098</td>\n",
       "      <td>0.006462</td>\n",
       "      <td>...</td>\n",
       "      <td>0.019062</td>\n",
       "      <td>-0.098343</td>\n",
       "      <td>-0.013935</td>\n",
       "      <td>1.000000</td>\n",
       "      <td>-0.004052</td>\n",
       "      <td>-0.004492</td>\n",
       "      <td>0.025443</td>\n",
       "      <td>-0.053570</td>\n",
       "      <td>0.054718</td>\n",
       "      <td>0.001205</td>\n",
       "    </tr>\n",
       "    <tr>\n",
       "      <th>have_days_in_wl</th>\n",
       "      <td>0.096813</td>\n",
       "      <td>0.142025</td>\n",
       "      <td>-0.074740</td>\n",
       "      <td>-0.002535</td>\n",
       "      <td>0.033003</td>\n",
       "      <td>-0.072794</td>\n",
       "      <td>-0.011716</td>\n",
       "      <td>-0.033097</td>\n",
       "      <td>-0.045525</td>\n",
       "      <td>-0.013243</td>\n",
       "      <td>...</td>\n",
       "      <td>-0.018317</td>\n",
       "      <td>-0.061822</td>\n",
       "      <td>0.062574</td>\n",
       "      <td>-0.004052</td>\n",
       "      <td>1.000000</td>\n",
       "      <td>-0.008612</td>\n",
       "      <td>-0.003179</td>\n",
       "      <td>-0.017389</td>\n",
       "      <td>0.022830</td>\n",
       "      <td>-0.043552</td>\n",
       "    </tr>\n",
       "    <tr>\n",
       "      <th>Contract</th>\n",
       "      <td>-0.000294</td>\n",
       "      <td>-0.002551</td>\n",
       "      <td>-0.068362</td>\n",
       "      <td>0.057279</td>\n",
       "      <td>0.003053</td>\n",
       "      <td>0.021552</td>\n",
       "      <td>0.034124</td>\n",
       "      <td>0.005767</td>\n",
       "      <td>0.006225</td>\n",
       "      <td>0.012465</td>\n",
       "      <td>...</td>\n",
       "      <td>0.003479</td>\n",
       "      <td>-0.006296</td>\n",
       "      <td>0.006833</td>\n",
       "      <td>-0.004492</td>\n",
       "      <td>-0.008612</td>\n",
       "      <td>1.000000</td>\n",
       "      <td>-0.012647</td>\n",
       "      <td>-0.327779</td>\n",
       "      <td>-0.097959</td>\n",
       "      <td>0.016291</td>\n",
       "    </tr>\n",
       "    <tr>\n",
       "      <th>Group</th>\n",
       "      <td>-0.031994</td>\n",
       "      <td>-0.018650</td>\n",
       "      <td>-0.028865</td>\n",
       "      <td>0.014693</td>\n",
       "      <td>-0.002700</td>\n",
       "      <td>0.001235</td>\n",
       "      <td>-0.004734</td>\n",
       "      <td>-0.001761</td>\n",
       "      <td>-0.002597</td>\n",
       "      <td>0.006459</td>\n",
       "      <td>...</td>\n",
       "      <td>0.004475</td>\n",
       "      <td>0.022088</td>\n",
       "      <td>-0.025062</td>\n",
       "      <td>0.025443</td>\n",
       "      <td>-0.003179</td>\n",
       "      <td>-0.012647</td>\n",
       "      <td>1.000000</td>\n",
       "      <td>-0.115626</td>\n",
       "      <td>-0.034556</td>\n",
       "      <td>0.019220</td>\n",
       "    </tr>\n",
       "    <tr>\n",
       "      <th>Transient</th>\n",
       "      <td>0.087912</td>\n",
       "      <td>0.005078</td>\n",
       "      <td>0.158113</td>\n",
       "      <td>-0.062873</td>\n",
       "      <td>0.001996</td>\n",
       "      <td>0.010556</td>\n",
       "      <td>0.013041</td>\n",
       "      <td>0.006578</td>\n",
       "      <td>0.014838</td>\n",
       "      <td>-0.002402</td>\n",
       "      <td>...</td>\n",
       "      <td>-0.024584</td>\n",
       "      <td>-0.109295</td>\n",
       "      <td>0.115856</td>\n",
       "      <td>-0.053570</td>\n",
       "      <td>-0.017389</td>\n",
       "      <td>-0.327779</td>\n",
       "      <td>-0.115626</td>\n",
       "      <td>1.000000</td>\n",
       "      <td>-0.895623</td>\n",
       "      <td>-0.018382</td>\n",
       "    </tr>\n",
       "    <tr>\n",
       "      <th>Transient-Party</th>\n",
       "      <td>-0.087953</td>\n",
       "      <td>-0.001207</td>\n",
       "      <td>-0.132479</td>\n",
       "      <td>0.038677</td>\n",
       "      <td>-0.003046</td>\n",
       "      <td>-0.021057</td>\n",
       "      <td>-0.028352</td>\n",
       "      <td>-0.009277</td>\n",
       "      <td>-0.018112</td>\n",
       "      <td>-0.004086</td>\n",
       "      <td>...</td>\n",
       "      <td>0.023803</td>\n",
       "      <td>0.115212</td>\n",
       "      <td>-0.121931</td>\n",
       "      <td>0.054718</td>\n",
       "      <td>0.022830</td>\n",
       "      <td>-0.097959</td>\n",
       "      <td>-0.034556</td>\n",
       "      <td>-0.895623</td>\n",
       "      <td>1.000000</td>\n",
       "      <td>0.009080</td>\n",
       "    </tr>\n",
       "    <tr>\n",
       "      <th>required_car_parking_spaces_class</th>\n",
       "      <td>-0.199410</td>\n",
       "      <td>-0.117828</td>\n",
       "      <td>-0.012920</td>\n",
       "      <td>0.003600</td>\n",
       "      <td>0.009142</td>\n",
       "      <td>-0.019709</td>\n",
       "      <td>-0.026749</td>\n",
       "      <td>0.018968</td>\n",
       "      <td>0.058910</td>\n",
       "      <td>0.038778</td>\n",
       "      <td>...</td>\n",
       "      <td>0.073893</td>\n",
       "      <td>0.083062</td>\n",
       "      <td>-0.083595</td>\n",
       "      <td>0.001205</td>\n",
       "      <td>-0.043552</td>\n",
       "      <td>0.016291</td>\n",
       "      <td>0.019220</td>\n",
       "      <td>-0.018382</td>\n",
       "      <td>0.009080</td>\n",
       "      <td>1.000000</td>\n",
       "    </tr>\n",
       "  </tbody>\n",
       "</table>\n",
       "<p>37 rows × 37 columns</p>\n",
       "</div>"
      ],
      "text/plain": [
       "                                   is_canceled  lead_time  arrival_date_year  \\\n",
       "is_canceled                           1.000000   0.302014           0.034337   \n",
       "lead_time                             0.302014   1.000000           0.033543   \n",
       "arrival_date_year                     0.034337   0.033543           1.000000   \n",
       "arrival_date_week_number              0.013073   0.125083          -0.557880   \n",
       "arrival_date_day_of_month            -0.003738  -0.000249          -0.004127   \n",
       "stays_in_weekend_nights              -0.002997   0.082665           0.021597   \n",
       "stays_in_week_nights                  0.023442   0.164815           0.032600   \n",
       "adults                                0.059896   0.116490           0.025538   \n",
       "children                              0.008077  -0.040639           0.050670   \n",
       "babies                               -0.033271  -0.021195          -0.013320   \n",
       "is_repeated_guest                    -0.088764  -0.125945           0.013660   \n",
       "previous_cancellations                0.108711   0.088195          -0.120340   \n",
       "previous_bookings_not_canceled       -0.054476  -0.070304           0.030507   \n",
       "booking_changes                      -0.143607  -0.004424           0.026006   \n",
       "agent                                -0.089626  -0.069444           0.075763   \n",
       "company                              -0.027685   0.154419           0.266491   \n",
       "days_in_waiting_list                  0.052316   0.172531          -0.054709   \n",
       "adr                                   0.057488  -0.072558           0.197613   \n",
       "required_car_parking_spaces          -0.199040  -0.117278          -0.012625   \n",
       "total_of_special_requests            -0.233793  -0.103540           0.100926   \n",
       "hotel_class                           0.143499   0.066409           0.019361   \n",
       "month_class                           0.071453   0.255962          -0.059290   \n",
       "children_baby                        -0.000128  -0.044287           0.045749   \n",
       "country_prt                           0.335370   0.097822          -0.186748   \n",
       "distribution_channel_class            0.175203   0.217204           0.014756   \n",
       "previous_cancellations_class          0.271086   0.214599          -0.271851   \n",
       "reserved_equal_assigned               0.251126   0.138485           0.096191   \n",
       "booking_changes_class                -0.186280  -0.017652           0.014781   \n",
       "No_Deposit                           -0.356151  -0.165523           0.044743   \n",
       "Non_Refund                            0.358809   0.165545          -0.045005   \n",
       "Refundable                           -0.008494   0.006812           0.000428   \n",
       "have_days_in_wl                       0.096813   0.142025          -0.074740   \n",
       "Contract                             -0.000294  -0.002551          -0.068362   \n",
       "Group                                -0.031994  -0.018650          -0.028865   \n",
       "Transient                             0.087912   0.005078           0.158113   \n",
       "Transient-Party                      -0.087953  -0.001207          -0.132479   \n",
       "required_car_parking_spaces_class    -0.199410  -0.117828          -0.012920   \n",
       "\n",
       "                                   arrival_date_week_number  \\\n",
       "is_canceled                                        0.013073   \n",
       "lead_time                                          0.125083   \n",
       "arrival_date_year                                 -0.557880   \n",
       "arrival_date_week_number                           1.000000   \n",
       "arrival_date_day_of_month                          0.064778   \n",
       "stays_in_weekend_nights                            0.017300   \n",
       "stays_in_week_nights                               0.014554   \n",
       "adults                                             0.023822   \n",
       "children                                           0.003750   \n",
       "babies                                             0.010016   \n",
       "is_repeated_guest                                 -0.029223   \n",
       "previous_cancellations                             0.037553   \n",
       "previous_bookings_not_canceled                    -0.016597   \n",
       "booking_changes                                    0.002709   \n",
       "agent                                             -0.027696   \n",
       "company                                           -0.081940   \n",
       "days_in_waiting_list                               0.023912   \n",
       "adr                                                0.074848   \n",
       "required_car_parking_spaces                        0.003147   \n",
       "total_of_special_requests                          0.022501   \n",
       "hotel_class                                       -0.005525   \n",
       "month_class                                        0.208559   \n",
       "children_baby                                      0.006007   \n",
       "country_prt                                        0.030182   \n",
       "distribution_channel_class                         0.007604   \n",
       "previous_cancellations_class                       0.086222   \n",
       "reserved_equal_assigned                           -0.011820   \n",
       "booking_changes_class                              0.004392   \n",
       "No_Deposit                                        -0.013951   \n",
       "Non_Refund                                         0.016271   \n",
       "Refundable                                        -0.019989   \n",
       "have_days_in_wl                                   -0.002535   \n",
       "Contract                                           0.057279   \n",
       "Group                                              0.014693   \n",
       "Transient                                         -0.062873   \n",
       "Transient-Party                                    0.038677   \n",
       "required_car_parking_spaces_class                  0.003600   \n",
       "\n",
       "                                   arrival_date_day_of_month  \\\n",
       "is_canceled                                        -0.003738   \n",
       "lead_time                                          -0.000249   \n",
       "arrival_date_year                                  -0.004127   \n",
       "arrival_date_week_number                            0.064778   \n",
       "arrival_date_day_of_month                           1.000000   \n",
       "stays_in_weekend_nights                            -0.017317   \n",
       "stays_in_week_nights                               -0.028128   \n",
       "adults                                              0.001033   \n",
       "children                                            0.015179   \n",
       "babies                                             -0.000213   \n",
       "is_repeated_guest                                  -0.005847   \n",
       "previous_cancellations                             -0.026721   \n",
       "previous_bookings_not_canceled                      0.001217   \n",
       "booking_changes                                     0.007124   \n",
       "agent                                               0.003891   \n",
       "company                                             0.043804   \n",
       "days_in_waiting_list                                0.023333   \n",
       "adr                                                 0.031718   \n",
       "required_car_parking_spaces                         0.009389   \n",
       "total_of_special_requests                           0.002571   \n",
       "hotel_class                                        -0.004092   \n",
       "month_class                                        -0.000287   \n",
       "children_baby                                       0.014605   \n",
       "country_prt                                         0.003977   \n",
       "distribution_channel_class                         -0.001789   \n",
       "previous_cancellations_class                       -0.011287   \n",
       "reserved_equal_assigned                             0.004307   \n",
       "booking_changes_class                               0.008167   \n",
       "No_Deposit                                          0.001141   \n",
       "Non_Refund                                         -0.003985   \n",
       "Refundable                                          0.025169   \n",
       "have_days_in_wl                                     0.033003   \n",
       "Contract                                            0.003053   \n",
       "Group                                              -0.002700   \n",
       "Transient                                           0.001996   \n",
       "Transient-Party                                    -0.003046   \n",
       "required_car_parking_spaces_class                   0.009142   \n",
       "\n",
       "                                   stays_in_weekend_nights  \\\n",
       "is_canceled                                      -0.002997   \n",
       "lead_time                                         0.082665   \n",
       "arrival_date_year                                 0.021597   \n",
       "arrival_date_week_number                          0.017300   \n",
       "arrival_date_day_of_month                        -0.017317   \n",
       "stays_in_weekend_nights                           1.000000   \n",
       "stays_in_week_nights                              0.496069   \n",
       "adults                                            0.090426   \n",
       "children                                          0.046682   \n",
       "babies                                            0.018328   \n",
       "is_repeated_guest                                -0.088832   \n",
       "previous_cancellations                           -0.013111   \n",
       "previous_bookings_not_canceled                   -0.039324   \n",
       "booking_changes                                   0.063105   \n",
       "agent                                             0.142345   \n",
       "company                                           0.067431   \n",
       "days_in_waiting_list                             -0.055036   \n",
       "adr                                               0.051466   \n",
       "required_car_parking_spaces                      -0.019253   \n",
       "total_of_special_requests                         0.072823   \n",
       "hotel_class                                      -0.193625   \n",
       "month_class                                       0.062098   \n",
       "children_baby                                     0.049439   \n",
       "country_prt                                      -0.159414   \n",
       "distribution_channel_class                        0.084389   \n",
       "previous_cancellations_class                     -0.054915   \n",
       "reserved_equal_assigned                           0.073380   \n",
       "booking_changes_class                             0.043979   \n",
       "No_Deposit                                        0.053912   \n",
       "Non_Refund                                       -0.053994   \n",
       "Refundable                                       -0.001554   \n",
       "have_days_in_wl                                  -0.072794   \n",
       "Contract                                          0.021552   \n",
       "Group                                             0.001235   \n",
       "Transient                                         0.010556   \n",
       "Transient-Party                                  -0.021057   \n",
       "required_car_parking_spaces_class                -0.019709   \n",
       "\n",
       "                                   stays_in_week_nights    adults  children  \\\n",
       "is_canceled                                    0.023442  0.059896  0.008077   \n",
       "lead_time                                      0.164815  0.116490 -0.040639   \n",
       "arrival_date_year                              0.032600  0.025538  0.050670   \n",
       "arrival_date_week_number                       0.014554  0.023822  0.003750   \n",
       "arrival_date_day_of_month                     -0.028128  0.001033  0.015179   \n",
       "stays_in_weekend_nights                        0.496069  0.090426  0.046682   \n",
       "stays_in_week_nights                           1.000000  0.091629  0.046259   \n",
       "adults                                         0.091629  1.000000  0.029798   \n",
       "children                                       0.046259  0.029798  1.000000   \n",
       "babies                                         0.020507  0.017883  0.023945   \n",
       "is_repeated_guest                             -0.099168 -0.149061 -0.033275   \n",
       "previous_cancellations                        -0.013421 -0.006149 -0.024539   \n",
       "previous_bookings_not_canceled                -0.043848 -0.099572 -0.018844   \n",
       "booking_changes                                0.098032 -0.049818  0.049259   \n",
       "agent                                          0.185653 -0.032222  0.045651   \n",
       "company                                        0.190066  0.213782  0.034876   \n",
       "days_in_waiting_list                          -0.002045 -0.008597 -0.033369   \n",
       "adr                                            0.068219  0.231125  0.338436   \n",
       "required_car_parking_spaces                   -0.026391  0.019271  0.059085   \n",
       "total_of_special_requests                      0.067053  0.119134  0.081033   \n",
       "hotel_class                                   -0.241971 -0.024148 -0.050602   \n",
       "month_class                                    0.049756  0.099427  0.039181   \n",
       "children_baby                                  0.049549  0.033031  0.971223   \n",
       "country_prt                                   -0.143288 -0.117743 -0.066821   \n",
       "distribution_channel_class                     0.077643  0.138777 -0.006999   \n",
       "previous_cancellations_class                  -0.058322 -0.029660 -0.054594   \n",
       "reserved_equal_assigned                        0.088426  0.053280  0.011453   \n",
       "booking_changes_class                          0.066017 -0.068569  0.054823   \n",
       "No_Deposit                                     0.051753 -0.004313  0.029699   \n",
       "Non_Refund                                    -0.052731  0.004303 -0.030077   \n",
       "Refundable                                     0.006487  0.000271  0.002098   \n",
       "have_days_in_wl                               -0.011716 -0.033097 -0.045525   \n",
       "Contract                                       0.034124  0.005767  0.006225   \n",
       "Group                                         -0.004734 -0.001761 -0.002597   \n",
       "Transient                                      0.013041  0.006578  0.014838   \n",
       "Transient-Party                               -0.028352 -0.009277 -0.018112   \n",
       "required_car_parking_spaces_class             -0.026749  0.018968  0.058910   \n",
       "\n",
       "                                     babies  ...  booking_changes_class  \\\n",
       "is_canceled                       -0.033271  ...              -0.186280   \n",
       "lead_time                         -0.021195  ...              -0.017652   \n",
       "arrival_date_year                 -0.013320  ...               0.014781   \n",
       "arrival_date_week_number           0.010016  ...               0.004392   \n",
       "arrival_date_day_of_month         -0.000213  ...               0.008167   \n",
       "stays_in_weekend_nights            0.018328  ...               0.043979   \n",
       "stays_in_week_nights               0.020507  ...               0.066017   \n",
       "adults                             0.017883  ...              -0.068569   \n",
       "children                           0.023945  ...               0.054823   \n",
       "babies                             1.000000  ...               0.111622   \n",
       "is_repeated_guest                 -0.009064  ...               0.020038   \n",
       "previous_cancellations            -0.007478  ...              -0.031771   \n",
       "previous_bookings_not_canceled    -0.005751  ...               0.018196   \n",
       "booking_changes                    0.084595  ...               0.802768   \n",
       "agent                              0.037098  ...               0.091979   \n",
       "company                            0.019147  ...               0.144483   \n",
       "days_in_waiting_list              -0.010742  ...              -0.010026   \n",
       "adr                                0.030869  ...               0.018349   \n",
       "required_car_parking_spaces        0.038863  ...               0.073928   \n",
       "total_of_special_requests          0.098821  ...               0.045949   \n",
       "hotel_class                       -0.044664  ...              -0.091904   \n",
       "month_class                        0.001972  ...              -0.017146   \n",
       "children_baby                      0.261360  ...               0.079526   \n",
       "country_prt                        0.009238  ...              -0.067126   \n",
       "distribution_channel_class        -0.035890  ...              -0.144994   \n",
       "previous_cancellations_class      -0.016179  ...              -0.074083   \n",
       "reserved_equal_assigned           -0.020198  ...              -0.117147   \n",
       "booking_changes_class              0.111622  ...               1.000000   \n",
       "No_Deposit                         0.018064  ...               0.083186   \n",
       "Non_Refund                        -0.018879  ...              -0.085733   \n",
       "Refundable                         0.006462  ...               0.019062   \n",
       "have_days_in_wl                   -0.013243  ...              -0.018317   \n",
       "Contract                           0.012465  ...               0.003479   \n",
       "Group                              0.006459  ...               0.004475   \n",
       "Transient                         -0.002402  ...              -0.024584   \n",
       "Transient-Party                   -0.004086  ...               0.023803   \n",
       "required_car_parking_spaces_class  0.038778  ...               0.073893   \n",
       "\n",
       "                                   No_Deposit  Non_Refund  Refundable  \\\n",
       "is_canceled                         -0.356151    0.358809   -0.008494   \n",
       "lead_time                           -0.165523    0.165545    0.006812   \n",
       "arrival_date_year                    0.044743   -0.045005    0.000428   \n",
       "arrival_date_week_number            -0.013951    0.016271   -0.019989   \n",
       "arrival_date_day_of_month            0.001141   -0.003985    0.025169   \n",
       "stays_in_weekend_nights              0.053912   -0.053994   -0.001554   \n",
       "stays_in_week_nights                 0.051753   -0.052731    0.006487   \n",
       "adults                              -0.004313    0.004303    0.000271   \n",
       "children                             0.029699   -0.030077    0.002098   \n",
       "babies                               0.018064   -0.018879    0.006462   \n",
       "is_repeated_guest                    0.022475   -0.022255   -0.002904   \n",
       "previous_cancellations              -0.025502    0.026054   -0.003823   \n",
       "previous_bookings_not_canceled       0.012964   -0.012738   -0.002547   \n",
       "booking_changes                      0.064225   -0.066080    0.013734   \n",
       "agent                                0.155891   -0.158349    0.023198   \n",
       "company                              0.121269   -0.135784    0.019432   \n",
       "days_in_waiting_list                -0.046960    0.047375   -0.001691   \n",
       "adr                                  0.020456   -0.018914   -0.014544   \n",
       "required_car_parking_spaces          0.082846   -0.083373    0.001166   \n",
       "total_of_special_requests            0.134176   -0.133812   -0.008909   \n",
       "hotel_class                         -0.177423    0.183031   -0.042223   \n",
       "month_class                         -0.041245    0.043198   -0.015578   \n",
       "children_baby                        0.032978   -0.033538    0.003565   \n",
       "country_prt                         -0.141502    0.142120    0.000508   \n",
       "distribution_channel_class          -0.073370    0.077482   -0.033367   \n",
       "previous_cancellations_class        -0.131445    0.133080   -0.008938   \n",
       "reserved_equal_assigned             -0.094421    0.096404   -0.013586   \n",
       "booking_changes_class                0.083186   -0.085733    0.019062   \n",
       "No_Deposit                           1.000000   -0.993686   -0.098343   \n",
       "Non_Refund                          -0.993686    1.000000   -0.013935   \n",
       "Refundable                          -0.098343   -0.013935    1.000000   \n",
       "have_days_in_wl                     -0.061822    0.062574   -0.004052   \n",
       "Contract                            -0.006296    0.006833   -0.004492   \n",
       "Group                                0.022088   -0.025062    0.025443   \n",
       "Transient                           -0.109295    0.115856   -0.053570   \n",
       "Transient-Party                      0.115212   -0.121931    0.054718   \n",
       "required_car_parking_spaces_class    0.083062   -0.083595    0.001205   \n",
       "\n",
       "                                   have_days_in_wl  Contract     Group  \\\n",
       "is_canceled                               0.096813 -0.000294 -0.031994   \n",
       "lead_time                                 0.142025 -0.002551 -0.018650   \n",
       "arrival_date_year                        -0.074740 -0.068362 -0.028865   \n",
       "arrival_date_week_number                 -0.002535  0.057279  0.014693   \n",
       "arrival_date_day_of_month                 0.033003  0.003053 -0.002700   \n",
       "stays_in_weekend_nights                  -0.072794  0.021552  0.001235   \n",
       "stays_in_week_nights                     -0.011716  0.034124 -0.004734   \n",
       "adults                                   -0.033097  0.005767 -0.001761   \n",
       "children                                 -0.045525  0.006225 -0.002597   \n",
       "babies                                   -0.013243  0.012465  0.006459   \n",
       "is_repeated_guest                        -0.028467  0.035168  0.018322   \n",
       "previous_cancellations                    0.034045  0.019398  0.001500   \n",
       "previous_bookings_not_canceled           -0.013440  0.020900  0.015436   \n",
       "booking_changes                          -0.016523  0.001852  0.001006   \n",
       "agent                                    -0.069275  0.023259  0.017254   \n",
       "company                                   0.035302 -0.070466 -0.030255   \n",
       "days_in_waiting_list                      0.737864 -0.014214 -0.005456   \n",
       "adr                                      -0.043010  0.019820 -0.011174   \n",
       "required_car_parking_spaces              -0.043479  0.016230  0.019058   \n",
       "total_of_special_requests                -0.112576  0.001509  0.006542   \n",
       "hotel_class                               0.102528 -0.039864 -0.022968   \n",
       "month_class                              -0.002427  0.083949 -0.005087   \n",
       "children_baby                            -0.047110  0.008980 -0.000969   \n",
       "country_prt                               0.132228  0.017630  0.000631   \n",
       "distribution_channel_class                0.062631 -0.012230 -0.015629   \n",
       "previous_cancellations_class              0.118153  0.040745  0.009530   \n",
       "reserved_equal_assigned                   0.018081 -0.011986 -0.013504   \n",
       "booking_changes_class                    -0.018317  0.003479  0.004475   \n",
       "No_Deposit                               -0.061822 -0.006296  0.022088   \n",
       "Non_Refund                                0.062574  0.006833 -0.025062   \n",
       "Refundable                               -0.004052 -0.004492  0.025443   \n",
       "have_days_in_wl                           1.000000 -0.008612 -0.003179   \n",
       "Contract                                 -0.008612  1.000000 -0.012647   \n",
       "Group                                    -0.003179 -0.012647  1.000000   \n",
       "Transient                                -0.017389 -0.327779 -0.115626   \n",
       "Transient-Party                           0.022830 -0.097959 -0.034556   \n",
       "required_car_parking_spaces_class        -0.043552  0.016291  0.019220   \n",
       "\n",
       "                                   Transient  Transient-Party  \\\n",
       "is_canceled                         0.087912        -0.087953   \n",
       "lead_time                           0.005078        -0.001207   \n",
       "arrival_date_year                   0.158113        -0.132479   \n",
       "arrival_date_week_number           -0.062873         0.038677   \n",
       "arrival_date_day_of_month           0.001996        -0.003046   \n",
       "stays_in_weekend_nights             0.010556        -0.021057   \n",
       "stays_in_week_nights                0.013041        -0.028352   \n",
       "adults                              0.006578        -0.009277   \n",
       "children                            0.014838        -0.018112   \n",
       "babies                             -0.002402        -0.004086   \n",
       "is_repeated_guest                  -0.010288        -0.007818   \n",
       "previous_cancellations             -0.025167         0.017777   \n",
       "previous_bookings_not_canceled     -0.002427        -0.009300   \n",
       "booking_changes                    -0.014815         0.014729   \n",
       "agent                               0.010375        -0.024093   \n",
       "company                            -0.004052         0.045103   \n",
       "days_in_waiting_list               -0.003170         0.010620   \n",
       "adr                                 0.039174        -0.048631   \n",
       "required_car_parking_spaces        -0.018262         0.009007   \n",
       "total_of_special_requests           0.013019        -0.015558   \n",
       "hotel_class                         0.016906         0.003655   \n",
       "month_class                        -0.062225         0.029267   \n",
       "children_baby                       0.013755        -0.018461   \n",
       "country_prt                        -0.027638         0.021332   \n",
       "distribution_channel_class          0.023436        -0.016848   \n",
       "previous_cancellations_class       -0.097792         0.083982   \n",
       "reserved_equal_assigned             0.040988        -0.035931   \n",
       "booking_changes_class              -0.024584         0.023803   \n",
       "No_Deposit                         -0.109295         0.115212   \n",
       "Non_Refund                          0.115856        -0.121931   \n",
       "Refundable                         -0.053570         0.054718   \n",
       "have_days_in_wl                    -0.017389         0.022830   \n",
       "Contract                           -0.327779        -0.097959   \n",
       "Group                              -0.115626        -0.034556   \n",
       "Transient                           1.000000        -0.895623   \n",
       "Transient-Party                    -0.895623         1.000000   \n",
       "required_car_parking_spaces_class  -0.018382         0.009080   \n",
       "\n",
       "                                   required_car_parking_spaces_class  \n",
       "is_canceled                                                -0.199410  \n",
       "lead_time                                                  -0.117828  \n",
       "arrival_date_year                                          -0.012920  \n",
       "arrival_date_week_number                                    0.003600  \n",
       "arrival_date_day_of_month                                   0.009142  \n",
       "stays_in_weekend_nights                                    -0.019709  \n",
       "stays_in_week_nights                                       -0.026749  \n",
       "adults                                                      0.018968  \n",
       "children                                                    0.058910  \n",
       "babies                                                      0.038778  \n",
       "is_repeated_guest                                           0.076849  \n",
       "previous_cancellations                                     -0.019802  \n",
       "previous_bookings_not_canceled                              0.042319  \n",
       "booking_changes                                             0.065029  \n",
       "agent                                                       0.179314  \n",
       "company                                                    -0.007366  \n",
       "days_in_waiting_list                                       -0.032781  \n",
       "adr                                                         0.064357  \n",
       "required_car_parking_spaces                                 0.998146  \n",
       "total_of_special_requests                                   0.083018  \n",
       "hotel_class                                                -0.218287  \n",
       "month_class                                                -0.014156  \n",
       "children_baby                                               0.066118  \n",
       "country_prt                                                 0.002548  \n",
       "distribution_channel_class                                 -0.137958  \n",
       "previous_cancellations_class                               -0.048051  \n",
       "reserved_equal_assigned                                    -0.076501  \n",
       "booking_changes_class                                       0.073893  \n",
       "No_Deposit                                                  0.083062  \n",
       "Non_Refund                                                 -0.083595  \n",
       "Refundable                                                  0.001205  \n",
       "have_days_in_wl                                            -0.043552  \n",
       "Contract                                                    0.016291  \n",
       "Group                                                       0.019220  \n",
       "Transient                                                  -0.018382  \n",
       "Transient-Party                                             0.009080  \n",
       "required_car_parking_spaces_class                           1.000000  \n",
       "\n",
       "[37 rows x 37 columns]"
      ]
     },
     "execution_count": 34,
     "metadata": {},
     "output_type": "execute_result"
    }
   ],
   "source": [
    "# coorelations matrix\n",
    "df.corr()"
   ]
  },
  {
   "cell_type": "markdown",
   "metadata": {
    "id": "RLPUu9Qck_hf"
   },
   "source": [
    "### 2.x Subset for future modelling"
   ]
  },
  {
   "cell_type": "code",
   "execution_count": 35,
   "metadata": {
    "colab": {
     "base_uri": "https://localhost:8080/"
    },
    "id": "sKBbs7vCk_hf",
    "outputId": "cb717fae-4dbd-45bc-c1bd-425f24b11421",
    "scrolled": false
   },
   "outputs": [
    {
     "name": "stdout",
     "output_type": "stream",
     "text": [
      "<class 'pandas.core.frame.DataFrame'>\n",
      "Int64Index: 116180 entries, 0 to 117248\n",
      "Data columns (total 47 columns):\n",
      " #   Column                             Non-Null Count   Dtype  \n",
      "---  ------                             --------------   -----  \n",
      " 0   is_canceled                        116180 non-null  int64  \n",
      " 1   hotel                              116180 non-null  object \n",
      " 2   lead_time                          116180 non-null  int64  \n",
      " 3   arrival_date_year                  116180 non-null  int64  \n",
      " 4   arrival_date_month                 116180 non-null  object \n",
      " 5   arrival_date_week_number           116180 non-null  int64  \n",
      " 6   arrival_date_day_of_month          116180 non-null  int64  \n",
      " 7   stays_in_weekend_nights            116180 non-null  int64  \n",
      " 8   stays_in_week_nights               116180 non-null  int64  \n",
      " 9   adults                             116180 non-null  int64  \n",
      " 10  children                           116180 non-null  float64\n",
      " 11  babies                             116180 non-null  int64  \n",
      " 12  meal                               116180 non-null  object \n",
      " 13  country                            116180 non-null  object \n",
      " 14  market_segment                     116180 non-null  object \n",
      " 15  distribution_channel               116180 non-null  object \n",
      " 16  is_repeated_guest                  116180 non-null  int64  \n",
      " 17  previous_cancellations             116180 non-null  int64  \n",
      " 18  previous_bookings_not_canceled     116180 non-null  int64  \n",
      " 19  reserved_room_type                 116180 non-null  object \n",
      " 20  assigned_room_type                 116180 non-null  object \n",
      " 21  booking_changes                    116180 non-null  int64  \n",
      " 22  deposit_type                       116180 non-null  object \n",
      " 23  agent                              100602 non-null  float64\n",
      " 24  company                            6390 non-null    float64\n",
      " 25  days_in_waiting_list               116180 non-null  int64  \n",
      " 26  customer_type                      116180 non-null  object \n",
      " 27  adr                                116180 non-null  float64\n",
      " 28  required_car_parking_spaces        116180 non-null  int64  \n",
      " 29  total_of_special_requests          116180 non-null  int64  \n",
      " 30  hotel_class                        116180 non-null  int64  \n",
      " 31  month_class                        116180 non-null  int64  \n",
      " 32  children_baby                      116180 non-null  float64\n",
      " 33  country_prt                        116180 non-null  int64  \n",
      " 34  distribution_channel_class         116180 non-null  int64  \n",
      " 35  previous_cancellations_class       116180 non-null  int64  \n",
      " 36  reserved_equal_assigned            116180 non-null  int32  \n",
      " 37  booking_changes_class              116180 non-null  int64  \n",
      " 38  No_Deposit                         116180 non-null  float64\n",
      " 39  Non_Refund                         116180 non-null  float64\n",
      " 40  Refundable                         116180 non-null  float64\n",
      " 41  have_days_in_wl                    116180 non-null  int32  \n",
      " 42  Contract                           116180 non-null  float64\n",
      " 43  Group                              116180 non-null  float64\n",
      " 44  Transient                          116180 non-null  float64\n",
      " 45  Transient-Party                    116180 non-null  float64\n",
      " 46  required_car_parking_spaces_class  116180 non-null  int64  \n",
      "dtypes: float64(12), int32(2), int64(23), object(10)\n",
      "memory usage: 41.7+ MB\n"
     ]
    }
   ],
   "source": [
    "df.info()"
   ]
  },
  {
   "cell_type": "code",
   "execution_count": 36,
   "metadata": {
    "colab": {
     "base_uri": "https://localhost:8080/"
    },
    "id": "FH-u76Jok_hf",
    "outputId": "26464736-5c2e-47a9-df9d-f3ea87bd71df"
   },
   "outputs": [
    {
     "data": {
      "text/plain": [
       "20"
      ]
     },
     "execution_count": 36,
     "metadata": {},
     "output_type": "execute_result"
    }
   ],
   "source": [
    "column_names = ['is_canceled', 'lead_time', 'month_class', 'adults', 'country_prt', 'distribution_channel_class', \n",
    "                'is_repeated_guest', 'previous_cancellations_class', 'reserved_equal_assigned', 'booking_changes_class',\n",
    "                'No_Deposit', 'Non_Refund', 'Refundable', 'have_days_in_wl', 'Contract', 'Group', 'Transient', 'Transient-Party',\n",
    "                'required_car_parking_spaces_class', 'total_of_special_requests']\n",
    "len(column_names)"
   ]
  },
  {
   "cell_type": "code",
   "execution_count": 37,
   "metadata": {
    "colab": {
     "base_uri": "https://localhost:8080/",
     "height": 505
    },
    "id": "7N2ekonmk_hg",
    "outputId": "1d3236b5-0a8b-49d8-92f1-3dcdf05a325f"
   },
   "outputs": [
    {
     "data": {
      "text/html": [
       "<div>\n",
       "<style scoped>\n",
       "    .dataframe tbody tr th:only-of-type {\n",
       "        vertical-align: middle;\n",
       "    }\n",
       "\n",
       "    .dataframe tbody tr th {\n",
       "        vertical-align: top;\n",
       "    }\n",
       "\n",
       "    .dataframe thead th {\n",
       "        text-align: right;\n",
       "    }\n",
       "</style>\n",
       "<table border=\"1\" class=\"dataframe\">\n",
       "  <thead>\n",
       "    <tr style=\"text-align: right;\">\n",
       "      <th></th>\n",
       "      <th>is_canceled</th>\n",
       "      <th>lead_time</th>\n",
       "      <th>month_class</th>\n",
       "      <th>adults</th>\n",
       "      <th>country_prt</th>\n",
       "      <th>distribution_channel_class</th>\n",
       "      <th>is_repeated_guest</th>\n",
       "      <th>previous_cancellations_class</th>\n",
       "      <th>reserved_equal_assigned</th>\n",
       "      <th>booking_changes_class</th>\n",
       "      <th>No_Deposit</th>\n",
       "      <th>Non_Refund</th>\n",
       "      <th>Refundable</th>\n",
       "      <th>have_days_in_wl</th>\n",
       "      <th>Contract</th>\n",
       "      <th>Group</th>\n",
       "      <th>Transient</th>\n",
       "      <th>Transient-Party</th>\n",
       "      <th>required_car_parking_spaces_class</th>\n",
       "      <th>total_of_special_requests</th>\n",
       "    </tr>\n",
       "  </thead>\n",
       "  <tbody>\n",
       "    <tr>\n",
       "      <th>0</th>\n",
       "      <td>0</td>\n",
       "      <td>342</td>\n",
       "      <td>1</td>\n",
       "      <td>2</td>\n",
       "      <td>1</td>\n",
       "      <td>0</td>\n",
       "      <td>0</td>\n",
       "      <td>0</td>\n",
       "      <td>1</td>\n",
       "      <td>1</td>\n",
       "      <td>1.0</td>\n",
       "      <td>0.0</td>\n",
       "      <td>0.0</td>\n",
       "      <td>0</td>\n",
       "      <td>0.0</td>\n",
       "      <td>0.0</td>\n",
       "      <td>1.0</td>\n",
       "      <td>0.0</td>\n",
       "      <td>0</td>\n",
       "      <td>0</td>\n",
       "    </tr>\n",
       "    <tr>\n",
       "      <th>1</th>\n",
       "      <td>0</td>\n",
       "      <td>737</td>\n",
       "      <td>1</td>\n",
       "      <td>2</td>\n",
       "      <td>1</td>\n",
       "      <td>0</td>\n",
       "      <td>0</td>\n",
       "      <td>0</td>\n",
       "      <td>1</td>\n",
       "      <td>1</td>\n",
       "      <td>1.0</td>\n",
       "      <td>0.0</td>\n",
       "      <td>0.0</td>\n",
       "      <td>0</td>\n",
       "      <td>0.0</td>\n",
       "      <td>0.0</td>\n",
       "      <td>1.0</td>\n",
       "      <td>0.0</td>\n",
       "      <td>0</td>\n",
       "      <td>0</td>\n",
       "    </tr>\n",
       "    <tr>\n",
       "      <th>2</th>\n",
       "      <td>0</td>\n",
       "      <td>7</td>\n",
       "      <td>1</td>\n",
       "      <td>1</td>\n",
       "      <td>0</td>\n",
       "      <td>0</td>\n",
       "      <td>0</td>\n",
       "      <td>0</td>\n",
       "      <td>0</td>\n",
       "      <td>0</td>\n",
       "      <td>1.0</td>\n",
       "      <td>0.0</td>\n",
       "      <td>0.0</td>\n",
       "      <td>0</td>\n",
       "      <td>0.0</td>\n",
       "      <td>0.0</td>\n",
       "      <td>1.0</td>\n",
       "      <td>0.0</td>\n",
       "      <td>0</td>\n",
       "      <td>0</td>\n",
       "    </tr>\n",
       "    <tr>\n",
       "      <th>3</th>\n",
       "      <td>0</td>\n",
       "      <td>13</td>\n",
       "      <td>1</td>\n",
       "      <td>1</td>\n",
       "      <td>0</td>\n",
       "      <td>0</td>\n",
       "      <td>0</td>\n",
       "      <td>0</td>\n",
       "      <td>1</td>\n",
       "      <td>0</td>\n",
       "      <td>1.0</td>\n",
       "      <td>0.0</td>\n",
       "      <td>0.0</td>\n",
       "      <td>0</td>\n",
       "      <td>0.0</td>\n",
       "      <td>0.0</td>\n",
       "      <td>1.0</td>\n",
       "      <td>0.0</td>\n",
       "      <td>0</td>\n",
       "      <td>0</td>\n",
       "    </tr>\n",
       "    <tr>\n",
       "      <th>4</th>\n",
       "      <td>0</td>\n",
       "      <td>14</td>\n",
       "      <td>1</td>\n",
       "      <td>2</td>\n",
       "      <td>0</td>\n",
       "      <td>1</td>\n",
       "      <td>0</td>\n",
       "      <td>0</td>\n",
       "      <td>1</td>\n",
       "      <td>0</td>\n",
       "      <td>1.0</td>\n",
       "      <td>0.0</td>\n",
       "      <td>0.0</td>\n",
       "      <td>0</td>\n",
       "      <td>0.0</td>\n",
       "      <td>0.0</td>\n",
       "      <td>1.0</td>\n",
       "      <td>0.0</td>\n",
       "      <td>0</td>\n",
       "      <td>1</td>\n",
       "    </tr>\n",
       "    <tr>\n",
       "      <th>...</th>\n",
       "      <td>...</td>\n",
       "      <td>...</td>\n",
       "      <td>...</td>\n",
       "      <td>...</td>\n",
       "      <td>...</td>\n",
       "      <td>...</td>\n",
       "      <td>...</td>\n",
       "      <td>...</td>\n",
       "      <td>...</td>\n",
       "      <td>...</td>\n",
       "      <td>...</td>\n",
       "      <td>...</td>\n",
       "      <td>...</td>\n",
       "      <td>...</td>\n",
       "      <td>...</td>\n",
       "      <td>...</td>\n",
       "      <td>...</td>\n",
       "      <td>...</td>\n",
       "      <td>...</td>\n",
       "      <td>...</td>\n",
       "    </tr>\n",
       "    <tr>\n",
       "      <th>117244</th>\n",
       "      <td>0</td>\n",
       "      <td>468</td>\n",
       "      <td>1</td>\n",
       "      <td>2</td>\n",
       "      <td>0</td>\n",
       "      <td>1</td>\n",
       "      <td>0</td>\n",
       "      <td>0</td>\n",
       "      <td>1</td>\n",
       "      <td>0</td>\n",
       "      <td>1.0</td>\n",
       "      <td>0.0</td>\n",
       "      <td>0.0</td>\n",
       "      <td>0</td>\n",
       "      <td>0.0</td>\n",
       "      <td>0.0</td>\n",
       "      <td>1.0</td>\n",
       "      <td>0.0</td>\n",
       "      <td>0</td>\n",
       "      <td>1</td>\n",
       "    </tr>\n",
       "    <tr>\n",
       "      <th>117245</th>\n",
       "      <td>0</td>\n",
       "      <td>244</td>\n",
       "      <td>1</td>\n",
       "      <td>2</td>\n",
       "      <td>0</td>\n",
       "      <td>1</td>\n",
       "      <td>0</td>\n",
       "      <td>0</td>\n",
       "      <td>1</td>\n",
       "      <td>0</td>\n",
       "      <td>1.0</td>\n",
       "      <td>0.0</td>\n",
       "      <td>0.0</td>\n",
       "      <td>0</td>\n",
       "      <td>0.0</td>\n",
       "      <td>0.0</td>\n",
       "      <td>1.0</td>\n",
       "      <td>0.0</td>\n",
       "      <td>0</td>\n",
       "      <td>2</td>\n",
       "    </tr>\n",
       "    <tr>\n",
       "      <th>117246</th>\n",
       "      <td>0</td>\n",
       "      <td>244</td>\n",
       "      <td>1</td>\n",
       "      <td>2</td>\n",
       "      <td>0</td>\n",
       "      <td>1</td>\n",
       "      <td>0</td>\n",
       "      <td>0</td>\n",
       "      <td>1</td>\n",
       "      <td>0</td>\n",
       "      <td>1.0</td>\n",
       "      <td>0.0</td>\n",
       "      <td>0.0</td>\n",
       "      <td>0</td>\n",
       "      <td>0.0</td>\n",
       "      <td>0.0</td>\n",
       "      <td>1.0</td>\n",
       "      <td>0.0</td>\n",
       "      <td>0</td>\n",
       "      <td>2</td>\n",
       "    </tr>\n",
       "    <tr>\n",
       "      <th>117247</th>\n",
       "      <td>0</td>\n",
       "      <td>90</td>\n",
       "      <td>1</td>\n",
       "      <td>2</td>\n",
       "      <td>0</td>\n",
       "      <td>1</td>\n",
       "      <td>0</td>\n",
       "      <td>0</td>\n",
       "      <td>1</td>\n",
       "      <td>0</td>\n",
       "      <td>1.0</td>\n",
       "      <td>0.0</td>\n",
       "      <td>0.0</td>\n",
       "      <td>0</td>\n",
       "      <td>0.0</td>\n",
       "      <td>0.0</td>\n",
       "      <td>1.0</td>\n",
       "      <td>0.0</td>\n",
       "      <td>0</td>\n",
       "      <td>0</td>\n",
       "    </tr>\n",
       "    <tr>\n",
       "      <th>117248</th>\n",
       "      <td>0</td>\n",
       "      <td>19</td>\n",
       "      <td>1</td>\n",
       "      <td>2</td>\n",
       "      <td>0</td>\n",
       "      <td>1</td>\n",
       "      <td>0</td>\n",
       "      <td>0</td>\n",
       "      <td>1</td>\n",
       "      <td>0</td>\n",
       "      <td>1.0</td>\n",
       "      <td>0.0</td>\n",
       "      <td>0.0</td>\n",
       "      <td>0</td>\n",
       "      <td>0.0</td>\n",
       "      <td>0.0</td>\n",
       "      <td>1.0</td>\n",
       "      <td>0.0</td>\n",
       "      <td>0</td>\n",
       "      <td>1</td>\n",
       "    </tr>\n",
       "  </tbody>\n",
       "</table>\n",
       "<p>116180 rows × 20 columns</p>\n",
       "</div>"
      ],
      "text/plain": [
       "        is_canceled  lead_time  month_class  adults  country_prt  \\\n",
       "0                 0        342            1       2            1   \n",
       "1                 0        737            1       2            1   \n",
       "2                 0          7            1       1            0   \n",
       "3                 0         13            1       1            0   \n",
       "4                 0         14            1       2            0   \n",
       "...             ...        ...          ...     ...          ...   \n",
       "117244            0        468            1       2            0   \n",
       "117245            0        244            1       2            0   \n",
       "117246            0        244            1       2            0   \n",
       "117247            0         90            1       2            0   \n",
       "117248            0         19            1       2            0   \n",
       "\n",
       "        distribution_channel_class  is_repeated_guest  \\\n",
       "0                                0                  0   \n",
       "1                                0                  0   \n",
       "2                                0                  0   \n",
       "3                                0                  0   \n",
       "4                                1                  0   \n",
       "...                            ...                ...   \n",
       "117244                           1                  0   \n",
       "117245                           1                  0   \n",
       "117246                           1                  0   \n",
       "117247                           1                  0   \n",
       "117248                           1                  0   \n",
       "\n",
       "        previous_cancellations_class  reserved_equal_assigned  \\\n",
       "0                                  0                        1   \n",
       "1                                  0                        1   \n",
       "2                                  0                        0   \n",
       "3                                  0                        1   \n",
       "4                                  0                        1   \n",
       "...                              ...                      ...   \n",
       "117244                             0                        1   \n",
       "117245                             0                        1   \n",
       "117246                             0                        1   \n",
       "117247                             0                        1   \n",
       "117248                             0                        1   \n",
       "\n",
       "        booking_changes_class  No_Deposit  Non_Refund  Refundable  \\\n",
       "0                           1         1.0         0.0         0.0   \n",
       "1                           1         1.0         0.0         0.0   \n",
       "2                           0         1.0         0.0         0.0   \n",
       "3                           0         1.0         0.0         0.0   \n",
       "4                           0         1.0         0.0         0.0   \n",
       "...                       ...         ...         ...         ...   \n",
       "117244                      0         1.0         0.0         0.0   \n",
       "117245                      0         1.0         0.0         0.0   \n",
       "117246                      0         1.0         0.0         0.0   \n",
       "117247                      0         1.0         0.0         0.0   \n",
       "117248                      0         1.0         0.0         0.0   \n",
       "\n",
       "        have_days_in_wl  Contract  Group  Transient  Transient-Party  \\\n",
       "0                     0       0.0    0.0        1.0              0.0   \n",
       "1                     0       0.0    0.0        1.0              0.0   \n",
       "2                     0       0.0    0.0        1.0              0.0   \n",
       "3                     0       0.0    0.0        1.0              0.0   \n",
       "4                     0       0.0    0.0        1.0              0.0   \n",
       "...                 ...       ...    ...        ...              ...   \n",
       "117244                0       0.0    0.0        1.0              0.0   \n",
       "117245                0       0.0    0.0        1.0              0.0   \n",
       "117246                0       0.0    0.0        1.0              0.0   \n",
       "117247                0       0.0    0.0        1.0              0.0   \n",
       "117248                0       0.0    0.0        1.0              0.0   \n",
       "\n",
       "        required_car_parking_spaces_class  total_of_special_requests  \n",
       "0                                       0                          0  \n",
       "1                                       0                          0  \n",
       "2                                       0                          0  \n",
       "3                                       0                          0  \n",
       "4                                       0                          1  \n",
       "...                                   ...                        ...  \n",
       "117244                                  0                          1  \n",
       "117245                                  0                          2  \n",
       "117246                                  0                          2  \n",
       "117247                                  0                          0  \n",
       "117248                                  0                          1  \n",
       "\n",
       "[116180 rows x 20 columns]"
      ]
     },
     "execution_count": 37,
     "metadata": {},
     "output_type": "execute_result"
    }
   ],
   "source": [
    "df_final = df.loc[:, column_names]\n",
    "df_final"
   ]
  },
  {
   "cell_type": "markdown",
   "metadata": {
    "id": "ChLjeP11j4w6"
   },
   "source": [
    "## 3. Model Fitting and Tuning"
   ]
  },
  {
   "cell_type": "markdown",
   "metadata": {
    "id": "99Ed6uZpj4w8"
   },
   "source": [
    "*In this section you should detail your choice of model and describe the process used to refine and fit that model. You are strongly encouraged to explore many different modeling methods (e.g. logistic regression, classification trees, SVC, etc.) but you should not include a detailed narrative of all of these attempts. At most this section should mention the methods explored and why they were rejected - most of your effort should go into describing the model you are using and your process for tuning and validatin it.*\n",
    "\n",
    "*This section should also include the full implementation of your final model, including all necessary validation. As with figures, any included code must also be addressed in the text of the document.*"
   ]
  },
  {
   "cell_type": "markdown",
   "metadata": {
    "id": "knYER7iZ083b"
   },
   "source": [
    "**The recall is the ratio tp / (tp + fn) where tp is the number of true positives and fn the number of false negatives. The recall is intuitively the ability of the classifier to find all the positive samples.**"
   ]
  },
  {
   "cell_type": "code",
   "execution_count": 38,
   "metadata": {
    "id": "FBC-1D2_k_hg"
   },
   "outputs": [],
   "source": [
    "def tidy_scores(score_dict):\n",
    "    df = pd.DataFrame(score_dict)\n",
    "    df.loc['mean'] = df.mean()\n",
    "    df.loc['sd'] = df.std()\n",
    "    df.rename({\"test_score\":\"val_score\"}, axis=1, inplace=True)\n",
    "    df.index.name = \"fold\"\n",
    "    return df.round(2)"
   ]
  },
  {
   "cell_type": "code",
   "execution_count": 39,
   "metadata": {
    "id": "apqgVmMZk_hg"
   },
   "outputs": [],
   "source": [
    "# drop one attribute of one-hot-encoded variables\n",
    "df_final_ = df_final.copy()\n",
    "\n",
    "# split data into 3 parts\n",
    "train_valid_df, test_df = train_test_split(df_final_, test_size = 0.2, random_state = 42, shuffle = True)\n",
    "train_df, valid_df = train_test_split(train_valid_df, test_size = 0.2, random_state = 42, shuffle = True)"
   ]
  },
  {
   "cell_type": "code",
   "execution_count": 40,
   "metadata": {
    "id": "m33g9jhAk_hh"
   },
   "outputs": [],
   "source": [
    "output = 'is_canceled'\n",
    "y_train = train_df.loc[:,output]\n",
    "X_train = train_df.drop(output, axis = 1)\n",
    "\n",
    "y_valid = valid_df.loc[:,output]\n",
    "X_valid = valid_df.drop(output, axis = 1)\n",
    "\n",
    "y_test = test_df.loc[:,output]\n",
    "X_test = test_df.drop(output, axis = 1)"
   ]
  },
  {
   "cell_type": "markdown",
   "metadata": {
    "id": "GflF-eTok_hh"
   },
   "source": [
    "### 3.x Logistic Regression"
   ]
  },
  {
   "cell_type": "code",
   "execution_count": 41,
   "metadata": {
    "id": "vIzvW2LJk_hh"
   },
   "outputs": [],
   "source": [
    "# initial model with C=1, penalty = 'l2'\n",
    "lr = LogisticRegression(random_state = 42, max_iter = 1000).fit(X_train.drop(columns=['No_Deposit', 'Transient']), y_train)"
   ]
  },
  {
   "cell_type": "code",
   "execution_count": 42,
   "metadata": {
    "id": "-rHf6kgvk_hh"
   },
   "outputs": [],
   "source": [
    "# probability prediction and final classification prediction on validation set\n",
    "pred_prob_valid = lr.predict_proba(X_valid.drop(columns=['No_Deposit', 'Transient']))\n",
    "y_valid_pred = lr.predict(X_valid.drop(columns=['No_Deposit', 'Transient']))"
   ]
  },
  {
   "cell_type": "code",
   "execution_count": 43,
   "metadata": {
    "colab": {
     "base_uri": "https://localhost:8080/"
    },
    "id": "ONRSQYs-k_hh",
    "outputId": "f1b59808-9f4a-467a-8904-b6fa86612e0b"
   },
   "outputs": [
    {
     "name": "stdout",
     "output_type": "stream",
     "text": [
      "The mean squared error is 0.1918876755070203.\n",
      "The accuracy score is 0.8081123244929798.\n",
      "The ROC-AUC score is 0.8760166796485771.\n"
     ]
    }
   ],
   "source": [
    "print('The mean squared error is {}.'.format(mean_squared_error(y_valid, y_valid_pred)))\n",
    "print('The accuracy score is {}.'.format(accuracy_score(y_valid, y_valid_pred)))\n",
    "print('The ROC-AUC score is {}.'.format(roc_auc_score(y_valid, pred_prob_valid[:,1])))"
   ]
  },
  {
   "cell_type": "code",
   "execution_count": 44,
   "metadata": {
    "colab": {
     "base_uri": "https://localhost:8080/"
    },
    "id": "O1lCcapRJzVW",
    "outputId": "aa994695-1441-48ed-ac69-9b4a17056858"
   },
   "outputs": [
    {
     "data": {
      "text/plain": [
       "0.664903502501787"
      ]
     },
     "execution_count": 44,
     "metadata": {},
     "output_type": "execute_result"
    }
   ],
   "source": [
    "recall_score(y_valid, y_valid_pred)"
   ]
  },
  {
   "cell_type": "code",
   "execution_count": 45,
   "metadata": {
    "colab": {
     "base_uri": "https://localhost:8080/"
    },
    "id": "uCObpiS3k_hi",
    "outputId": "2380e7c1-f440-490f-c771-2b8775e63d7a"
   },
   "outputs": [
    {
     "name": "stdout",
     "output_type": "stream",
     "text": [
      "[[10371  1223]\n",
      " [ 2344  4651]]\n",
      "           not canceled  canceled  accuracy  macro avg  weighted avg\n",
      "precision          0.82      0.79      0.81       0.80          0.81\n",
      "recall             0.89      0.66      0.81       0.78          0.81\n",
      "f1-score           0.85      0.72      0.81       0.79          0.80\n",
      "support        11594.00   6995.00      0.81   18589.00      18589.00\n"
     ]
    }
   ],
   "source": [
    "print(confusion_matrix(y_valid, y_valid_pred))\n",
    "print(pd.DataFrame(classification_report(y_valid, \n",
    "                                   y_valid_pred, \n",
    "                                   labels=None, \n",
    "                                   target_names=['not canceled', 'canceled'], \n",
    "                                   sample_weight=None, \n",
    "                                   digits=2, \n",
    "                                   output_dict=True)).round(2))"
   ]
  },
  {
   "cell_type": "code",
   "execution_count": 46,
   "metadata": {
    "colab": {
     "base_uri": "https://localhost:8080/"
    },
    "id": "JZpGSo3Dk_hi",
    "outputId": "0d39f537-77ad-49ce-adc6-3023fb0f7a90"
   },
   "outputs": [
    {
     "data": {
      "text/plain": [
       "RandomizedSearchCV(cv=StratifiedKFold(n_splits=5, random_state=None, shuffle=False),\n",
       "                   estimator=Pipeline(steps=[('scaler', StandardScaler()),\n",
       "                                             ('model',\n",
       "                                              LogisticRegression(max_iter=1000,\n",
       "                                                                 random_state=42))]),\n",
       "                   n_iter=60,\n",
       "                   param_distributions={'model__C': <scipy.stats._distn_infrastructure.rv_frozen object at 0x000001E98D235EE0>},\n",
       "                   random_state=42, refit='recall', return_train_score=True,\n",
       "                   scoring=['accuracy', 'f1', 'recall', 'precision'])"
      ]
     },
     "execution_count": 46,
     "metadata": {},
     "output_type": "execute_result"
    }
   ],
   "source": [
    "'''\n",
    "# tuning model after scaling\n",
    "# 不太清楚c这里是个咋回事的情况，可能需要进一步了解，这边就是说优化了又仿佛没有优化一样\n",
    "#log_pipe = Pipeline([\n",
    "            (\"scaler\", StandardScaler()),\n",
    "            (\"model\", LogisticRegression(random_state=42, max_iter = 1000))])\n",
    "\n",
    "#C_list = []\n",
    "#pwr = -5\n",
    "#for i in range(11):\n",
    "#    C_list.append(2**pwr)\n",
    "#    pwr+=2\n",
    "    \n",
    "# specify parameters and distributions to sample from\n",
    "#log_param_dist = {'model__C':loguniform(C_list[0], C_list[-1])}\n",
    "\n",
    "#log_rs = RandomizedSearchCV(log_pipe, \n",
    "                            param_distributions = log_param_dist,\n",
    "                            n_iter = 60, \n",
    "                            scoring = [\"accuracy\", \"f1\",\"recall\",\"precision\"], \n",
    "                            cv = StratifiedKFold(n_splits=5),\n",
    "                            refit = \"recall\", \n",
    "                            random_state = 42,\n",
    "                            return_train_score = True)\n",
    "\n",
    "#log_rs.fit(X_train.drop(columns=['No_Deposit', 'Transient']), y_train)\n",
    "'''"
   ]
  },
  {
   "cell_type": "code",
   "execution_count": 47,
   "metadata": {
    "colab": {
     "base_uri": "https://localhost:8080/",
     "height": 270
    },
    "id": "TJAbh3Upk_hi",
    "outputId": "5b4c9c29-1ca4-4498-e1c4-87e579a6ff15"
   },
   "outputs": [
    {
     "data": {
      "text/html": [
       "<div>\n",
       "<style scoped>\n",
       "    .dataframe tbody tr th:only-of-type {\n",
       "        vertical-align: middle;\n",
       "    }\n",
       "\n",
       "    .dataframe tbody tr th {\n",
       "        vertical-align: top;\n",
       "    }\n",
       "\n",
       "    .dataframe thead th {\n",
       "        text-align: right;\n",
       "    }\n",
       "</style>\n",
       "<table border=\"1\" class=\"dataframe\">\n",
       "  <thead>\n",
       "    <tr style=\"text-align: right;\">\n",
       "      <th></th>\n",
       "      <th>param_model__C</th>\n",
       "      <th>mean_train_accuracy</th>\n",
       "      <th>std_train_accuracy</th>\n",
       "      <th>mean_test_accuracy</th>\n",
       "      <th>std_test_accuracy</th>\n",
       "      <th>mean_train_f1</th>\n",
       "      <th>mean_test_f1</th>\n",
       "      <th>mean_train_recall</th>\n",
       "      <th>mean_test_recall</th>\n",
       "      <th>mean_train_precision</th>\n",
       "      <th>mean_test_precision</th>\n",
       "    </tr>\n",
       "  </thead>\n",
       "  <tbody>\n",
       "    <tr>\n",
       "      <th>6</th>\n",
       "      <td>0.0699114</td>\n",
       "      <td>0.803416</td>\n",
       "      <td>0.001250</td>\n",
       "      <td>0.803282</td>\n",
       "      <td>0.004357</td>\n",
       "      <td>0.717535</td>\n",
       "      <td>0.717334</td>\n",
       "      <td>0.657209</td>\n",
       "      <td>0.656979</td>\n",
       "      <td>0.790056</td>\n",
       "      <td>0.789917</td>\n",
       "    </tr>\n",
       "    <tr>\n",
       "      <th>58</th>\n",
       "      <td>0.0584986</td>\n",
       "      <td>0.803382</td>\n",
       "      <td>0.001245</td>\n",
       "      <td>0.803282</td>\n",
       "      <td>0.004357</td>\n",
       "      <td>0.717467</td>\n",
       "      <td>0.717312</td>\n",
       "      <td>0.657103</td>\n",
       "      <td>0.656908</td>\n",
       "      <td>0.790046</td>\n",
       "      <td>0.789966</td>\n",
       "    </tr>\n",
       "    <tr>\n",
       "      <th>29</th>\n",
       "      <td>0.059499</td>\n",
       "      <td>0.803386</td>\n",
       "      <td>0.001241</td>\n",
       "      <td>0.803282</td>\n",
       "      <td>0.004357</td>\n",
       "      <td>0.717474</td>\n",
       "      <td>0.717312</td>\n",
       "      <td>0.657112</td>\n",
       "      <td>0.656908</td>\n",
       "      <td>0.790049</td>\n",
       "      <td>0.789966</td>\n",
       "    </tr>\n",
       "    <tr>\n",
       "      <th>42</th>\n",
       "      <td>0.0503373</td>\n",
       "      <td>0.803369</td>\n",
       "      <td>0.001248</td>\n",
       "      <td>0.803268</td>\n",
       "      <td>0.004342</td>\n",
       "      <td>0.717443</td>\n",
       "      <td>0.717287</td>\n",
       "      <td>0.657067</td>\n",
       "      <td>0.656873</td>\n",
       "      <td>0.790038</td>\n",
       "      <td>0.789957</td>\n",
       "    </tr>\n",
       "    <tr>\n",
       "      <th>10</th>\n",
       "      <td>0.0415701</td>\n",
       "      <td>0.803349</td>\n",
       "      <td>0.001246</td>\n",
       "      <td>0.803255</td>\n",
       "      <td>0.004409</td>\n",
       "      <td>0.717397</td>\n",
       "      <td>0.717241</td>\n",
       "      <td>0.656988</td>\n",
       "      <td>0.656766</td>\n",
       "      <td>0.790043</td>\n",
       "      <td>0.789998</td>\n",
       "    </tr>\n",
       "  </tbody>\n",
       "</table>\n",
       "</div>"
      ],
      "text/plain": [
       "   param_model__C  mean_train_accuracy  std_train_accuracy  \\\n",
       "6       0.0699114             0.803416            0.001250   \n",
       "58      0.0584986             0.803382            0.001245   \n",
       "29       0.059499             0.803386            0.001241   \n",
       "42      0.0503373             0.803369            0.001248   \n",
       "10      0.0415701             0.803349            0.001246   \n",
       "\n",
       "    mean_test_accuracy  std_test_accuracy  mean_train_f1  mean_test_f1  \\\n",
       "6             0.803282           0.004357       0.717535      0.717334   \n",
       "58            0.803282           0.004357       0.717467      0.717312   \n",
       "29            0.803282           0.004357       0.717474      0.717312   \n",
       "42            0.803268           0.004342       0.717443      0.717287   \n",
       "10            0.803255           0.004409       0.717397      0.717241   \n",
       "\n",
       "    mean_train_recall  mean_test_recall  mean_train_precision  \\\n",
       "6            0.657209          0.656979              0.790056   \n",
       "58           0.657103          0.656908              0.790046   \n",
       "29           0.657112          0.656908              0.790049   \n",
       "42           0.657067          0.656873              0.790038   \n",
       "10           0.656988          0.656766              0.790043   \n",
       "\n",
       "    mean_test_precision  \n",
       "6              0.789917  \n",
       "58             0.789966  \n",
       "29             0.789966  \n",
       "42             0.789957  \n",
       "10             0.789998  "
      ]
     },
     "execution_count": 47,
     "metadata": {},
     "output_type": "execute_result"
    }
   ],
   "source": [
    "'''\n",
    "log_rs_df = pd.DataFrame(log_rs.cv_results_)\n",
    "log_rs_df.sort_values(\"mean_test_accuracy\", ascending=False)[[\"param_model__C\", \n",
    "                                                               \"mean_train_accuracy\", \"std_train_accuracy\",\n",
    "                                                               \"mean_test_accuracy\", \"std_test_accuracy\",\n",
    "                                                               \"mean_train_f1\", \"mean_test_f1\",\n",
    "                                                               \"mean_train_recall\", \"mean_test_recall\", \n",
    "                                                               \"mean_train_precision\", \"mean_test_precision\"]].head()\n",
    "'''"
   ]
  },
  {
   "cell_type": "code",
   "execution_count": 48,
   "metadata": {
    "colab": {
     "base_uri": "https://localhost:8080/"
    },
    "id": "eibgUGXVk_hj",
    "outputId": "9badd490-a530-4bd7-a220-2e4609767ce0"
   },
   "outputs": [
    {
     "data": {
      "text/plain": [
       "Index(['mean_fit_time', 'std_fit_time', 'mean_score_time', 'std_score_time',\n",
       "       'param_model__C', 'params', 'split0_test_accuracy',\n",
       "       'split1_test_accuracy', 'split2_test_accuracy', 'split3_test_accuracy',\n",
       "       'split4_test_accuracy', 'mean_test_accuracy', 'std_test_accuracy',\n",
       "       'rank_test_accuracy', 'split0_train_accuracy', 'split1_train_accuracy',\n",
       "       'split2_train_accuracy', 'split3_train_accuracy',\n",
       "       'split4_train_accuracy', 'mean_train_accuracy', 'std_train_accuracy',\n",
       "       'split0_test_f1', 'split1_test_f1', 'split2_test_f1', 'split3_test_f1',\n",
       "       'split4_test_f1', 'mean_test_f1', 'std_test_f1', 'rank_test_f1',\n",
       "       'split0_train_f1', 'split1_train_f1', 'split2_train_f1',\n",
       "       'split3_train_f1', 'split4_train_f1', 'mean_train_f1', 'std_train_f1',\n",
       "       'split0_test_recall', 'split1_test_recall', 'split2_test_recall',\n",
       "       'split3_test_recall', 'split4_test_recall', 'mean_test_recall',\n",
       "       'std_test_recall', 'rank_test_recall', 'split0_train_recall',\n",
       "       'split1_train_recall', 'split2_train_recall', 'split3_train_recall',\n",
       "       'split4_train_recall', 'mean_train_recall', 'std_train_recall',\n",
       "       'split0_test_precision', 'split1_test_precision',\n",
       "       'split2_test_precision', 'split3_test_precision',\n",
       "       'split4_test_precision', 'mean_test_precision', 'std_test_precision',\n",
       "       'rank_test_precision', 'split0_train_precision',\n",
       "       'split1_train_precision', 'split2_train_precision',\n",
       "       'split3_train_precision', 'split4_train_precision',\n",
       "       'mean_train_precision', 'std_train_precision'],\n",
       "      dtype='object')"
      ]
     },
     "execution_count": 48,
     "metadata": {},
     "output_type": "execute_result"
    }
   ],
   "source": [
    "log_rs_df.columns"
   ]
  },
  {
   "cell_type": "markdown",
   "metadata": {
    "id": "728-ytaHk_hj"
   },
   "source": [
    "### 3.x Decision Tree"
   ]
  },
  {
   "cell_type": "code",
   "execution_count": 49,
   "metadata": {
    "colab": {
     "base_uri": "https://localhost:8080/"
    },
    "id": "fl6oaxaRk_hj",
    "outputId": "c54791f4-fa06-4778-96ca-a8d41dda4aea"
   },
   "outputs": [
    {
     "data": {
      "text/plain": [
       "DecisionTreeClassifier(random_state=42)"
      ]
     },
     "execution_count": 49,
     "metadata": {},
     "output_type": "execute_result"
    }
   ],
   "source": [
    "# initial model\n",
    "clf = DecisionTreeClassifier(random_state=42)\n",
    "clf.fit(X_train, y_train)"
   ]
  },
  {
   "cell_type": "code",
   "execution_count": 50,
   "metadata": {},
   "outputs": [
    {
     "name": "stdout",
     "output_type": "stream",
     "text": [
      "44\n",
      "0.8999663775132809\n",
      "0.8230674054548389\n"
     ]
    }
   ],
   "source": [
    "print(clf.get_depth())\n",
    "print(clf.score(X_train, y_train))\n",
    "print(clf.score(X_valid, y_valid))"
   ]
  },
  {
   "cell_type": "code",
   "execution_count": 51,
   "metadata": {
    "colab": {
     "base_uri": "https://localhost:8080/"
    },
    "id": "zSG8aWERuEh4",
    "outputId": "47171fe0-dab8-497d-e8fb-f73edd503491"
   },
   "outputs": [
    {
     "name": "stdout",
     "output_type": "stream",
     "text": [
      "0.8155604868536077\n",
      "0.7972991516668179\n"
     ]
    }
   ],
   "source": [
    "print(cross_val_score(clf, X_train, y_train, cv = 5).mean())\n",
    "print(cross_val_score(clf, X_valid, y_valid, cv = 5).mean())"
   ]
  },
  {
   "cell_type": "code",
   "execution_count": 52,
   "metadata": {
    "colab": {
     "base_uri": "https://localhost:8080/"
    },
    "id": "XQv1vZQ2popu",
    "outputId": "8fe2ab55-728f-4d15-e805-256f5da8fd4a"
   },
   "outputs": [
    {
     "data": {
      "text/plain": [
       "[('lead_time', 0.38576681379226535),\n",
       " ('Non_Refund', 0.17612487743247365),\n",
       " ('country_prt', 0.11791022254465917),\n",
       " ('reserved_equal_assigned', 0.060209928266857136),\n",
       " ('total_of_special_requests', 0.05582895614562213),\n",
       " ('adults', 0.03439507786791518),\n",
       " ('booking_changes_class', 0.032455150636973774),\n",
       " ('required_car_parking_spaces_class', 0.02765072398359483),\n",
       " ('month_class', 0.024477181909185707),\n",
       " ('distribution_channel_class', 0.022453009101872),\n",
       " ('previous_cancellations_class', 0.02026936093398041),\n",
       " ('Transient-Party', 0.01114033581116518),\n",
       " ('Transient', 0.010091793535071582),\n",
       " ('have_days_in_wl', 0.008677331309886897),\n",
       " ('is_repeated_guest', 0.007436164362026493),\n",
       " ('Contract', 0.0035183262106490394),\n",
       " ('Group', 0.0010269064537218315),\n",
       " ('Refundable', 0.0003361687743474038),\n",
       " ('No_Deposit', 0.0002316709277323955)]"
      ]
     },
     "execution_count": 52,
     "metadata": {},
     "output_type": "execute_result"
    }
   ],
   "source": [
    "sorted([*zip(X_train.columns.tolist(), clf.feature_importances_)], key = lambda t:t[1], reverse = True)"
   ]
  },
  {
   "cell_type": "markdown",
   "metadata": {},
   "source": [
    "### 3.x.x refinement"
   ]
  },
  {
   "cell_type": "code",
   "execution_count": 53,
   "metadata": {
    "id": "PwIWj2Gdk_hj"
   },
   "outputs": [],
   "source": [
    "# let's try delete some unimportant features using a treshold of 0.01\n",
    "df_final2 = df_final.copy()\n",
    "df_final2.drop(columns=['Group', 'Refundable', 'No_Deposit', 'Contract', 'Transient-Party', \n",
    "                        'have_days_in_wl', 'is_repeated_guest', 'Transient',\n",
    "                        'required_car_parking_spaces_class', 'month_class',\n",
    "                        'distribution_channel_class', 'previous_cancellations_class'],\n",
    "               inplace = True)\n",
    "\n",
    "# split data into 3 parts\n",
    "train_valid_df2, test_df2 = train_test_split(df_final2, test_size = 0.2, random_state = 42, shuffle = True)\n",
    "train_df2, valid_df2 = train_test_split(train_valid_df2, test_size = 0.2, random_state = 42, shuffle = True)\n",
    "\n",
    "\n",
    "y_train2 = train_df2.loc[:,output]\n",
    "X_train2 = train_df2.drop(output, axis = 1)\n",
    "\n",
    "y_valid2 = valid_df2.loc[:,output]\n",
    "X_valid2 = valid_df2.drop(output, axis = 1)\n",
    "\n",
    "y_test2 = test_df2.loc[:,output]\n",
    "X_test2 = test_df2.drop(output, axis = 1)"
   ]
  },
  {
   "cell_type": "code",
   "execution_count": 54,
   "metadata": {},
   "outputs": [
    {
     "name": "stdout",
     "output_type": "stream",
     "text": [
      "42\n"
     ]
    }
   ],
   "source": [
    "clf2 = DecisionTreeClassifier(random_state=42)\n",
    "clf2.fit(X_train2, y_train2)\n",
    "\n",
    "print(clf2.get_depth())"
   ]
  },
  {
   "cell_type": "code",
   "execution_count": 55,
   "metadata": {},
   "outputs": [
    {
     "name": "stdout",
     "output_type": "stream",
     "text": [
      "0.8515096496536884\n",
      "0.813007692721502\n"
     ]
    }
   ],
   "source": [
    "print(clf2.score(X_train2, y_train2))\n",
    "print(clf2.score(X_valid2, y_valid2))"
   ]
  },
  {
   "cell_type": "code",
   "execution_count": 56,
   "metadata": {},
   "outputs": [
    {
     "name": "stdout",
     "output_type": "stream",
     "text": [
      "0.8045188622150494\n",
      "0.7924577523012986\n"
     ]
    }
   ],
   "source": [
    "print(cross_val_score(clf2, X_train2, y_train2, cv = 5).mean())\n",
    "print(cross_val_score(clf2, X_valid2, y_valid2, cv = 5).mean())"
   ]
  },
  {
   "cell_type": "code",
   "execution_count": 57,
   "metadata": {
    "colab": {
     "base_uri": "https://localhost:8080/",
     "height": 370
    },
    "id": "zmHG2SWyzxF_",
    "outputId": "01b2ae16-67c1-4d80-a1e7-c526d1c24066"
   },
   "outputs": [
    {
     "name": "stdout",
     "output_type": "stream",
     "text": [
      "0.8170963326113261\n"
     ]
    },
    {
     "data": {
      "image/png": "[encoded data removed]",
      "text/plain": [
       "<Figure size 640x400 with 1 Axes>"
      ]
     },
     "metadata": {
      "needs_background": "light"
     },
     "output_type": "display_data"
    }
   ],
   "source": [
    "# have a look at the influence of the hyper parameter `max_depth`\n",
    "\n",
    "tr = []\n",
    "te = []\n",
    "for i in range(20):\n",
    "    clf = DecisionTreeClassifier(random_state = 42, max_depth = i+1, criterion = \"entropy\")\n",
    "    clf = clf.fit(X_train2, y_train2)\n",
    "    \n",
    "    score_tr = clf.score(X_train2, y_train2)\n",
    "    score_te = cross_val_score(clf, X_valid2, y_valid2, cv = 5).mean()\n",
    "    \n",
    "    tr.append(score_tr)\n",
    "    te.append(score_te)\n",
    "\n",
    "print(max(te))\n",
    "plt.plot(range(1, 21), tr, color = \"red\", label = \"train\")\n",
    "plt.plot(range(1, 21), te, color = \"blue\", label = \"validation\")\n",
    "plt.xticks(range(1, 21))\n",
    "plt.legend()\n",
    "plt.show()"
   ]
  },
  {
   "cell_type": "code",
   "execution_count": 58,
   "metadata": {
    "colab": {
     "base_uri": "https://localhost:8080/"
    },
    "id": "biP1tB6i5BS9",
    "outputId": "54c7a5d2-0ad3-4ae8-a7ad-9e4cad63eec2"
   },
   "outputs": [
    {
     "data": {
      "text/plain": [
       "GridSearchCV(cv=5,\n",
       "             estimator=DecisionTreeClassifier(max_depth=9, random_state=42),\n",
       "             param_grid={'criterion': ('gini', 'entropy'),\n",
       "                         'min_samples_leaf': [1, 4, 7, 10, 13, 16, 19, 22, 25,\n",
       "                                              28, 31, 34, 37, 40, 43, 46, 49],\n",
       "                         'splitter': ('best', 'random')})"
      ]
     },
     "execution_count": 58,
     "metadata": {},
     "output_type": "execute_result"
    }
   ],
   "source": [
    "# grid search with cross validation\n",
    "parameter = {'splitter':('best', 'random'),\n",
    "             'criterion':('gini', 'entropy'),\n",
    "             'min_samples_leaf':[*range(1, 50, 3)]}\n",
    "\n",
    "clf = DecisionTreeClassifier(random_state = 42, max_depth = 9)\n",
    "GS = GridSearchCV(clf, parameter, cv = 5)\n",
    "\n",
    "GS.fit(X_train2, y_train2)"
   ]
  },
  {
   "cell_type": "code",
   "execution_count": 59,
   "metadata": {
    "colab": {
     "base_uri": "https://localhost:8080/"
    },
    "id": "F6EDJS30-9tM",
    "outputId": "c6ad0f62-85f4-475a-f486-7ca44ecaa597"
   },
   "outputs": [
    {
     "name": "stdout",
     "output_type": "stream",
     "text": [
      "{'criterion': 'entropy', 'min_samples_leaf': 10, 'splitter': 'best'}\n"
     ]
    }
   ],
   "source": [
    "print(GS.best_params_)"
   ]
  },
  {
   "cell_type": "code",
   "execution_count": 60,
   "metadata": {
    "colab": {
     "base_uri": "https://localhost:8080/"
    },
    "id": "pVPznz_vA4nT",
    "outputId": "07302ffd-b8a8-4f9f-93f2-47f9d1b21b80"
   },
   "outputs": [
    {
     "data": {
      "text/plain": [
       "DecisionTreeClassifier(criterion='entropy', max_depth=9, min_samples_leaf=10,\n",
       "                       random_state=42)"
      ]
     },
     "execution_count": 60,
     "metadata": {},
     "output_type": "execute_result"
    }
   ],
   "source": [
    "# use the best parameters to build a new model\n",
    "clf_new = DecisionTreeClassifier(random_state=42, criterion='entropy', min_samples_leaf=10, splitter='best', max_depth = 9)\n",
    "clf_new.fit(X_train2, y_train2)"
   ]
  },
  {
   "cell_type": "code",
   "execution_count": 61,
   "metadata": {
    "colab": {
     "base_uri": "https://localhost:8080/"
    },
    "id": "dWkr8ThZBK2_",
    "outputId": "83c40883-2455-4409-bc06-8b9a2acecbf1"
   },
   "outputs": [
    {
     "name": "stdout",
     "output_type": "stream",
     "text": [
      "0.8132607087620201\n",
      "0.8177416751842488\n",
      "0.8103826238988635\n",
      "0.8173651641709008\n"
     ]
    }
   ],
   "source": [
    "print(clf_new.score(X_train2, y_train2))\n",
    "print(clf_new.score(X_valid2, y_valid2))\n",
    "print(cross_val_score(clf_new, X_train2, y_train2, cv = 5).mean())\n",
    "print(cross_val_score(clf_new, X_valid2, y_valid2, cv = 5).mean())"
   ]
  },
  {
   "cell_type": "code",
   "execution_count": 62,
   "metadata": {},
   "outputs": [
    {
     "data": {
      "text/plain": [
       "[('lead_time', 0.3001900977465287),\n",
       " ('Non_Refund', 0.2551127164770722),\n",
       " ('country_prt', 0.18761696405846168),\n",
       " ('reserved_equal_assigned', 0.11933910371125984),\n",
       " ('total_of_special_requests', 0.06581073940733026),\n",
       " ('booking_changes_class', 0.05415671341186744),\n",
       " ('adults', 0.017773665187479838)]"
      ]
     },
     "execution_count": 62,
     "metadata": {},
     "output_type": "execute_result"
    }
   ],
   "source": [
    "sorted([*zip(X_train2.columns.tolist(), clf_new.feature_importances_)], key = lambda t:t[1], reverse = True)"
   ]
  },
  {
   "cell_type": "code",
   "execution_count": 65,
   "metadata": {
    "colab": {
     "background_save": true
    },
    "id": "gGQprUmFGbbK"
   },
   "outputs": [
    {
     "ename": "ExecutableNotFound",
     "evalue": "failed to execute WindowsPath('dot'), make sure the Graphviz executables are on your systems' PATH",
     "output_type": "error",
     "traceback": [
      "\u001b[1;31m---------------------------------------------------------------------------\u001b[0m",
      "\u001b[1;31mFileNotFoundError\u001b[0m                         Traceback (most recent call last)",
      "\u001b[1;32mD:\\Anaconda\\lib\\site-packages\\graphviz\\backend\\execute.py\u001b[0m in \u001b[0;36mrun_check\u001b[1;34m(cmd, input_lines, encoding, quiet, **kwargs)\u001b[0m\n\u001b[0;32m     80\u001b[0m         \u001b[1;32melse\u001b[0m\u001b[1;33m:\u001b[0m\u001b[1;33m\u001b[0m\u001b[1;33m\u001b[0m\u001b[0m\n\u001b[1;32m---> 81\u001b[1;33m             \u001b[0mproc\u001b[0m \u001b[1;33m=\u001b[0m \u001b[0msubprocess\u001b[0m\u001b[1;33m.\u001b[0m\u001b[0mrun\u001b[0m\u001b[1;33m(\u001b[0m\u001b[0mcmd\u001b[0m\u001b[1;33m,\u001b[0m \u001b[1;33m**\u001b[0m\u001b[0mkwargs\u001b[0m\u001b[1;33m)\u001b[0m\u001b[1;33m\u001b[0m\u001b[1;33m\u001b[0m\u001b[0m\n\u001b[0m\u001b[0;32m     82\u001b[0m     \u001b[1;32mexcept\u001b[0m \u001b[0mOSError\u001b[0m \u001b[1;32mas\u001b[0m \u001b[0me\u001b[0m\u001b[1;33m:\u001b[0m\u001b[1;33m\u001b[0m\u001b[1;33m\u001b[0m\u001b[0m\n",
      "\u001b[1;32mD:\\Anaconda\\lib\\subprocess.py\u001b[0m in \u001b[0;36mrun\u001b[1;34m(input, capture_output, timeout, check, *popenargs, **kwargs)\u001b[0m\n\u001b[0;32m    488\u001b[0m \u001b[1;33m\u001b[0m\u001b[0m\n\u001b[1;32m--> 489\u001b[1;33m     \u001b[1;32mwith\u001b[0m \u001b[0mPopen\u001b[0m\u001b[1;33m(\u001b[0m\u001b[1;33m*\u001b[0m\u001b[0mpopenargs\u001b[0m\u001b[1;33m,\u001b[0m \u001b[1;33m**\u001b[0m\u001b[0mkwargs\u001b[0m\u001b[1;33m)\u001b[0m \u001b[1;32mas\u001b[0m \u001b[0mprocess\u001b[0m\u001b[1;33m:\u001b[0m\u001b[1;33m\u001b[0m\u001b[1;33m\u001b[0m\u001b[0m\n\u001b[0m\u001b[0;32m    490\u001b[0m         \u001b[1;32mtry\u001b[0m\u001b[1;33m:\u001b[0m\u001b[1;33m\u001b[0m\u001b[1;33m\u001b[0m\u001b[0m\n",
      "\u001b[1;32mD:\\Anaconda\\lib\\subprocess.py\u001b[0m in \u001b[0;36m__init__\u001b[1;34m(self, args, bufsize, executable, stdin, stdout, stderr, preexec_fn, close_fds, shell, cwd, env, universal_newlines, startupinfo, creationflags, restore_signals, start_new_session, pass_fds, encoding, errors, text)\u001b[0m\n\u001b[0;32m    853\u001b[0m \u001b[1;33m\u001b[0m\u001b[0m\n\u001b[1;32m--> 854\u001b[1;33m             self._execute_child(args, executable, preexec_fn, close_fds,\n\u001b[0m\u001b[0;32m    855\u001b[0m                                 \u001b[0mpass_fds\u001b[0m\u001b[1;33m,\u001b[0m \u001b[0mcwd\u001b[0m\u001b[1;33m,\u001b[0m \u001b[0menv\u001b[0m\u001b[1;33m,\u001b[0m\u001b[1;33m\u001b[0m\u001b[1;33m\u001b[0m\u001b[0m\n",
      "\u001b[1;32mD:\\Anaconda\\lib\\subprocess.py\u001b[0m in \u001b[0;36m_execute_child\u001b[1;34m(self, args, executable, preexec_fn, close_fds, pass_fds, cwd, env, startupinfo, creationflags, shell, p2cread, p2cwrite, c2pread, c2pwrite, errread, errwrite, unused_restore_signals, unused_start_new_session)\u001b[0m\n\u001b[0;32m   1306\u001b[0m             \u001b[1;32mtry\u001b[0m\u001b[1;33m:\u001b[0m\u001b[1;33m\u001b[0m\u001b[1;33m\u001b[0m\u001b[0m\n\u001b[1;32m-> 1307\u001b[1;33m                 hp, ht, pid, tid = _winapi.CreateProcess(executable, args,\n\u001b[0m\u001b[0;32m   1308\u001b[0m                                          \u001b[1;31m# no special security\u001b[0m\u001b[1;33m\u001b[0m\u001b[1;33m\u001b[0m\u001b[1;33m\u001b[0m\u001b[0m\n",
      "\u001b[1;31mFileNotFoundError\u001b[0m: [WinError 2] 系统找不到指定的文件。",
      "\nThe above exception was the direct cause of the following exception:\n",
      "\u001b[1;31mExecutableNotFound\u001b[0m                        Traceback (most recent call last)",
      "\u001b[1;32m<ipython-input-65-f1a4d63f79ae>\u001b[0m in \u001b[0;36m<module>\u001b[1;34m\u001b[0m\n\u001b[0;32m      3\u001b[0m                            filled = True, rounded = True)\n\u001b[0;32m      4\u001b[0m \u001b[0mgraph\u001b[0m \u001b[1;33m=\u001b[0m \u001b[0mgraphviz\u001b[0m\u001b[1;33m.\u001b[0m\u001b[0mSource\u001b[0m\u001b[1;33m(\u001b[0m\u001b[0mdot_data\u001b[0m\u001b[1;33m)\u001b[0m\u001b[1;33m\u001b[0m\u001b[1;33m\u001b[0m\u001b[0m\n\u001b[1;32m----> 5\u001b[1;33m \u001b[0mgraph\u001b[0m\u001b[1;33m.\u001b[0m\u001b[0mrender\u001b[0m\u001b[1;33m(\u001b[0m\u001b[1;34m\"Tree\"\u001b[0m\u001b[1;33m)\u001b[0m\u001b[1;33m\u001b[0m\u001b[1;33m\u001b[0m\u001b[0m\n\u001b[0m\u001b[0;32m      6\u001b[0m \u001b[0mgraph\u001b[0m\u001b[1;33m\u001b[0m\u001b[1;33m\u001b[0m\u001b[0m\n",
      "\u001b[1;32mD:\\Anaconda\\lib\\site-packages\\graphviz\\_tools.py\u001b[0m in \u001b[0;36mwrapper\u001b[1;34m(*args, **kwargs)\u001b[0m\n\u001b[0;32m    170\u001b[0m                               category=category)\n\u001b[0;32m    171\u001b[0m \u001b[1;33m\u001b[0m\u001b[0m\n\u001b[1;32m--> 172\u001b[1;33m             \u001b[1;32mreturn\u001b[0m \u001b[0mfunc\u001b[0m\u001b[1;33m(\u001b[0m\u001b[1;33m*\u001b[0m\u001b[0margs\u001b[0m\u001b[1;33m,\u001b[0m \u001b[1;33m**\u001b[0m\u001b[0mkwargs\u001b[0m\u001b[1;33m)\u001b[0m\u001b[1;33m\u001b[0m\u001b[1;33m\u001b[0m\u001b[0m\n\u001b[0m\u001b[0;32m    173\u001b[0m \u001b[1;33m\u001b[0m\u001b[0m\n\u001b[0;32m    174\u001b[0m         \u001b[1;32mreturn\u001b[0m \u001b[0mwrapper\u001b[0m\u001b[1;33m\u001b[0m\u001b[1;33m\u001b[0m\u001b[0m\n",
      "\u001b[1;32mD:\\Anaconda\\lib\\site-packages\\graphviz\\rendering.py\u001b[0m in \u001b[0;36mrender\u001b[1;34m(self, filename, directory, view, cleanup, format, renderer, formatter, quiet, quiet_view, outfile, engine, raise_if_result_exists, overwrite_source)\u001b[0m\n\u001b[0;32m    117\u001b[0m         \u001b[0margs\u001b[0m\u001b[1;33m.\u001b[0m\u001b[0mappend\u001b[0m\u001b[1;33m(\u001b[0m\u001b[0mfilepath\u001b[0m\u001b[1;33m)\u001b[0m\u001b[1;33m\u001b[0m\u001b[1;33m\u001b[0m\u001b[0m\n\u001b[0;32m    118\u001b[0m \u001b[1;33m\u001b[0m\u001b[0m\n\u001b[1;32m--> 119\u001b[1;33m         \u001b[0mrendered\u001b[0m \u001b[1;33m=\u001b[0m \u001b[0mself\u001b[0m\u001b[1;33m.\u001b[0m\u001b[0m_render\u001b[0m\u001b[1;33m(\u001b[0m\u001b[1;33m*\u001b[0m\u001b[0margs\u001b[0m\u001b[1;33m,\u001b[0m \u001b[1;33m**\u001b[0m\u001b[0mkwargs\u001b[0m\u001b[1;33m)\u001b[0m\u001b[1;33m\u001b[0m\u001b[1;33m\u001b[0m\u001b[0m\n\u001b[0m\u001b[0;32m    120\u001b[0m \u001b[1;33m\u001b[0m\u001b[0m\n\u001b[0;32m    121\u001b[0m         \u001b[1;32mif\u001b[0m \u001b[0mcleanup\u001b[0m\u001b[1;33m:\u001b[0m\u001b[1;33m\u001b[0m\u001b[1;33m\u001b[0m\u001b[0m\n",
      "\u001b[1;32mD:\\Anaconda\\lib\\site-packages\\graphviz\\_tools.py\u001b[0m in \u001b[0;36mwrapper\u001b[1;34m(*args, **kwargs)\u001b[0m\n\u001b[0;32m    170\u001b[0m                               category=category)\n\u001b[0;32m    171\u001b[0m \u001b[1;33m\u001b[0m\u001b[0m\n\u001b[1;32m--> 172\u001b[1;33m             \u001b[1;32mreturn\u001b[0m \u001b[0mfunc\u001b[0m\u001b[1;33m(\u001b[0m\u001b[1;33m*\u001b[0m\u001b[0margs\u001b[0m\u001b[1;33m,\u001b[0m \u001b[1;33m**\u001b[0m\u001b[0mkwargs\u001b[0m\u001b[1;33m)\u001b[0m\u001b[1;33m\u001b[0m\u001b[1;33m\u001b[0m\u001b[0m\n\u001b[0m\u001b[0;32m    173\u001b[0m \u001b[1;33m\u001b[0m\u001b[0m\n\u001b[0;32m    174\u001b[0m         \u001b[1;32mreturn\u001b[0m \u001b[0mwrapper\u001b[0m\u001b[1;33m\u001b[0m\u001b[1;33m\u001b[0m\u001b[0m\n",
      "\u001b[1;32mD:\\Anaconda\\lib\\site-packages\\graphviz\\backend\\rendering.py\u001b[0m in \u001b[0;36mrender\u001b[1;34m(engine, format, filepath, renderer, formatter, quiet, outfile, raise_if_result_exists, overwrite_filepath)\u001b[0m\n\u001b[0;32m    315\u001b[0m     \u001b[0mcmd\u001b[0m \u001b[1;33m+=\u001b[0m \u001b[0margs\u001b[0m\u001b[1;33m\u001b[0m\u001b[1;33m\u001b[0m\u001b[0m\n\u001b[0;32m    316\u001b[0m \u001b[1;33m\u001b[0m\u001b[0m\n\u001b[1;32m--> 317\u001b[1;33m     execute.run_check(cmd,\n\u001b[0m\u001b[0;32m    318\u001b[0m                       \u001b[0mcwd\u001b[0m\u001b[1;33m=\u001b[0m\u001b[0mfilepath\u001b[0m\u001b[1;33m.\u001b[0m\u001b[0mparent\u001b[0m \u001b[1;32mif\u001b[0m \u001b[0mfilepath\u001b[0m\u001b[1;33m.\u001b[0m\u001b[0mparent\u001b[0m\u001b[1;33m.\u001b[0m\u001b[0mparts\u001b[0m \u001b[1;32melse\u001b[0m \u001b[1;32mNone\u001b[0m\u001b[1;33m,\u001b[0m\u001b[1;33m\u001b[0m\u001b[1;33m\u001b[0m\u001b[0m\n\u001b[0;32m    319\u001b[0m                       \u001b[0mquiet\u001b[0m\u001b[1;33m=\u001b[0m\u001b[0mquiet\u001b[0m\u001b[1;33m,\u001b[0m\u001b[1;33m\u001b[0m\u001b[1;33m\u001b[0m\u001b[0m\n",
      "\u001b[1;32mD:\\Anaconda\\lib\\site-packages\\graphviz\\backend\\execute.py\u001b[0m in \u001b[0;36mrun_check\u001b[1;34m(cmd, input_lines, encoding, quiet, **kwargs)\u001b[0m\n\u001b[0;32m     82\u001b[0m     \u001b[1;32mexcept\u001b[0m \u001b[0mOSError\u001b[0m \u001b[1;32mas\u001b[0m \u001b[0me\u001b[0m\u001b[1;33m:\u001b[0m\u001b[1;33m\u001b[0m\u001b[1;33m\u001b[0m\u001b[0m\n\u001b[0;32m     83\u001b[0m         \u001b[1;32mif\u001b[0m \u001b[0me\u001b[0m\u001b[1;33m.\u001b[0m\u001b[0merrno\u001b[0m \u001b[1;33m==\u001b[0m \u001b[0merrno\u001b[0m\u001b[1;33m.\u001b[0m\u001b[0mENOENT\u001b[0m\u001b[1;33m:\u001b[0m\u001b[1;33m\u001b[0m\u001b[1;33m\u001b[0m\u001b[0m\n\u001b[1;32m---> 84\u001b[1;33m             \u001b[1;32mraise\u001b[0m \u001b[0mExecutableNotFound\u001b[0m\u001b[1;33m(\u001b[0m\u001b[0mcmd\u001b[0m\u001b[1;33m)\u001b[0m \u001b[1;32mfrom\u001b[0m \u001b[0me\u001b[0m\u001b[1;33m\u001b[0m\u001b[1;33m\u001b[0m\u001b[0m\n\u001b[0m\u001b[0;32m     85\u001b[0m         \u001b[1;32mraise\u001b[0m\u001b[1;33m\u001b[0m\u001b[1;33m\u001b[0m\u001b[0m\n\u001b[0;32m     86\u001b[0m \u001b[1;33m\u001b[0m\u001b[0m\n",
      "\u001b[1;31mExecutableNotFound\u001b[0m: failed to execute WindowsPath('dot'), make sure the Graphviz executables are on your systems' PATH"
     ]
    }
   ],
   "source": [
    "feature_name = X_train2.columns.tolist()\n",
    "dot_data = export_graphviz(clf_new, feature_names=feature_name, class_names = ['not canceled', 'canceled'],\n",
    "                           filled = True, rounded = True)\n",
    "graph = graphviz.Source(dot_data)\n",
    "graph.render(\"Tree\")\n",
    "graph"
   ]
  },
  {
   "cell_type": "code",
   "execution_count": null,
   "metadata": {},
   "outputs": [],
   "source": []
  },
  {
   "cell_type": "markdown",
   "metadata": {
    "id": "__5TMQmbj4w9"
   },
   "source": [
    "## 4. Discussion & Conclusions\n"
   ]
  },
  {
   "cell_type": "markdown",
   "metadata": {
    "id": "3GjnEgDFj4w-"
   },
   "source": [
    "*In this section you should provide a general overview of your final model, its performance, and reliability. You should discuss what the implications of your model are in terms of the included features, predictive performance, and anything else you think is relevant.*\n",
    "\n",
    "*This should be written with a target audience of the client who is with the hotel data and university level mathematics but not necessarily someone who has taken a postgraduate statistical modeling course. Your goal should be to convince this audience that your model is both accurate and useful.*\n",
    "\n",
    "*Keep in mind that a negative result, i.e. a model that does not work well predictively, that is well explained and justified in terms of why it failed will likely receive higher marks than a model with strong predictive performance but with poor or incorrect explinations / justifications.*"
   ]
  }
 ],
 "metadata": {
  "colab": {
   "collapsed_sections": [
    "agDBRafJj4w2",
    "__5TMQmbj4w9"
   ],
   "name": "proj2.ipynb",
   "provenance": []
  },
  "kernelspec": {
   "display_name": "Python 3",
   "language": "python",
   "name": "python3"
  },
  "language_info": {
   "codemirror_mode": {
    "name": "ipython",
    "version": 3
   },
   "file_extension": ".py",
   "mimetype": "text/x-python",
   "name": "python",
   "nbconvert_exporter": "python",
   "pygments_lexer": "ipython3",
   "version": "3.8.5"
  }
 },
 "nbformat": 4,
 "nbformat_minor": 1
}
