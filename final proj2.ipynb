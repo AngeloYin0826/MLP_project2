{
 "cells": [
  {
   "cell_type": "markdown",
   "metadata": {
    "id": "gGNR9UuNj4wa"
   },
   "source": [
    "# Machine Learning in Python - Project 2\n",
    "\n",
    "Due Friday, April 15th by 5 pm UK local time."
   ]
  },
  {
   "cell_type": "markdown",
   "metadata": {
    "id": "T6s0syWoj4wr"
   },
   "source": [
    "Contributors: Letian Yin(s2179686), Yile Shi(s2168022), Danni Chen(s2227278)"
   ]
  },
  {
   "cell_type": "markdown",
   "metadata": {
    "id": "qjlL-SGwj4wu"
   },
   "source": [
    "## 0. Setup"
   ]
  },
  {
   "cell_type": "code",
   "execution_count": 1,
   "metadata": {
    "executionInfo": {
     "elapsed": 948,
     "status": "ok",
     "timestamp": 1649940538765,
     "user": {
      "displayName": "Yvonne Chan",
      "userId": "12957906171588768734"
     },
     "user_tz": -60
    },
    "id": "SADfrxrkj4wx"
   },
   "outputs": [],
   "source": [
    "# Add any additional libraries or submodules below\n",
    "\n",
    "# Display plots inline\n",
    "%matplotlib inline\n",
    "\n",
    "# Data libraries\n",
    "import pandas as pd\n",
    "import numpy as np\n",
    "\n",
    "# Plotting libraries\n",
    "import matplotlib.pyplot as plt\n",
    "import seaborn as sns\n",
    "\n",
    "# Plotting defaults\n",
    "plt.rcParams['figure.figsize'] = (8,5)\n",
    "plt.rcParams['figure.dpi'] = 80\n",
    "\n",
    "from scipy.stats.distributions import uniform, loguniform\n",
    "\n",
    "# sklearn modules\n",
    "import sklearn\n",
    "from sklearn.preprocessing import OneHotEncoder\n",
    "from sklearn.linear_model import LogisticRegression\n",
    "from sklearn.model_selection import train_test_split\n",
    "from sklearn.metrics import roc_auc_score\n",
    "from sklearn.metrics import accuracy_score\n",
    "from sklearn.metrics import classification_report\n",
    "from sklearn.metrics import confusion_matrix\n",
    "from sklearn.metrics import mean_squared_error\n",
    "from sklearn.model_selection import cross_validate\n",
    "from sklearn.pipeline import Pipeline  # combining classifier steps\n",
    "from sklearn.preprocessing import StandardScaler\n",
    "from sklearn.model_selection import GridSearchCV, RandomizedSearchCV, KFold, StratifiedKFold\n",
    "from sklearn.tree import DecisionTreeClassifier, plot_tree, export_graphviz\n",
    "from sklearn.model_selection import cross_val_score\n",
    "from sklearn.metrics import recall_score\n",
    "\n",
    "import os\n",
    "from google.colab import drive"
   ]
  },
  {
   "cell_type": "code",
   "execution_count": 2,
   "metadata": {
    "executionInfo": {
     "elapsed": 12,
     "status": "ok",
     "timestamp": 1649940538767,
     "user": {
      "displayName": "Yvonne Chan",
      "userId": "12957906171588768734"
     },
     "user_tz": -60
    },
    "id": "Cz5QXiYHk_hM"
   },
   "outputs": [],
   "source": [
    "import graphviz "
   ]
  },
  {
   "cell_type": "code",
   "execution_count": 3,
   "metadata": {
    "colab": {
     "base_uri": "https://localhost:8080/",
     "height": 0
    },
    "executionInfo": {
     "elapsed": 2534,
     "status": "ok",
     "timestamp": 1649940541290,
     "user": {
      "displayName": "Yvonne Chan",
      "userId": "12957906171588768734"
     },
     "user_tz": -60
    },
    "id": "G6dw5ux6j4w0",
    "outputId": "0aa6a36e-0978-45ac-8ace-e9a267e32520"
   },
   "outputs": [
    {
     "name": "stdout",
     "output_type": "stream",
     "text": [
      "Drive already mounted at /content/drive; to attempt to forcibly remount, call drive.mount(\"/content/drive\", force_remount=True).\n"
     ]
    }
   ],
   "source": [
    "# Load data\n",
    "drive.mount('/content/drive') # give permission\n",
    "os.chdir('drive/My Drive/Colab Notebooks/ML for python/project 2')\n",
    "#os.chdir('drive/My Drive/Colab Notebooks/mlp/project-2')\n",
    "d = pd.read_csv(\"hotel.csv\")"
   ]
  },
  {
   "cell_type": "markdown",
   "metadata": {
    "id": "agDBRafJj4w2"
   },
   "source": [
    "## 1. Introduction\n",
    "\n",
    "The target of this project is to research the potential factors that affect the cancellation of booking in hotel. The data is derived from the booking systems of two real hotels, and the records are from July 1st, 2015 to August 31st, 2017. This is a large dataset, containing 29 variables and 119,390 observations; it also is a messy dataset, and it can contain errors.\n",
    "We started our project with data cleaning, data exploration, followed by feature selection and feature engineering. \n",
    "\n",
    "Model is built with Decision Tree method, with several refinements on feature selection and parameter optimization, we ended up with a model with max_depth 7, gini criterion, 46 min_samples_leaf, and with “best” option as the splitter. The most important feature are listed below in the order of their importance, from high to low:\n",
    "\n",
    "\n",
    "`Non_Refund`, `lead_time`, `country_prt` and `reserved_equal_assigned`, `total_of_special_requests`, `booking_changes_class`, `adults`.\n",
    "\n",
    "And we could conclude that these feature has a higher weight of effect on the probability of cancelling the booking `is_cancelled`.\n",
    "\n"
   ]
  },
  {
   "cell_type": "markdown",
   "metadata": {
    "id": "JVS4Iu-fj4w3"
   },
   "source": [
    "## 2. Exploratory Data Analysis and Feature Engineering"
   ]
  },
  {
   "cell_type": "markdown",
   "metadata": {
    "id": "kM3VgcQEj4w4"
   },
   "source": [
    "As we have a total of 29 features in the beginning, we first did some data cleaning and feature preprocessing."
   ]
  },
  {
   "cell_type": "code",
   "execution_count": 4,
   "metadata": {
    "colab": {
     "base_uri": "https://localhost:8080/",
     "height": 0
    },
    "executionInfo": {
     "elapsed": 358,
     "status": "ok",
     "timestamp": 1649940541640,
     "user": {
      "displayName": "Yvonne Chan",
      "userId": "12957906171588768734"
     },
     "user_tz": -60
    },
    "id": "fW3R1rBg9CFJ",
    "outputId": "7360af34-6d23-448f-8f85-7349e66b301c"
   },
   "outputs": [
    {
     "name": "stdout",
     "output_type": "stream",
     "text": [
      "<class 'pandas.core.frame.DataFrame'>\n",
      "RangeIndex: 119390 entries, 0 to 119389\n",
      "Data columns (total 30 columns):\n",
      " #   Column                          Non-Null Count   Dtype  \n",
      "---  ------                          --------------   -----  \n",
      " 0   is_canceled                     119390 non-null  int64  \n",
      " 1   hotel                           119390 non-null  object \n",
      " 2   lead_time                       119390 non-null  int64  \n",
      " 3   arrival_date_year               119390 non-null  int64  \n",
      " 4   arrival_date_month              119390 non-null  object \n",
      " 5   arrival_date_week_number        119390 non-null  int64  \n",
      " 6   arrival_date_day_of_month       119390 non-null  int64  \n",
      " 7   stays_in_weekend_nights         119390 non-null  int64  \n",
      " 8   stays_in_week_nights            119390 non-null  int64  \n",
      " 9   adults                          119390 non-null  int64  \n",
      " 10  children                        119386 non-null  float64\n",
      " 11  babies                          119390 non-null  int64  \n",
      " 12  meal                            119390 non-null  object \n",
      " 13  country                         118902 non-null  object \n",
      " 14  market_segment                  119390 non-null  object \n",
      " 15  distribution_channel            119390 non-null  object \n",
      " 16  is_repeated_guest               119390 non-null  int64  \n",
      " 17  previous_cancellations          119390 non-null  int64  \n",
      " 18  previous_bookings_not_canceled  119390 non-null  int64  \n",
      " 19  reserved_room_type              119390 non-null  object \n",
      " 20  assigned_room_type              119390 non-null  object \n",
      " 21  booking_changes                 119390 non-null  int64  \n",
      " 22  deposit_type                    119390 non-null  object \n",
      " 23  agent                           103050 non-null  float64\n",
      " 24  company                         6797 non-null    float64\n",
      " 25  days_in_waiting_list            119390 non-null  int64  \n",
      " 26  customer_type                   119390 non-null  object \n",
      " 27  adr                             119390 non-null  float64\n",
      " 28  required_car_parking_spaces     119390 non-null  int64  \n",
      " 29  total_of_special_requests       119390 non-null  int64  \n",
      "dtypes: float64(4), int64(16), object(10)\n",
      "memory usage: 27.3+ MB\n",
      "None\n"
     ]
    }
   ],
   "source": [
    "df = d.copy()\n",
    "print(df.info())"
   ]
  },
  {
   "cell_type": "markdown",
   "metadata": {
    "id": "XuCNeGYck_hS"
   },
   "source": [
    "\n",
    "### 2.1 Data Cleaning"
   ]
  },
  {
   "cell_type": "markdown",
   "metadata": {
    "id": "fLmYf5Z3k_hT"
   },
   "source": [
    "Before feature selection and data preprocessing, we explored deeply into the raw data first, and found some improper data based on the realistic logic. Specifically, we deleted some data according to the following criteria:\n",
    "\n",
    "  - The variable `repeated_guest` marked as 0 should have no previous booking.\n",
    "  \n",
    "  - Average daily rate `adr` should have a reasonable value (non-negative and no more than 1000).\n",
    "  \n",
    "  - The number of car parking spaces required should be no more than the number of adults.\n",
    "  \n",
    "Moreover, missing values of categorical variables, i.e., `country`, `distribution_channel`, are deleted, as they occupy small proportions.\n",
    "\n",
    "As for the numerical variable `children` with a small amount of missing values, it was imputed by its mean value."
   ]
  },
  {
   "cell_type": "code",
   "execution_count": 5,
   "metadata": {
    "executionInfo": {
     "elapsed": 12,
     "status": "ok",
     "timestamp": 1649940541641,
     "user": {
      "displayName": "Yvonne Chan",
      "userId": "12957906171588768734"
     },
     "user_tz": -60
    },
    "id": "wUSUmVSmruqM"
   },
   "outputs": [],
   "source": [
    "# drop observations with no previous booking but considered as repeated guest\n",
    "drop_idx_1 = df.loc[(df['is_repeated_guest'] == 0) & (df['previous_bookings_not_canceled'] > 0)].index\n",
    "df.drop(index = drop_idx_1, inplace = True)"
   ]
  },
  {
   "cell_type": "code",
   "execution_count": 6,
   "metadata": {
    "executionInfo": {
     "elapsed": 11,
     "status": "ok",
     "timestamp": 1649940541641,
     "user": {
      "displayName": "Yvonne Chan",
      "userId": "12957906171588768734"
     },
     "user_tz": -60
    },
    "id": "7EGLVFH8uJaK"
   },
   "outputs": [],
   "source": [
    "# drop observations with improper values\n",
    "drop_idx_2 = df.loc[(df['adr'] < 0) | (df['adr'] > 1000)].index\n",
    "df.drop(index = drop_idx_2, inplace = True)"
   ]
  },
  {
   "cell_type": "code",
   "execution_count": 7,
   "metadata": {
    "executionInfo": {
     "elapsed": 11,
     "status": "ok",
     "timestamp": 1649940541642,
     "user": {
      "displayName": "Yvonne Chan",
      "userId": "12957906171588768734"
     },
     "user_tz": -60
    },
    "id": "mFLu_RXNv7JP"
   },
   "outputs": [],
   "source": [
    "# drop observations with required car parking spaces over the number of adults\n",
    "drop_idx_3 = df.loc[df['required_car_parking_spaces'] > df['adults']].index\n",
    "df.drop(index = drop_idx_3, inplace = True)"
   ]
  },
  {
   "cell_type": "code",
   "execution_count": 8,
   "metadata": {
    "executionInfo": {
     "elapsed": 11,
     "status": "ok",
     "timestamp": 1649940541643,
     "user": {
      "displayName": "Yvonne Chan",
      "userId": "12957906171588768734"
     },
     "user_tz": -60
    },
    "id": "eBOFr1K0J0g0"
   },
   "outputs": [],
   "source": [
    "# drop observations where country is missing\n",
    "drop_idx_4 = df.loc[df['country'].isna() == True].index\n",
    "df.drop(index = drop_idx_4, inplace = True)"
   ]
  },
  {
   "cell_type": "code",
   "execution_count": 9,
   "metadata": {
    "executionInfo": {
     "elapsed": 12,
     "status": "ok",
     "timestamp": 1649940541644,
     "user": {
      "displayName": "Yvonne Chan",
      "userId": "12957906171588768734"
     },
     "user_tz": -60
    },
    "id": "1Rwa_6Ilk_hV"
   },
   "outputs": [],
   "source": [
    "# drop observations with undefined market segment\n",
    "drop_idx_5 = df.loc[df['distribution_channel'] == 'Undefined'].index\n",
    "df.drop(index = drop_idx_5, inplace = True)"
   ]
  },
  {
   "cell_type": "code",
   "execution_count": 10,
   "metadata": {
    "executionInfo": {
     "elapsed": 12,
     "status": "ok",
     "timestamp": 1649940541645,
     "user": {
      "displayName": "Yvonne Chan",
      "userId": "12957906171588768734"
     },
     "user_tz": -60
    },
    "id": "X-FgOZc-FCj5"
   },
   "outputs": [],
   "source": [
    "# impute missing values in children by its mean\n",
    "df['children'] = df['children'].fillna(df['children'].mean())"
   ]
  },
  {
   "cell_type": "markdown",
   "metadata": {
    "id": "FtaIpf3_IMsL"
   },
   "source": [
    "### 2.2 Feature Preprocessing"
   ]
  },
  {
   "cell_type": "markdown",
   "metadata": {
    "id": "jaY890XtJCFO"
   },
   "source": [
    "### 2.2.1 Features converted into binary class "
   ]
  },
  {
   "cell_type": "markdown",
   "metadata": {
    "id": "uHL_VVgAbRlX"
   },
   "source": [
    "For feature `arrival_date_year`, `arrival_date_month`, `arrival_date_week_number`,and `arrival_date_day_of_month`, as these four features have similar properties, we analyzed the cancellation proportion by grouping each of these features, tried if the feature has an overall effect on the cancellation probability. After analysis, the cancellation proportion of `arrival_date_year` does not have a clear trend, the cancellation proportion of `arrival_date_week_number` varies largely between weeks, and we cannot distinguish a clear trend from it, and the cancellation proportion of `arrival_date_day_of_month` is also uninformative. \n",
    "\n",
    "However, it seems that the cancellation proportion of `arrival_date_month` has a difference that we can easily distinguish: ***April--October*** are high, while ***November--March*** are low, so we decided to drop the other three features, and kept `arrival_date_month` only. April~October are assigned 1 (cancellation percentage = 0.393), and November--March are assigned 0 (cancellation percentage = 0.329)."
   ]
  },
  {
   "cell_type": "code",
   "execution_count": 11,
   "metadata": {
    "colab": {
     "base_uri": "https://localhost:8080/",
     "height": 296
    },
    "executionInfo": {
     "elapsed": 561,
     "status": "ok",
     "timestamp": 1649940542195,
     "user": {
      "displayName": "Yvonne Chan",
      "userId": "12957906171588768734"
     },
     "user_tz": -60
    },
    "id": "fqVyIghspF7b",
    "outputId": "91ab0406-d321-4134-a7cc-7b60c02eedd0"
   },
   "outputs": [
    {
     "data": {
      "image/png": "[encoded data removed]",
      "text/plain": [
       "<Figure size 432x288 with 1 Axes>"
      ]
     },
     "metadata": {
      "needs_background": "light"
     },
     "output_type": "display_data"
    }
   ],
   "source": [
    "# histogram for cancellation proportion of each month\n",
    "arrival_month_cancel_proportion = df.groupby(['arrival_date_month'])['is_canceled'].sum('is_canceled')/df.groupby(['arrival_date_month'])['is_canceled'].count()\n",
    "month_df = arrival_month_cancel_proportion.to_frame().reset_index()\n",
    "month_df['month_index'] = [4,8,12,2,1,7,6,3,5,11,10,9]\n",
    "sns.barplot(x = month_df['month_index'], y = month_df['is_canceled']).set(title='arrival_month_cancel_proportion')\n",
    "plt.show()"
   ]
  },
  {
   "cell_type": "code",
   "execution_count": 12,
   "metadata": {
    "executionInfo": {
     "elapsed": 333,
     "status": "ok",
     "timestamp": 1649940542522,
     "user": {
      "displayName": "Yvonne Chan",
      "userId": "12957906171588768734"
     },
     "user_tz": -60
    },
    "id": "dEeuBG6Hk_hX"
   },
   "outputs": [],
   "source": [
    "# convert month to binary - 4-10 : 1, others : 0\n",
    "df['month_class'] = df['arrival_date_month'].apply(lambda x:int(x in ['April', 'May', 'June', 'July', 'August', 'September', 'October']))"
   ]
  },
  {
   "cell_type": "markdown",
   "metadata": {
    "id": "QN657xe90yAA"
   },
   "source": [
    "Initially looking at the dataset, the two hotels are both located in Portugal, and PRT has over 45000 rows of data, accounts nearly half of the dataset. Also, guests from Portugal have more information and convenience, and thus are more likely to change or cancel the hotel booking compared to those from abroad. Therefore, we listed PRT out, assigned as 1, and we assigned the rest as 0. \n",
    "\n",
    "New feature name is called `country_prt`. We can tell the cancellation percentage of PRT is 0.571, and the cancellation percentage of non-PRT is 0.237."
   ]
  },
  {
   "cell_type": "code",
   "execution_count": 13,
   "metadata": {
    "colab": {
     "base_uri": "https://localhost:8080/",
     "height": 0
    },
    "executionInfo": {
     "elapsed": 316,
     "status": "ok",
     "timestamp": 1649940542836,
     "user": {
      "displayName": "Yvonne Chan",
      "userId": "12957906171588768734"
     },
     "user_tz": -60
    },
    "id": "UZD_MQTA08fG",
    "outputId": "4f530b1f-effc-4c0b-b5aa-0ba628b0be71"
   },
   "outputs": [
    {
     "name": "stdout",
     "output_type": "stream",
     "text": [
      "country_prt\n",
      "0    0.237155\n",
      "1    0.570577\n",
      "Name: is_canceled, dtype: float64\n"
     ]
    }
   ],
   "source": [
    "# convert country to binary - PRT : 1, non-PRT : 0\n",
    "df['country_prt'] = df['country'].apply(lambda x:int(x=='PRT'))\n",
    "# cancellation proportion for each class\n",
    "print(df.groupby(['country_prt'])['is_canceled'].sum()/df.groupby(['country_prt'])['is_canceled'].count())"
   ]
  },
  {
   "cell_type": "markdown",
   "metadata": {
    "id": "M-VU1P6_1GoM"
   },
   "source": [
    "We did similar approach to `hotel`, `distribution_channel`, `previous_cancellations_class`, `reserved_equal_assigned`, `booking_changes_class`, `days_in_waiting_list`, `required_car_parking_spaces_class`.\n",
    "\n",
    "---\n",
    "\n",
    "At first, we looked at the `hotel` feature, as we think guests who booked hotels in the city has a higher probability to cancel, because they have more choices in the city, and city is assigned as 1 (cancellation percentage=0.418), resort is assigned 0 (cancellation percentage=0.282)."
   ]
  },
  {
   "cell_type": "code",
   "execution_count": 14,
   "metadata": {
    "executionInfo": {
     "elapsed": 6,
     "status": "ok",
     "timestamp": 1649940542837,
     "user": {
      "displayName": "Yvonne Chan",
      "userId": "12957906171588768734"
     },
     "user_tz": -60
    },
    "id": "rVUqmKm61F20"
   },
   "outputs": [],
   "source": [
    "# convert hotel to binary - city : 1, resort : 0\n",
    "df['hotel_class'] = df['hotel'].apply(lambda x:int(x=='City Hotel'))"
   ]
  },
  {
   "cell_type": "markdown",
   "metadata": {
    "id": "lLeGoW-v11Ac"
   },
   "source": [
    "---\n",
    "\n",
    "The cancellation percentage of `distribution_channel` is displayed below, where TA/TO has an extremely high cancellation rate, therefore we assigned TA/TO as 1 (cancellation percentage=0.411), and we assigned the rest as 0 (cancellation percentage=0.193)."
   ]
  },
  {
   "cell_type": "code",
   "execution_count": 15,
   "metadata": {
    "executionInfo": {
     "elapsed": 336,
     "status": "ok",
     "timestamp": 1649940543168,
     "user": {
      "displayName": "Yvonne Chan",
      "userId": "12957906171588768734"
     },
     "user_tz": -60
    },
    "id": "Z_2-hTaO19EN"
   },
   "outputs": [],
   "source": [
    "# convert distribution channel to binary - TA/TO : 1, non-TA/TO : 0\n",
    "df['distribution_channel_class'] = df['distribution_channel'].apply(lambda x:int(x=='TA/TO'))"
   ]
  },
  {
   "cell_type": "markdown",
   "metadata": {
    "id": "dGTcT6n12USz"
   },
   "source": [
    "---\n",
    "\n",
    "For data with `previous_cancellations_class`, we think guests who had cancelled the booking before has a higher probability of cancelling it again, so we converted them into two groups: guests with no previous cancellation (cancellation percentage=0.341, assigned as 0), and guests who cancelled (cancellation percentage=0.926, assigned as 1). "
   ]
  },
  {
   "cell_type": "code",
   "execution_count": 16,
   "metadata": {
    "executionInfo": {
     "elapsed": 213,
     "status": "ok",
     "timestamp": 1649940543375,
     "user": {
      "displayName": "Yvonne Chan",
      "userId": "12957906171588768734"
     },
     "user_tz": -60
    },
    "id": "C1KYnVd72VA6"
   },
   "outputs": [],
   "source": [
    "# convert previous_cancellations_class to binary - non-zero : 1, zero : 0\n",
    "df['previous_cancellations_class'] = df['previous_cancellations'].apply(lambda x:int(x!=0))"
   ]
  },
  {
   "cell_type": "markdown",
   "metadata": {
    "id": "yufPvcs62bLw"
   },
   "source": [
    "---\n",
    "\n",
    "We checked if the `reserved_room_type` is the same as the `assigned_room_type`. If they were different, the hotel usually assigned an advanced level of room for the guest because the hotel was out of the type they booked, and we think this has a potential effect on cancellation rate, as guests who received an advanced service using less money are less likely to cancel the booking. Match is assigned as 1 (cancellation percentage=0.417), and non-match is assigned as 0 (cancellation percentage=0.054), and the new feature is called `reserved_equal_assigned`."
   ]
  },
  {
   "cell_type": "code",
   "execution_count": 17,
   "metadata": {
    "executionInfo": {
     "elapsed": 14,
     "status": "ok",
     "timestamp": 1649940543377,
     "user": {
      "displayName": "Yvonne Chan",
      "userId": "12957906171588768734"
     },
     "user_tz": -60
    },
    "id": "nB3E2BpY2lMj"
   },
   "outputs": [],
   "source": [
    "# create a new binary column for reserved and assigned - matching : 1, non-matching : 0\n",
    "df['reserved_equal_assigned'] = np.where((df['reserved_room_type'] == df['assigned_room_type']), 1, 0)"
   ]
  },
  {
   "cell_type": "markdown",
   "metadata": {
    "id": "LRzdCLqP2sv7"
   },
   "source": [
    "---\n",
    "\n",
    "Guests who never changed their booking take most amount of the dataset. We think guests who changed the booking try to better satisfy their requirements, so they will be less likely to cancel the booking. Therefore, we converted them and assigned `never changed` as 0 (cancellation percentage=0.411), and `changed` as 1(cancellation percentage=0.158), and the new feature is called `booking_changes_class`."
   ]
  },
  {
   "cell_type": "code",
   "execution_count": 18,
   "metadata": {
    "executionInfo": {
     "elapsed": 14,
     "status": "ok",
     "timestamp": 1649940543379,
     "user": {
      "displayName": "Yvonne Chan",
      "userId": "12957906171588768734"
     },
     "user_tz": -60
    },
    "id": "yx9TMfhP2876"
   },
   "outputs": [],
   "source": [
    "# convert booking_changes to binary - changed : 1, non-changed : 0\n",
    "df['booking_changes_class'] = df['booking_changes'].apply(lambda x:int(x!=0))"
   ]
  },
  {
   "cell_type": "markdown",
   "metadata": {
    "id": "_Mo29m852_tc"
   },
   "source": [
    "---\n",
    "\n",
    "Based on the analysis of its graph we had plotted, we cannot tell the difference of cancellation percentage of different days_in_waiting_list. So we considered it in general. guests who have a longer waiting time tends to have a higher probability of cancelling the booking than guests who do not need to wait. So we also converted this feature, assigned them as either have days in waiting list as 1 (cancellation percentage=0.64), or not as 0 (cancellation percentage=0.368), and the new feature is called “have_days_in_wl”."
   ]
  },
  {
   "cell_type": "code",
   "execution_count": 19,
   "metadata": {
    "executionInfo": {
     "elapsed": 15,
     "status": "ok",
     "timestamp": 1649940543381,
     "user": {
      "displayName": "Yvonne Chan",
      "userId": "12957906171588768734"
     },
     "user_tz": -60
    },
    "id": "hlPiwwL33C9i"
   },
   "outputs": [],
   "source": [
    "# convert this column to binary - wait : 1, non-wait : 0\n",
    "df['have_days_in_wl'] = np.where((df['days_in_waiting_list'] != 0), 1, 0)"
   ]
  },
  {
   "cell_type": "markdown",
   "metadata": {
    "id": "e6-IxC1h3LWa"
   },
   "source": [
    "---\n",
    "\n",
    "For guests who required car parking spaces, we guessed they will have a smaller probability of cancelling the booking as their requirements have been satisfied. We converted this feature into either they need car_parking spaces as 1 (cancellation percentage=0), or not as 0 (cancellation percentage=0.404). Note that when guests asking for car parking spaces, none of them cancelled the booking."
   ]
  },
  {
   "cell_type": "code",
   "execution_count": 20,
   "metadata": {
    "executionInfo": {
     "elapsed": 626,
     "status": "ok",
     "timestamp": 1649940543993,
     "user": {
      "displayName": "Yvonne Chan",
      "userId": "12957906171588768734"
     },
     "user_tz": -60
    },
    "id": "0sr3_ECU3Oqa"
   },
   "outputs": [],
   "source": [
    "# covert required_car_parking_spaces to binary - required : 1, non-required : 0\n",
    "df['required_car_parking_spaces_class'] = df['required_car_parking_spaces'].apply(lambda x:int(x!=0))"
   ]
  },
  {
   "cell_type": "markdown",
   "metadata": {
    "id": "r02L1-z2CbMK"
   },
   "source": [
    "### 2.2.2 Features one-hot encoded"
   ]
  },
  {
   "cell_type": "markdown",
   "metadata": {
    "id": "1X4acBEA3cWC"
   },
   "source": [
    "The cancellation percentage for different `customer types` varies differently, so we directly applied one hot encoding on it. The cancellation percentage of `Contract`, `Group`, `Transient`, `Transient-Party` are 0.31, 0.109, 0.419, 0.259 respectively."
   ]
  },
  {
   "cell_type": "code",
   "execution_count": 21,
   "metadata": {
    "colab": {
     "base_uri": "https://localhost:8080/",
     "height": 400
    },
    "executionInfo": {
     "elapsed": 824,
     "status": "ok",
     "timestamp": 1649940544796,
     "user": {
      "displayName": "Yvonne Chan",
      "userId": "12957906171588768734"
     },
     "user_tz": -60
    },
    "id": "kFv1xeGz4NbE",
    "outputId": "eeeb1f32-7a6a-4669-e1f8-138a650285f5"
   },
   "outputs": [
    {
     "data": {
      "image/png": "[encoded data removed]",
      "text/plain": [
       "<Figure size 432x288 with 1 Axes>"
      ]
     },
     "metadata": {
      "needs_background": "light"
     },
     "output_type": "display_data"
    },
    {
     "name": "stdout",
     "output_type": "stream",
     "text": [
      "customer_type\n",
      "Contract           0.309769\n",
      "Group              0.108779\n",
      "Transient          0.410609\n",
      "Transient-Party    0.254727\n",
      "Name: is_canceled, dtype: float64\n"
     ]
    }
   ],
   "source": [
    "# histograms for cancellation proportion for each customer type\n",
    "cust_type = df.groupby(['customer_type'])['is_canceled'].sum()/df.groupby(['customer_type'])['is_canceled'].count()\n",
    "cust_type_df = cust_type.to_frame().reset_index()\n",
    "sns.barplot(x=cust_type_df['customer_type'], y=cust_type_df['is_canceled']).set(title='customer_type versus cancellation percentage', ylim=(0,1))\n",
    "plt.show()\n",
    "print(df.groupby(['customer_type'])['is_canceled'].sum()/df.groupby(['customer_type'])['is_canceled'].count())\n",
    "\n",
    "# one hot encoding for customer type\n",
    "onehot = OneHotEncoder(handle_unknown='ignore')\n",
    "cus_encoded = onehot.fit_transform(np.array(df['customer_type']).reshape(-1, 1))\n",
    "cus_encoded_df = pd.DataFrame(cus_encoded.toarray(), columns = ['Contract', 'Group', 'Transient', 'Transient-Party'])\n",
    "df = pd.merge(df, cus_encoded_df, left_index = True, right_index = True)"
   ]
  },
  {
   "cell_type": "markdown",
   "metadata": {
    "id": "xEQ5kL2w4VvG"
   },
   "source": [
    "---\n",
    "\n",
    "We did similar application on `deposit_type`, and the cancellation percentage of `No Deposit`, `Non Refund`, `Refundable` are 0.292, 0.994, 0.224 respectively."
   ]
  },
  {
   "cell_type": "code",
   "execution_count": 22,
   "metadata": {
    "executionInfo": {
     "elapsed": 351,
     "status": "ok",
     "timestamp": 1649940545137,
     "user": {
      "displayName": "Yvonne Chan",
      "userId": "12957906171588768734"
     },
     "user_tz": -60
    },
    "id": "TnOg-vBW4j5q"
   },
   "outputs": [],
   "source": [
    "# one hot encoding for deposit type\n",
    "onehot = OneHotEncoder(handle_unknown='ignore')\n",
    "dep_encoded = onehot.fit_transform(np.array(df['deposit_type']).reshape(-1, 1))\n",
    "dep_encoded_df = pd.DataFrame(dep_encoded.toarray(), columns = ['No_Deposit', 'Non_Refund', 'Refundable'])\n",
    "df = pd.merge(df, dep_encoded_df, left_index = True, right_index = True)"
   ]
  },
  {
   "cell_type": "markdown",
   "metadata": {
    "id": "zvj4h7clDSph"
   },
   "source": [
    "### 2.2.3 Features without processing"
   ]
  },
  {
   "cell_type": "markdown",
   "metadata": {
    "id": "PUpVQqAo4vxS"
   },
   "source": [
    "We did not apply any changes to `is_repeated_guest`, `total_of_special_requests`, `lead_time`, and directly used them in our model.\n",
    "\n",
    "For example, as the graph shown below, the cancellation percentage tends to decrease as the number of special requests increase."
   ]
  },
  {
   "cell_type": "code",
   "execution_count": 23,
   "metadata": {
    "colab": {
     "base_uri": "https://localhost:8080/",
     "height": 296
    },
    "executionInfo": {
     "elapsed": 317,
     "status": "ok",
     "timestamp": 1649940545447,
     "user": {
      "displayName": "Yvonne Chan",
      "userId": "12957906171588768734"
     },
     "user_tz": -60
    },
    "id": "DUPm7Tn65xhb",
    "outputId": "e61673e1-f590-43a2-ee60-df496fb08da1"
   },
   "outputs": [
    {
     "data": {
      "image/png": "[encoded data removed]",
      "text/plain": [
       "<Figure size 432x288 with 1 Axes>"
      ]
     },
     "metadata": {
      "needs_background": "light"
     },
     "output_type": "display_data"
    }
   ],
   "source": [
    "# scatter plot for cancellation proportion over number of special requests\n",
    "special_req = df.groupby('total_of_special_requests')['is_canceled'].sum()/df.groupby(['total_of_special_requests'])['is_canceled'].count()\n",
    "special_req = special_req.to_frame().reset_index()\n",
    "sns.scatterplot(x=special_req['total_of_special_requests'], y=special_req['is_canceled']).set(title='total_of_special_requests versus cancellation percentage')\n",
    "plt.show()\n",
    "# obvious negative correlation"
   ]
  },
  {
   "cell_type": "markdown",
   "metadata": {
    "id": "iT6qExMQ5wuc"
   },
   "source": [
    "---\n",
    "\n",
    "The cancellation percentage of the repeated guest is also lower than the new guest. (The plots are omitted here.)\n",
    "\n",
    "---\n",
    "\n",
    "From the plot of adults VS cancellation percentage, we can see that they always cancel when adults are 8 or more. (The plots are omitted here.)"
   ]
  },
  {
   "cell_type": "markdown",
   "metadata": {
    "id": "XlDM2nziDqJL"
   },
   "source": [
    "### 2.2.4 Features deleted"
   ]
  },
  {
   "cell_type": "markdown",
   "metadata": {
    "id": "-HuQdlj57WER"
   },
   "source": [
    "We excluded the following feature due to two reasons: the effect of them on the cancellation percentage is not clear, or the feature is heavily imbalanced.\n",
    "\n",
    "- `previous_bookings_not_canceled`\n",
    "- `market_segment`\n",
    "- `children`\n",
    "- `babies`\n",
    "- `agent`\n",
    "- `company`\n",
    "- `adr`\n",
    "- `meal`\n",
    "\n",
    "For example, the graph of a combination of children and babies are plotted below, which shows no clear trend.\n",
    "\n",
    "Both `stays_in_weekend_nights` and `stays_in_week_nights` are excluded from the model, as there were rows having both zeros, we cannot ensure the accuracy and reliability of them."
   ]
  },
  {
   "cell_type": "code",
   "execution_count": 24,
   "metadata": {
    "colab": {
     "base_uri": "https://localhost:8080/",
     "height": 296
    },
    "executionInfo": {
     "elapsed": 393,
     "status": "ok",
     "timestamp": 1649940545828,
     "user": {
      "displayName": "Yvonne Chan",
      "userId": "12957906171588768734"
     },
     "user_tz": -60
    },
    "id": "GXoQUVvLk_hY",
    "outputId": "93fe72c9-fc4a-4b82-86f9-f926fc8b2e4a"
   },
   "outputs": [
    {
     "data": {
      "image/png": "[encoded data removed]",
      "text/plain": [
       "<Figure size 432x288 with 1 Axes>"
      ]
     },
     "metadata": {
      "needs_background": "light"
     },
     "output_type": "display_data"
    }
   ],
   "source": [
    "# children and baby\n",
    "df['children_baby'] = df['children'] + df['babies']\n",
    "\n",
    "chil_cancel_prop = df.groupby(['children_baby'])['is_canceled'].sum()/df.groupby(['children_baby'])['is_canceled'].count()\n",
    "\n",
    "chil_cancel_prop_df = chil_cancel_prop.to_frame().reset_index()\n",
    "sns.scatterplot(x=chil_cancel_prop_df['children_baby'], y=chil_cancel_prop_df['is_canceled']).set(title='childeren and babies versus cancellation percentage')\n",
    "plt.show()"
   ]
  },
  {
   "cell_type": "markdown",
   "metadata": {
    "id": "ldeAiOsjJfDy"
   },
   "source": [
    "### 2.3 Evaluation"
   ]
  },
  {
   "cell_type": "markdown",
   "metadata": {
    "id": "w_OA_2b7FGpg"
   },
   "source": [
    "Comparing `is_canceled` with orginal data features and pre-processed features in terms of their correlations, we can see a clear increase for the value of correlations, which means the effectiveness of our feature preprocessing and selection steps."
   ]
  },
  {
   "cell_type": "code",
   "execution_count": 25,
   "metadata": {
    "colab": {
     "base_uri": "https://localhost:8080/",
     "height": 0
    },
    "executionInfo": {
     "elapsed": 1255,
     "status": "ok",
     "timestamp": 1649940547069,
     "user": {
      "displayName": "Yvonne Chan",
      "userId": "12957906171588768734"
     },
     "user_tz": -60
    },
    "id": "VNjXTseolq-k",
    "outputId": "25508c66-6f40-4147-a30d-73c9a04720b6"
   },
   "outputs": [
    {
     "data": {
      "text/plain": [
       "is_canceled                          1.000000\n",
       "lead_time                            0.302014\n",
       "arrival_date_year                    0.034337\n",
       "arrival_date_week_number             0.013073\n",
       "arrival_date_day_of_month           -0.003738\n",
       "stays_in_weekend_nights             -0.002997\n",
       "stays_in_week_nights                 0.023442\n",
       "adults                               0.059896\n",
       "children                             0.008077\n",
       "babies                              -0.033271\n",
       "is_repeated_guest                   -0.088764\n",
       "previous_cancellations               0.108711\n",
       "previous_bookings_not_canceled      -0.054476\n",
       "booking_changes                     -0.143607\n",
       "agent                               -0.089626\n",
       "company                             -0.027685\n",
       "days_in_waiting_list                 0.052316\n",
       "adr                                  0.057488\n",
       "required_car_parking_spaces         -0.199040\n",
       "total_of_special_requests           -0.233793\n",
       "month_class                          0.071453\n",
       "country_prt                          0.335370\n",
       "hotel_class                          0.143499\n",
       "distribution_channel_class           0.175203\n",
       "previous_cancellations_class         0.271086\n",
       "reserved_equal_assigned              0.251126\n",
       "booking_changes_class               -0.186280\n",
       "have_days_in_wl                      0.096813\n",
       "required_car_parking_spaces_class   -0.199410\n",
       "Contract                            -0.000294\n",
       "Group                               -0.031994\n",
       "Transient                            0.087912\n",
       "Transient-Party                     -0.087953\n",
       "No_Deposit                          -0.356151\n",
       "Non_Refund                           0.358809\n",
       "Refundable                          -0.008494\n",
       "children_baby                       -0.000128\n",
       "Name: is_canceled, dtype: float64"
      ]
     },
     "execution_count": 25,
     "metadata": {},
     "output_type": "execute_result"
    }
   ],
   "source": [
    "# correlations matrix\n",
    "df.corr().iloc[0,:]"
   ]
  },
  {
   "cell_type": "markdown",
   "metadata": {
    "id": "RLPUu9Qck_hf"
   },
   "source": [
    "### 2.4 Subset for future modelling"
   ]
  },
  {
   "cell_type": "markdown",
   "metadata": {
    "id": "kFgA13DCGhjE"
   },
   "source": [
    "Excluding the features that we mentioned above, the subset of features are listed below."
   ]
  },
  {
   "cell_type": "code",
   "execution_count": 26,
   "metadata": {
    "colab": {
     "base_uri": "https://localhost:8080/",
     "height": 0
    },
    "executionInfo": {
     "elapsed": 34,
     "status": "ok",
     "timestamp": 1649940547072,
     "user": {
      "displayName": "Yvonne Chan",
      "userId": "12957906171588768734"
     },
     "user_tz": -60
    },
    "id": "FH-u76Jok_hf",
    "outputId": "3a8b07bf-5702-47f2-8d5c-acd567bb1d41"
   },
   "outputs": [
    {
     "data": {
      "text/plain": [
       "20"
      ]
     },
     "execution_count": 26,
     "metadata": {},
     "output_type": "execute_result"
    }
   ],
   "source": [
    "column_names = ['is_canceled', 'lead_time', 'month_class', 'adults', 'country_prt', 'distribution_channel_class', \n",
    "                'is_repeated_guest', 'previous_cancellations_class', 'reserved_equal_assigned', 'booking_changes_class',\n",
    "                'No_Deposit', 'Non_Refund', 'Refundable', 'have_days_in_wl', 'Contract', 'Group', 'Transient', 'Transient-Party',\n",
    "                'required_car_parking_spaces_class', 'total_of_special_requests']\n",
    "len(column_names)"
   ]
  },
  {
   "cell_type": "code",
   "execution_count": 27,
   "metadata": {
    "colab": {
     "base_uri": "https://localhost:8080/",
     "height": 505
    },
    "executionInfo": {
     "elapsed": 28,
     "status": "ok",
     "timestamp": 1649940547075,
     "user": {
      "displayName": "Yvonne Chan",
      "userId": "12957906171588768734"
     },
     "user_tz": -60
    },
    "id": "7N2ekonmk_hg",
    "outputId": "9512c855-8007-4d61-d8fc-814690b90442"
   },
   "outputs": [
    {
     "data": {
      "text/html": [
       "\n",
       "  <div id=\"df-bd6dc726-d96f-4c2a-a98b-8a978369397f\">\n",
       "    <div class=\"colab-df-container\">\n",
       "      <div>\n",
       "<style scoped>\n",
       "    .dataframe tbody tr th:only-of-type {\n",
       "        vertical-align: middle;\n",
       "    }\n",
       "\n",
       "    .dataframe tbody tr th {\n",
       "        vertical-align: top;\n",
       "    }\n",
       "\n",
       "    .dataframe thead th {\n",
       "        text-align: right;\n",
       "    }\n",
       "</style>\n",
       "<table border=\"1\" class=\"dataframe\">\n",
       "  <thead>\n",
       "    <tr style=\"text-align: right;\">\n",
       "      <th></th>\n",
       "      <th>is_canceled</th>\n",
       "      <th>lead_time</th>\n",
       "      <th>month_class</th>\n",
       "      <th>adults</th>\n",
       "      <th>country_prt</th>\n",
       "      <th>distribution_channel_class</th>\n",
       "      <th>is_repeated_guest</th>\n",
       "      <th>previous_cancellations_class</th>\n",
       "      <th>reserved_equal_assigned</th>\n",
       "      <th>booking_changes_class</th>\n",
       "      <th>No_Deposit</th>\n",
       "      <th>Non_Refund</th>\n",
       "      <th>Refundable</th>\n",
       "      <th>have_days_in_wl</th>\n",
       "      <th>Contract</th>\n",
       "      <th>Group</th>\n",
       "      <th>Transient</th>\n",
       "      <th>Transient-Party</th>\n",
       "      <th>required_car_parking_spaces_class</th>\n",
       "      <th>total_of_special_requests</th>\n",
       "    </tr>\n",
       "  </thead>\n",
       "  <tbody>\n",
       "    <tr>\n",
       "      <th>0</th>\n",
       "      <td>0</td>\n",
       "      <td>342</td>\n",
       "      <td>1</td>\n",
       "      <td>2</td>\n",
       "      <td>1</td>\n",
       "      <td>0</td>\n",
       "      <td>0</td>\n",
       "      <td>0</td>\n",
       "      <td>1</td>\n",
       "      <td>1</td>\n",
       "      <td>1.0</td>\n",
       "      <td>0.0</td>\n",
       "      <td>0.0</td>\n",
       "      <td>0</td>\n",
       "      <td>0.0</td>\n",
       "      <td>0.0</td>\n",
       "      <td>1.0</td>\n",
       "      <td>0.0</td>\n",
       "      <td>0</td>\n",
       "      <td>0</td>\n",
       "    </tr>\n",
       "    <tr>\n",
       "      <th>1</th>\n",
       "      <td>0</td>\n",
       "      <td>737</td>\n",
       "      <td>1</td>\n",
       "      <td>2</td>\n",
       "      <td>1</td>\n",
       "      <td>0</td>\n",
       "      <td>0</td>\n",
       "      <td>0</td>\n",
       "      <td>1</td>\n",
       "      <td>1</td>\n",
       "      <td>1.0</td>\n",
       "      <td>0.0</td>\n",
       "      <td>0.0</td>\n",
       "      <td>0</td>\n",
       "      <td>0.0</td>\n",
       "      <td>0.0</td>\n",
       "      <td>1.0</td>\n",
       "      <td>0.0</td>\n",
       "      <td>0</td>\n",
       "      <td>0</td>\n",
       "    </tr>\n",
       "    <tr>\n",
       "      <th>2</th>\n",
       "      <td>0</td>\n",
       "      <td>7</td>\n",
       "      <td>1</td>\n",
       "      <td>1</td>\n",
       "      <td>0</td>\n",
       "      <td>0</td>\n",
       "      <td>0</td>\n",
       "      <td>0</td>\n",
       "      <td>0</td>\n",
       "      <td>0</td>\n",
       "      <td>1.0</td>\n",
       "      <td>0.0</td>\n",
       "      <td>0.0</td>\n",
       "      <td>0</td>\n",
       "      <td>0.0</td>\n",
       "      <td>0.0</td>\n",
       "      <td>1.0</td>\n",
       "      <td>0.0</td>\n",
       "      <td>0</td>\n",
       "      <td>0</td>\n",
       "    </tr>\n",
       "    <tr>\n",
       "      <th>3</th>\n",
       "      <td>0</td>\n",
       "      <td>13</td>\n",
       "      <td>1</td>\n",
       "      <td>1</td>\n",
       "      <td>0</td>\n",
       "      <td>0</td>\n",
       "      <td>0</td>\n",
       "      <td>0</td>\n",
       "      <td>1</td>\n",
       "      <td>0</td>\n",
       "      <td>1.0</td>\n",
       "      <td>0.0</td>\n",
       "      <td>0.0</td>\n",
       "      <td>0</td>\n",
       "      <td>0.0</td>\n",
       "      <td>0.0</td>\n",
       "      <td>1.0</td>\n",
       "      <td>0.0</td>\n",
       "      <td>0</td>\n",
       "      <td>0</td>\n",
       "    </tr>\n",
       "    <tr>\n",
       "      <th>4</th>\n",
       "      <td>0</td>\n",
       "      <td>14</td>\n",
       "      <td>1</td>\n",
       "      <td>2</td>\n",
       "      <td>0</td>\n",
       "      <td>1</td>\n",
       "      <td>0</td>\n",
       "      <td>0</td>\n",
       "      <td>1</td>\n",
       "      <td>0</td>\n",
       "      <td>1.0</td>\n",
       "      <td>0.0</td>\n",
       "      <td>0.0</td>\n",
       "      <td>0</td>\n",
       "      <td>0.0</td>\n",
       "      <td>0.0</td>\n",
       "      <td>1.0</td>\n",
       "      <td>0.0</td>\n",
       "      <td>0</td>\n",
       "      <td>1</td>\n",
       "    </tr>\n",
       "    <tr>\n",
       "      <th>...</th>\n",
       "      <td>...</td>\n",
       "      <td>...</td>\n",
       "      <td>...</td>\n",
       "      <td>...</td>\n",
       "      <td>...</td>\n",
       "      <td>...</td>\n",
       "      <td>...</td>\n",
       "      <td>...</td>\n",
       "      <td>...</td>\n",
       "      <td>...</td>\n",
       "      <td>...</td>\n",
       "      <td>...</td>\n",
       "      <td>...</td>\n",
       "      <td>...</td>\n",
       "      <td>...</td>\n",
       "      <td>...</td>\n",
       "      <td>...</td>\n",
       "      <td>...</td>\n",
       "      <td>...</td>\n",
       "      <td>...</td>\n",
       "    </tr>\n",
       "    <tr>\n",
       "      <th>117244</th>\n",
       "      <td>0</td>\n",
       "      <td>468</td>\n",
       "      <td>1</td>\n",
       "      <td>2</td>\n",
       "      <td>0</td>\n",
       "      <td>1</td>\n",
       "      <td>0</td>\n",
       "      <td>0</td>\n",
       "      <td>1</td>\n",
       "      <td>0</td>\n",
       "      <td>1.0</td>\n",
       "      <td>0.0</td>\n",
       "      <td>0.0</td>\n",
       "      <td>0</td>\n",
       "      <td>0.0</td>\n",
       "      <td>0.0</td>\n",
       "      <td>1.0</td>\n",
       "      <td>0.0</td>\n",
       "      <td>0</td>\n",
       "      <td>1</td>\n",
       "    </tr>\n",
       "    <tr>\n",
       "      <th>117245</th>\n",
       "      <td>0</td>\n",
       "      <td>244</td>\n",
       "      <td>1</td>\n",
       "      <td>2</td>\n",
       "      <td>0</td>\n",
       "      <td>1</td>\n",
       "      <td>0</td>\n",
       "      <td>0</td>\n",
       "      <td>1</td>\n",
       "      <td>0</td>\n",
       "      <td>1.0</td>\n",
       "      <td>0.0</td>\n",
       "      <td>0.0</td>\n",
       "      <td>0</td>\n",
       "      <td>0.0</td>\n",
       "      <td>0.0</td>\n",
       "      <td>1.0</td>\n",
       "      <td>0.0</td>\n",
       "      <td>0</td>\n",
       "      <td>2</td>\n",
       "    </tr>\n",
       "    <tr>\n",
       "      <th>117246</th>\n",
       "      <td>0</td>\n",
       "      <td>244</td>\n",
       "      <td>1</td>\n",
       "      <td>2</td>\n",
       "      <td>0</td>\n",
       "      <td>1</td>\n",
       "      <td>0</td>\n",
       "      <td>0</td>\n",
       "      <td>1</td>\n",
       "      <td>0</td>\n",
       "      <td>1.0</td>\n",
       "      <td>0.0</td>\n",
       "      <td>0.0</td>\n",
       "      <td>0</td>\n",
       "      <td>0.0</td>\n",
       "      <td>0.0</td>\n",
       "      <td>1.0</td>\n",
       "      <td>0.0</td>\n",
       "      <td>0</td>\n",
       "      <td>2</td>\n",
       "    </tr>\n",
       "    <tr>\n",
       "      <th>117247</th>\n",
       "      <td>0</td>\n",
       "      <td>90</td>\n",
       "      <td>1</td>\n",
       "      <td>2</td>\n",
       "      <td>0</td>\n",
       "      <td>1</td>\n",
       "      <td>0</td>\n",
       "      <td>0</td>\n",
       "      <td>1</td>\n",
       "      <td>0</td>\n",
       "      <td>1.0</td>\n",
       "      <td>0.0</td>\n",
       "      <td>0.0</td>\n",
       "      <td>0</td>\n",
       "      <td>0.0</td>\n",
       "      <td>0.0</td>\n",
       "      <td>1.0</td>\n",
       "      <td>0.0</td>\n",
       "      <td>0</td>\n",
       "      <td>0</td>\n",
       "    </tr>\n",
       "    <tr>\n",
       "      <th>117248</th>\n",
       "      <td>0</td>\n",
       "      <td>19</td>\n",
       "      <td>1</td>\n",
       "      <td>2</td>\n",
       "      <td>0</td>\n",
       "      <td>1</td>\n",
       "      <td>0</td>\n",
       "      <td>0</td>\n",
       "      <td>1</td>\n",
       "      <td>0</td>\n",
       "      <td>1.0</td>\n",
       "      <td>0.0</td>\n",
       "      <td>0.0</td>\n",
       "      <td>0</td>\n",
       "      <td>0.0</td>\n",
       "      <td>0.0</td>\n",
       "      <td>1.0</td>\n",
       "      <td>0.0</td>\n",
       "      <td>0</td>\n",
       "      <td>1</td>\n",
       "    </tr>\n",
       "  </tbody>\n",
       "</table>\n",
       "<p>116180 rows × 20 columns</p>\n",
       "</div>\n",
       "      <button class=\"colab-df-convert\" onclick=\"convertToInteractive('df-bd6dc726-d96f-4c2a-a98b-8a978369397f')\"\n",
       "              title=\"Convert this dataframe to an interactive table.\"\n",
       "              style=\"display:none;\">\n",
       "        \n",
       "  <svg xmlns=\"http://www.w3.org/2000/svg\" height=\"24px\"viewBox=\"0 0 24 24\"\n",
       "       width=\"24px\">\n",
       "    <path d=\"M0 0h24v24H0V0z\" fill=\"none\"/>\n",
       "    <path d=\"M18.56 5.44l.94 2.06.94-2.06 2.06-.94-2.06-.94-.94-2.06-.94 2.06-2.06.94zm-11 1L8.5 8.5l.94-2.06 2.06-.94-2.06-.94L8.5 2.5l-.94 2.06-2.06.94zm10 10l.94 2.06.94-2.06 2.06-.94-2.06-.94-.94-2.06-.94 2.06-2.06.94z\"/><path d=\"M17.41 7.96l-1.37-1.37c-.4-.4-.92-.59-1.43-.59-.52 0-1.04.2-1.43.59L10.3 9.45l-7.72 7.72c-.78.78-.78 2.05 0 2.83L4 21.41c.39.39.9.59 1.41.59.51 0 1.02-.2 1.41-.59l7.78-7.78 2.81-2.81c.8-.78.8-2.07 0-2.86zM5.41 20L4 18.59l7.72-7.72 1.47 1.35L5.41 20z\"/>\n",
       "  </svg>\n",
       "      </button>\n",
       "      \n",
       "  <style>\n",
       "    .colab-df-container {\n",
       "      display:flex;\n",
       "      flex-wrap:wrap;\n",
       "      gap: 12px;\n",
       "    }\n",
       "\n",
       "    .colab-df-convert {\n",
       "      background-color: #E8F0FE;\n",
       "      border: none;\n",
       "      border-radius: 50%;\n",
       "      cursor: pointer;\n",
       "      display: none;\n",
       "      fill: #1967D2;\n",
       "      height: 32px;\n",
       "      padding: 0 0 0 0;\n",
       "      width: 32px;\n",
       "    }\n",
       "\n",
       "    .colab-df-convert:hover {\n",
       "      background-color: #E2EBFA;\n",
       "      box-shadow: 0px 1px 2px rgba(60, 64, 67, 0.3), 0px 1px 3px 1px rgba(60, 64, 67, 0.15);\n",
       "      fill: #174EA6;\n",
       "    }\n",
       "\n",
       "    [theme=dark] .colab-df-convert {\n",
       "      background-color: #3B4455;\n",
       "      fill: #D2E3FC;\n",
       "    }\n",
       "\n",
       "    [theme=dark] .colab-df-convert:hover {\n",
       "      background-color: #434B5C;\n",
       "      box-shadow: 0px 1px 3px 1px rgba(0, 0, 0, 0.15);\n",
       "      filter: drop-shadow(0px 1px 2px rgba(0, 0, 0, 0.3));\n",
       "      fill: #FFFFFF;\n",
       "    }\n",
       "  </style>\n",
       "\n",
       "      <script>\n",
       "        const buttonEl =\n",
       "          document.querySelector('#df-bd6dc726-d96f-4c2a-a98b-8a978369397f button.colab-df-convert');\n",
       "        buttonEl.style.display =\n",
       "          google.colab.kernel.accessAllowed ? 'block' : 'none';\n",
       "\n",
       "        async function convertToInteractive(key) {\n",
       "          const element = document.querySelector('#df-bd6dc726-d96f-4c2a-a98b-8a978369397f');\n",
       "          const dataTable =\n",
       "            await google.colab.kernel.invokeFunction('convertToInteractive',\n",
       "                                                     [key], {});\n",
       "          if (!dataTable) return;\n",
       "\n",
       "          const docLinkHtml = 'Like what you see? Visit the ' +\n",
       "            '<a target=\"_blank\" href=https://colab.research.google.com/notebooks/data_table.ipynb>data table notebook</a>'\n",
       "            + ' to learn more about interactive tables.';\n",
       "          element.innerHTML = '';\n",
       "          dataTable['output_type'] = 'display_data';\n",
       "          await google.colab.output.renderOutput(dataTable, element);\n",
       "          const docLink = document.createElement('div');\n",
       "          docLink.innerHTML = docLinkHtml;\n",
       "          element.appendChild(docLink);\n",
       "        }\n",
       "      </script>\n",
       "    </div>\n",
       "  </div>\n",
       "  "
      ],
      "text/plain": [
       "        is_canceled  lead_time  month_class  adults  country_prt  \\\n",
       "0                 0        342            1       2            1   \n",
       "1                 0        737            1       2            1   \n",
       "2                 0          7            1       1            0   \n",
       "3                 0         13            1       1            0   \n",
       "4                 0         14            1       2            0   \n",
       "...             ...        ...          ...     ...          ...   \n",
       "117244            0        468            1       2            0   \n",
       "117245            0        244            1       2            0   \n",
       "117246            0        244            1       2            0   \n",
       "117247            0         90            1       2            0   \n",
       "117248            0         19            1       2            0   \n",
       "\n",
       "        distribution_channel_class  is_repeated_guest  \\\n",
       "0                                0                  0   \n",
       "1                                0                  0   \n",
       "2                                0                  0   \n",
       "3                                0                  0   \n",
       "4                                1                  0   \n",
       "...                            ...                ...   \n",
       "117244                           1                  0   \n",
       "117245                           1                  0   \n",
       "117246                           1                  0   \n",
       "117247                           1                  0   \n",
       "117248                           1                  0   \n",
       "\n",
       "        previous_cancellations_class  reserved_equal_assigned  \\\n",
       "0                                  0                        1   \n",
       "1                                  0                        1   \n",
       "2                                  0                        0   \n",
       "3                                  0                        1   \n",
       "4                                  0                        1   \n",
       "...                              ...                      ...   \n",
       "117244                             0                        1   \n",
       "117245                             0                        1   \n",
       "117246                             0                        1   \n",
       "117247                             0                        1   \n",
       "117248                             0                        1   \n",
       "\n",
       "        booking_changes_class  No_Deposit  Non_Refund  Refundable  \\\n",
       "0                           1         1.0         0.0         0.0   \n",
       "1                           1         1.0         0.0         0.0   \n",
       "2                           0         1.0         0.0         0.0   \n",
       "3                           0         1.0         0.0         0.0   \n",
       "4                           0         1.0         0.0         0.0   \n",
       "...                       ...         ...         ...         ...   \n",
       "117244                      0         1.0         0.0         0.0   \n",
       "117245                      0         1.0         0.0         0.0   \n",
       "117246                      0         1.0         0.0         0.0   \n",
       "117247                      0         1.0         0.0         0.0   \n",
       "117248                      0         1.0         0.0         0.0   \n",
       "\n",
       "        have_days_in_wl  Contract  Group  Transient  Transient-Party  \\\n",
       "0                     0       0.0    0.0        1.0              0.0   \n",
       "1                     0       0.0    0.0        1.0              0.0   \n",
       "2                     0       0.0    0.0        1.0              0.0   \n",
       "3                     0       0.0    0.0        1.0              0.0   \n",
       "4                     0       0.0    0.0        1.0              0.0   \n",
       "...                 ...       ...    ...        ...              ...   \n",
       "117244                0       0.0    0.0        1.0              0.0   \n",
       "117245                0       0.0    0.0        1.0              0.0   \n",
       "117246                0       0.0    0.0        1.0              0.0   \n",
       "117247                0       0.0    0.0        1.0              0.0   \n",
       "117248                0       0.0    0.0        1.0              0.0   \n",
       "\n",
       "        required_car_parking_spaces_class  total_of_special_requests  \n",
       "0                                       0                          0  \n",
       "1                                       0                          0  \n",
       "2                                       0                          0  \n",
       "3                                       0                          0  \n",
       "4                                       0                          1  \n",
       "...                                   ...                        ...  \n",
       "117244                                  0                          1  \n",
       "117245                                  0                          2  \n",
       "117246                                  0                          2  \n",
       "117247                                  0                          0  \n",
       "117248                                  0                          1  \n",
       "\n",
       "[116180 rows x 20 columns]"
      ]
     },
     "execution_count": 27,
     "metadata": {},
     "output_type": "execute_result"
    }
   ],
   "source": [
    "df_final = df.loc[:, column_names]\n",
    "df_final"
   ]
  },
  {
   "cell_type": "markdown",
   "metadata": {
    "id": "ChLjeP11j4w6"
   },
   "source": [
    "## 3. Model Fitting and Tuning"
   ]
  },
  {
   "cell_type": "markdown",
   "metadata": {
    "id": "99Ed6uZpj4w8"
   },
   "source": [
    "We mainly compared **logistic regression method** and **decision tree method**. There are two main reasons why we rejected logistic regression model, and ended up with using decision tree method.\n",
    "1. From the results of their application, the score of logistic regression method, with using best parameters found by GridSearchCV, are even lower than the score of the model using default decision tree parameters.\n",
    "2. Most features in our dataset are binary types (0 and 1), the decision tree would give a better performance on this type of data.\n",
    "\n",
    "However, one of the most obvious properties for **decision tree algorithm** is that it is more likely to overfit as it uses the greedy algorithm. To avoid this problem, general methods include re-selecting data features, and choosing hyper parameters effectively, i.e., **max_depth**, **min_samples_leaf**, etc. We did our model building and refinement accordingly.\n",
    "\n",
    "We initially applied the simplest decision tree to the dataset, and we selected the most important features according to the ***feature_importances_***. As the default decision tree produces a large max_depth of tree that can cause potential overfitting to the model, we targeted to find out the best max_depth, by comparing the score graph of the train set and validation set and finding the best figure which could obtain a best score for the validation set. By using such a max_depth, we used **GridSearchCV** to find out some other optimal parameters. The reason why we did not put the parameter max_depth into GridSearchCV is that GridSearchCV uses the train set and will always choose a larger value for this parameter to get a higher score, which cannot avoid overfitting. \n",
    "\n",
    "We ended up with a model with **gini** criterion, **46** min_samples_leaf, and with **best** option as the splitter.\n"
   ]
  },
  {
   "cell_type": "markdown",
   "metadata": {
    "id": "v-ui_Js5bW0l"
   },
   "source": [
    "### 3.1 Data Splitting\n",
    "\n",
    "We split the dataset into **train set, valid set, and test set**. Train set are used in traning the model; valid set are used in calculating the validation scores, so that we could find best parameters without overfitting the model; test set are used in our final model for testing the performance of our model."
   ]
  },
  {
   "cell_type": "code",
   "execution_count": 29,
   "metadata": {
    "executionInfo": {
     "elapsed": 346,
     "status": "ok",
     "timestamp": 1649940547398,
     "user": {
      "displayName": "Yvonne Chan",
      "userId": "12957906171588768734"
     },
     "user_tz": -60
    },
    "id": "apqgVmMZk_hg"
   },
   "outputs": [],
   "source": [
    "# drop one attribute of one-hot-encoded variables\n",
    "df_final_ = df_final.copy()\n",
    "\n",
    "# split data into 3 parts\n",
    "train_valid_df, test_df = train_test_split(df_final_, test_size = 0.2, random_state = 42, shuffle = True)\n",
    "train_df, valid_df = train_test_split(train_valid_df, test_size = 0.2, random_state = 42, shuffle = True)"
   ]
  },
  {
   "cell_type": "code",
   "execution_count": 30,
   "metadata": {
    "executionInfo": {
     "elapsed": 10,
     "status": "ok",
     "timestamp": 1649940547400,
     "user": {
      "displayName": "Yvonne Chan",
      "userId": "12957906171588768734"
     },
     "user_tz": -60
    },
    "id": "m33g9jhAk_hh"
   },
   "outputs": [],
   "source": [
    "output = 'is_canceled'\n",
    "y_train = train_df.loc[:,output]\n",
    "X_train = train_df.drop(output, axis = 1)\n",
    "\n",
    "y_valid = valid_df.loc[:,output]\n",
    "X_valid = valid_df.drop(output, axis = 1)\n",
    "\n",
    "y_test = test_df.loc[:,output]\n",
    "X_test = test_df.drop(output, axis = 1)"
   ]
  },
  {
   "cell_type": "markdown",
   "metadata": {
    "id": "728-ytaHk_hj"
   },
   "source": [
    "### 3.2 Decision Tree"
   ]
  },
  {
   "cell_type": "markdown",
   "metadata": {
    "id": "Pq8EPFaceloT"
   },
   "source": [
    "### 3.2.1 Baseline Model Building"
   ]
  },
  {
   "cell_type": "markdown",
   "metadata": {
    "id": "syEEjMMdSpqM"
   },
   "source": [
    "We started with the simplest decision tree, and the unspecified Decision Tree Classifier has a default max_depth 44, while with a score of approximately 0.9 on the training data, and 0.823 on the validation data. The cross validation score with 5 folds gives us 0.816 for train data, and 0.797 for validation data. The **feature_importances_** are listed below.\n",
    "\n",
    "`lead_time`, `Non_Refund`, `country_prt` have an importance over 0.1, while the rest features take a small importance."
   ]
  },
  {
   "cell_type": "code",
   "execution_count": 39,
   "metadata": {
    "colab": {
     "base_uri": "https://localhost:8080/",
     "height": 0
    },
    "executionInfo": {
     "elapsed": 685,
     "status": "ok",
     "timestamp": 1649940563422,
     "user": {
      "displayName": "Yvonne Chan",
      "userId": "12957906171588768734"
     },
     "user_tz": -60
    },
    "id": "fl6oaxaRk_hj",
    "outputId": "628fae26-d512-4727-891f-8361cdcff8cc"
   },
   "outputs": [
    {
     "data": {
      "text/plain": [
       "DecisionTreeClassifier(random_state=42)"
      ]
     },
     "execution_count": 39,
     "metadata": {},
     "output_type": "execute_result"
    }
   ],
   "source": [
    "# initial model\n",
    "clf = DecisionTreeClassifier(random_state=42)\n",
    "clf.fit(X_train, y_train)"
   ]
  },
  {
   "cell_type": "code",
   "execution_count": 40,
   "metadata": {
    "colab": {
     "base_uri": "https://localhost:8080/",
     "height": 0
    },
    "executionInfo": {
     "elapsed": 6,
     "status": "ok",
     "timestamp": 1649940563423,
     "user": {
      "displayName": "Yvonne Chan",
      "userId": "12957906171588768734"
     },
     "user_tz": -60
    },
    "id": "9yjalM_56UFY",
    "outputId": "f6002b2b-5cf6-499c-fffb-e5a289023580"
   },
   "outputs": [
    {
     "name": "stdout",
     "output_type": "stream",
     "text": [
      "44\n",
      "0.8999663775132809\n",
      "0.8230674054548389\n"
     ]
    }
   ],
   "source": [
    "print(clf.get_depth())\n",
    "print(clf.score(X_train, y_train))\n",
    "print(clf.score(X_valid, y_valid))"
   ]
  },
  {
   "cell_type": "code",
   "execution_count": 41,
   "metadata": {
    "colab": {
     "base_uri": "https://localhost:8080/",
     "height": 0
    },
    "executionInfo": {
     "elapsed": 2494,
     "status": "ok",
     "timestamp": 1649940565913,
     "user": {
      "displayName": "Yvonne Chan",
      "userId": "12957906171588768734"
     },
     "user_tz": -60
    },
    "id": "zSG8aWERuEh4",
    "outputId": "f3a71338-2495-401f-fd8c-f0a2a81bcf1d"
   },
   "outputs": [
    {
     "name": "stdout",
     "output_type": "stream",
     "text": [
      "0.8155604868536077\n",
      "0.7972991516668179\n"
     ]
    }
   ],
   "source": [
    "print(cross_val_score(clf, X_train, y_train, cv = 5).mean())\n",
    "print(cross_val_score(clf, X_valid, y_valid, cv = 5).mean())"
   ]
  },
  {
   "cell_type": "code",
   "execution_count": 42,
   "metadata": {
    "colab": {
     "base_uri": "https://localhost:8080/",
     "height": 0
    },
    "executionInfo": {
     "elapsed": 30,
     "status": "ok",
     "timestamp": 1649940565916,
     "user": {
      "displayName": "Yvonne Chan",
      "userId": "12957906171588768734"
     },
     "user_tz": -60
    },
    "id": "XQv1vZQ2popu",
    "outputId": "d304636a-40f9-4419-97a8-8811fb639b11"
   },
   "outputs": [
    {
     "data": {
      "text/plain": [
       "[('lead_time', 0.38576681379226535),\n",
       " ('Non_Refund', 0.17612487743247365),\n",
       " ('country_prt', 0.11791022254465917),\n",
       " ('reserved_equal_assigned', 0.060209928266857136),\n",
       " ('total_of_special_requests', 0.05582895614562213),\n",
       " ('adults', 0.03439507786791518),\n",
       " ('booking_changes_class', 0.032455150636973774),\n",
       " ('required_car_parking_spaces_class', 0.02765072398359483),\n",
       " ('month_class', 0.024477181909185707),\n",
       " ('distribution_channel_class', 0.022453009101872),\n",
       " ('previous_cancellations_class', 0.02026936093398041),\n",
       " ('Transient-Party', 0.01114033581116518),\n",
       " ('Transient', 0.010091793535071582),\n",
       " ('have_days_in_wl', 0.008677331309886897),\n",
       " ('is_repeated_guest', 0.007436164362026493),\n",
       " ('Contract', 0.0035183262106490394),\n",
       " ('Group', 0.0010269064537218315),\n",
       " ('Refundable', 0.0003361687743474038),\n",
       " ('No_Deposit', 0.0002316709277323955)]"
      ]
     },
     "execution_count": 42,
     "metadata": {},
     "output_type": "execute_result"
    }
   ],
   "source": [
    "sorted([*zip(X_train.columns.tolist(), clf.feature_importances_)], key = lambda t:t[1], reverse = True)"
   ]
  },
  {
   "cell_type": "markdown",
   "metadata": {
    "id": "opUEELc66UFY"
   },
   "source": [
    "### 3.2.2 Model Refinement"
   ]
  },
  {
   "cell_type": "markdown",
   "metadata": {
    "id": "gtoLvPMZTffJ"
   },
   "source": [
    "For the model refinement part, we firstly removed some less important features that was filtered by the raw model. Features with an importance less than 0.03 are removed from our model. By using the default max_depth of 42, the score of train data is 0.852, and the score of validation data is 0.813. The cross validation score of the train set and validation set are similar, both are around 0.8. Although the number of features were reduced, the performance of this model is maintained."
   ]
  },
  {
   "cell_type": "code",
   "execution_count": 43,
   "metadata": {
    "executionInfo": {
     "elapsed": 27,
     "status": "ok",
     "timestamp": 1649940566289,
     "user": {
      "displayName": "Yvonne Chan",
      "userId": "12957906171588768734"
     },
     "user_tz": -60
    },
    "id": "PwIWj2Gdk_hj"
   },
   "outputs": [],
   "source": [
    "# let's try delete some unimportant features using a treshold of 0.03\n",
    "df_final2 = df_final.copy()\n",
    "df_final2.drop(columns=['Group', 'Refundable', 'No_Deposit', 'Contract', 'Transient-Party', \n",
    "                        'have_days_in_wl', 'is_repeated_guest', 'Transient',\n",
    "                        'required_car_parking_spaces_class', 'month_class',\n",
    "                        'distribution_channel_class', 'previous_cancellations_class'],\n",
    "               inplace = True)\n",
    "\n",
    "# split data into 3 parts\n",
    "train_valid_df2, test_df2 = train_test_split(df_final2, test_size = 0.2, random_state = 42, shuffle = True)\n",
    "train_df2, valid_df2 = train_test_split(train_valid_df2, test_size = 0.2, random_state = 42, shuffle = True)\n",
    "\n",
    "\n",
    "y_train2 = train_df2.loc[:,output]\n",
    "X_train2 = train_df2.drop(output, axis = 1)\n",
    "\n",
    "y_valid2 = valid_df2.loc[:,output]\n",
    "X_valid2 = valid_df2.drop(output, axis = 1)\n",
    "\n",
    "y_test2 = test_df2.loc[:,output]\n",
    "X_test2 = test_df2.drop(output, axis = 1)"
   ]
  },
  {
   "cell_type": "code",
   "execution_count": 44,
   "metadata": {
    "colab": {
     "base_uri": "https://localhost:8080/",
     "height": 0
    },
    "executionInfo": {
     "elapsed": 27,
     "status": "ok",
     "timestamp": 1649940566290,
     "user": {
      "displayName": "Yvonne Chan",
      "userId": "12957906171588768734"
     },
     "user_tz": -60
    },
    "id": "QnkeGaM76UFZ",
    "outputId": "988f3366-6cca-4759-d31a-c468df119874"
   },
   "outputs": [
    {
     "name": "stdout",
     "output_type": "stream",
     "text": [
      "42\n"
     ]
    }
   ],
   "source": [
    "clf2 = DecisionTreeClassifier(random_state=42)\n",
    "clf2.fit(X_train2, y_train2)\n",
    "\n",
    "print(clf2.get_depth())"
   ]
  },
  {
   "cell_type": "code",
   "execution_count": 45,
   "metadata": {
    "colab": {
     "base_uri": "https://localhost:8080/",
     "height": 0
    },
    "executionInfo": {
     "elapsed": 20,
     "status": "ok",
     "timestamp": 1649940566293,
     "user": {
      "displayName": "Yvonne Chan",
      "userId": "12957906171588768734"
     },
     "user_tz": -60
    },
    "id": "gppitYCv6UFZ",
    "outputId": "efb656d0-dd66-4443-cf7c-c0fbfe90208f"
   },
   "outputs": [
    {
     "name": "stdout",
     "output_type": "stream",
     "text": [
      "0.8515096496536884\n",
      "0.813007692721502\n"
     ]
    }
   ],
   "source": [
    "print(clf2.score(X_train2, y_train2))\n",
    "print(clf2.score(X_valid2, y_valid2))"
   ]
  },
  {
   "cell_type": "code",
   "execution_count": 46,
   "metadata": {
    "colab": {
     "base_uri": "https://localhost:8080/",
     "height": 0
    },
    "executionInfo": {
     "elapsed": 1615,
     "status": "ok",
     "timestamp": 1649940568149,
     "user": {
      "displayName": "Yvonne Chan",
      "userId": "12957906171588768734"
     },
     "user_tz": -60
    },
    "id": "chcVeVtP6UFZ",
    "outputId": "dc9aee66-e9e1-449b-8c3b-2ed8dc45bf3c"
   },
   "outputs": [
    {
     "name": "stdout",
     "output_type": "stream",
     "text": [
      "0.8045188622150494\n",
      "0.7924577523012986\n"
     ]
    }
   ],
   "source": [
    "print(cross_val_score(clf2, X_train2, y_train2, cv = 5).mean())\n",
    "print(cross_val_score(clf2, X_valid2, y_valid2, cv = 5).mean())"
   ]
  },
  {
   "cell_type": "markdown",
   "metadata": {
    "id": "kS-eJ2_WfWlb"
   },
   "source": [
    "---"
   ]
  },
  {
   "cell_type": "code",
   "execution_count": 47,
   "metadata": {
    "colab": {
     "base_uri": "https://localhost:8080/",
     "height": 282
    },
    "executionInfo": {
     "elapsed": 7928,
     "status": "ok",
     "timestamp": 1649940576064,
     "user": {
      "displayName": "Yvonne Chan",
      "userId": "12957906171588768734"
     },
     "user_tz": -60
    },
    "id": "zmHG2SWyzxF_",
    "outputId": "49c566b4-4b2a-4e86-a4dd-b02af2c1c8e4"
   },
   "outputs": [
    {
     "name": "stdout",
     "output_type": "stream",
     "text": [
      "0.8170963326113261\n"
     ]
    },
    {
     "data": {
      "image/png": "[encoded data removed]",
      "text/plain": [
       "<Figure size 432x288 with 1 Axes>"
      ]
     },
     "metadata": {
      "needs_background": "light"
     },
     "output_type": "display_data"
    }
   ],
   "source": [
    "# have a look at the influence of the hyper parameter `max_depth`\n",
    "\n",
    "tr = []\n",
    "te = []\n",
    "for i in range(20):\n",
    "    clf = DecisionTreeClassifier(random_state = 42, max_depth = i+1, criterion = \"entropy\")\n",
    "    clf = clf.fit(X_train2, y_train2)\n",
    "    \n",
    "    score_tr = clf.score(X_train2, y_train2)\n",
    "    score_te = cross_val_score(clf, X_valid2, y_valid2, cv = 5).mean()\n",
    "    \n",
    "    tr.append(score_tr)\n",
    "    te.append(score_te)\n",
    "\n",
    "print(max(te))\n",
    "plt.plot(range(1, 21), tr, color = \"red\", label = \"train\")\n",
    "plt.plot(range(1, 21), te, color = \"blue\", label = \"validation\")\n",
    "plt.xticks(range(1, 21))\n",
    "plt.legend()\n",
    "plt.show()"
   ]
  },
  {
   "cell_type": "markdown",
   "metadata": {
    "id": "eYKOqo3zZYaQ"
   },
   "source": [
    "We then explored the optimal **max_depth**, i.e. we want to find the depth the tree will reach when its purity reaches the maximum, while avoiding overfitting of the model. We then calculated the fitting score of the training data, and the cross validation score of the validation data, and then the graph of tree depth versus scores is displayed above. \n",
    "\n",
    "The red line shows the score of the training data, which will always increase as the tree depth keeps split. However, the score of validation data reaches a maximum at depth = 7, and it means that the model will start to overfit with a depth > 7. Therefore, we decided max_depth=7."
   ]
  },
  {
   "cell_type": "code",
   "execution_count": 48,
   "metadata": {
    "colab": {
     "base_uri": "https://localhost:8080/",
     "height": 0
    },
    "executionInfo": {
     "elapsed": 16559,
     "status": "ok",
     "timestamp": 1649940592576,
     "user": {
      "displayName": "Yvonne Chan",
      "userId": "12957906171588768734"
     },
     "user_tz": -60
    },
    "id": "biP1tB6i5BS9",
    "outputId": "5108adf3-cf06-4c53-b32a-5f387702b432"
   },
   "outputs": [
    {
     "data": {
      "text/plain": [
       "GridSearchCV(cv=5,\n",
       "             estimator=DecisionTreeClassifier(max_depth=7, random_state=42),\n",
       "             param_grid={'criterion': ('gini', 'entropy'),\n",
       "                         'min_samples_leaf': [1, 4, 7, 10, 13, 16, 19, 22, 25,\n",
       "                                              28, 31, 34, 37, 40, 43, 46, 49],\n",
       "                         'splitter': ('best', 'random')})"
      ]
     },
     "execution_count": 48,
     "metadata": {},
     "output_type": "execute_result"
    }
   ],
   "source": [
    "# grid search with cross validation\n",
    "parameter = {'splitter':('best', 'random'),\n",
    "             'criterion':('gini', 'entropy'),\n",
    "             'min_samples_leaf':[*range(1, 50, 3)]}\n",
    "\n",
    "clf = DecisionTreeClassifier(random_state = 42, max_depth = 7)\n",
    "GS = GridSearchCV(clf, parameter, cv = 5)\n",
    "\n",
    "GS.fit(X_train2, y_train2)"
   ]
  },
  {
   "cell_type": "code",
   "execution_count": 49,
   "metadata": {
    "colab": {
     "base_uri": "https://localhost:8080/",
     "height": 0
    },
    "executionInfo": {
     "elapsed": 76,
     "status": "ok",
     "timestamp": 1649940592580,
     "user": {
      "displayName": "Yvonne Chan",
      "userId": "12957906171588768734"
     },
     "user_tz": -60
    },
    "id": "F6EDJS30-9tM",
    "outputId": "c6f520ce-7e32-4d92-e46d-06e6c8535afe"
   },
   "outputs": [
    {
     "name": "stdout",
     "output_type": "stream",
     "text": [
      "{'criterion': 'gini', 'min_samples_leaf': 46, 'splitter': 'best'}\n"
     ]
    }
   ],
   "source": [
    "print(GS.best_params_)"
   ]
  },
  {
   "cell_type": "markdown",
   "metadata": {
    "id": "zeDP0xtkZgdB"
   },
   "source": [
    "We used gridsearchCV to find our optimal parameters for our model, with max_depth=7, and we ended up with using **gini** as our criterion, the optimal min_samples_leaf will be **46**, and **best** as our splitter option."
   ]
  },
  {
   "cell_type": "code",
   "execution_count": 50,
   "metadata": {
    "colab": {
     "base_uri": "https://localhost:8080/",
     "height": 0
    },
    "executionInfo": {
     "elapsed": 71,
     "status": "ok",
     "timestamp": 1649940592582,
     "user": {
      "displayName": "Yvonne Chan",
      "userId": "12957906171588768734"
     },
     "user_tz": -60
    },
    "id": "pVPznz_vA4nT",
    "outputId": "40fa61d6-db4d-46bb-94c2-89b0839c3b78"
   },
   "outputs": [
    {
     "data": {
      "text/plain": [
       "DecisionTreeClassifier(max_depth=7, min_samples_leaf=46, random_state=42)"
      ]
     },
     "execution_count": 50,
     "metadata": {},
     "output_type": "execute_result"
    }
   ],
   "source": [
    "# use the best parameters to build a new model\n",
    "clf_new = DecisionTreeClassifier(random_state=42, criterion='gini', min_samples_leaf=46, splitter='best', max_depth = 7)\n",
    "clf_new.fit(X_train2, y_train2)"
   ]
  },
  {
   "cell_type": "code",
   "execution_count": 51,
   "metadata": {
    "colab": {
     "base_uri": "https://localhost:8080/",
     "height": 0
    },
    "executionInfo": {
     "elapsed": 363,
     "status": "ok",
     "timestamp": 1649940592882,
     "user": {
      "displayName": "Yvonne Chan",
      "userId": "12957906171588768734"
     },
     "user_tz": -60
    },
    "id": "dWkr8ThZBK2_",
    "outputId": "da6626e0-7db2-4694-c7ff-ceb46e316688"
   },
   "outputs": [
    {
     "name": "stdout",
     "output_type": "stream",
     "text": [
      "0.8096160312016677\n",
      "0.8172575178869224\n",
      "0.80845941765853\n",
      "0.8163969740240926\n"
     ]
    }
   ],
   "source": [
    "print(clf_new.score(X_train2, y_train2))\n",
    "print(clf_new.score(X_valid2, y_valid2))\n",
    "print(cross_val_score(clf_new, X_train2, y_train2, cv = 5).mean())\n",
    "print(cross_val_score(clf_new, X_valid2, y_valid2, cv = 5).mean())"
   ]
  },
  {
   "cell_type": "markdown",
   "metadata": {
    "id": "Dz9p-w9Eavm1"
   },
   "source": [
    "Hence, the model is built with parameters **criterion='gini', min_samples_leaf=46, splitter='best', max_depth = 7**,\n",
    "and the score of training set is approximately 0.81, the score of validation set is even higher: 0.817. The cross validation with 5 folds score of training set is 0.808, and the score of validation set id 0.816. The scores of validation data are even higher than the training data, which showed us the reliability of our model.\n"
   ]
  },
  {
   "cell_type": "code",
   "execution_count": 52,
   "metadata": {
    "colab": {
     "base_uri": "https://localhost:8080/",
     "height": 0
    },
    "executionInfo": {
     "elapsed": 16,
     "status": "ok",
     "timestamp": 1649940592884,
     "user": {
      "displayName": "Yvonne Chan",
      "userId": "12957906171588768734"
     },
     "user_tz": -60
    },
    "id": "Ow0BJ4Pi6UFa",
    "outputId": "1158f08a-b487-433c-c27a-a63d93334cfc"
   },
   "outputs": [
    {
     "data": {
      "text/plain": [
       "[('Non_Refund', 0.3036222256685849),\n",
       " ('lead_time', 0.2650566126859949),\n",
       " ('country_prt', 0.20254868885232158),\n",
       " ('reserved_equal_assigned', 0.10441490569675774),\n",
       " ('total_of_special_requests', 0.06316127815234619),\n",
       " ('booking_changes_class', 0.04908020070434991),\n",
       " ('adults', 0.012116088239644952)]"
      ]
     },
     "execution_count": 52,
     "metadata": {},
     "output_type": "execute_result"
    }
   ],
   "source": [
    "# show feature importance\n",
    "sorted([*zip(X_train2.columns.tolist(), clf_new.feature_importances_)], key = lambda t:t[1], reverse = True)"
   ]
  },
  {
   "cell_type": "code",
   "execution_count": 53,
   "metadata": {
    "colab": {
     "base_uri": "https://localhost:8080/",
     "height": 0
    },
    "executionInfo": {
     "elapsed": 562,
     "status": "ok",
     "timestamp": 1649940593438,
     "user": {
      "displayName": "Yvonne Chan",
      "userId": "12957906171588768734"
     },
     "user_tz": -60
    },
    "id": "tOwu372C6UFa",
    "outputId": "452fd922-80e2-4b7e-89bb-d6d8fbd82889"
   },
   "outputs": [
    {
     "name": "stdout",
     "output_type": "stream",
     "text": [
      "0.8117145808228611\n",
      "0.8072387400751211\n"
     ]
    }
   ],
   "source": [
    "# test\n",
    "print(clf_new.score(X_test2, y_test2))\n",
    "\n",
    "print(cross_val_score(clf_new, X_test2, y_test2, cv = 5).mean())"
   ]
  },
  {
   "cell_type": "code",
   "execution_count": 55,
   "metadata": {
    "executionInfo": {
     "elapsed": 205,
     "status": "ok",
     "timestamp": 1649947105862,
     "user": {
      "displayName": "Yvonne Chan",
      "userId": "12957906171588768734"
     },
     "user_tz": -60
    },
    "id": "gGQprUmFGbbK"
   },
   "outputs": [],
   "source": [
    "# # the code here could be used to plot the decision tree, as the plot is very large, we did not include it in our final report.\n",
    "# feature_name = X_train2.columns.tolist()\n",
    "# dot_data = export_graphviz(clf_new, feature_names=feature_name, class_names = ['not canceled', 'canceled'],\n",
    "#                            filled = True, rounded = True)\n",
    "# graph = graphviz.Source(dot_data)\n",
    "# graph.render(\"Tree\")\n",
    "# graph"
   ]
  },
  {
   "cell_type": "markdown",
   "metadata": {
    "id": "XhXsdr-ZgyXa"
   },
   "source": [
    "The **feature importance** is listed above, in the order from high to low. We can see that `Non_Refund`, `lead_time`, `country_prt`, `reserved_equal_assigned` take an importance > 0.1.\n",
    "\n",
    "We also tested our final model using the test set with the score equal to 0.812, and the cross validation score equal to 0.807. We could compare this score with the score of train set and valid set. We can see all of them have a stable score at almost more than 0.8. Hence we have reasons to believe the model is accurate and reliable.\n",
    "\n",
    "We omitted the plot of the decision tree in our final report as it is too large."
   ]
  },
  {
   "cell_type": "markdown",
   "metadata": {
    "id": "__5TMQmbj4w9"
   },
   "source": [
    "## 4. Discussion & Conclusions\n"
   ]
  },
  {
   "cell_type": "markdown",
   "metadata": {
    "id": "-gFewHOLks_e"
   },
   "source": [
    "In conclusion, we have a final model, using decision tree method, with parameters **criterion='gini', min_samples_leaf=46, splitter='best', max_depth = 7**.\n",
    "\n",
    "The most important features are listed, in the order from high to low:\n",
    "\n",
    "**`Non_Refund`, `lead_time`, `country_prt`, `reserved_equal_assigned`, `total_of_special_requests`, `booking_changes_class`, ` adults`**.\n",
    "\n",
    "1. For guests who has a `deposit_type = Non_Refund`, the definition of Non_Refund is mentioned in the report: \"the payment was equal or exceeded the total cost of stay, the value is set as 'Non Refund\". It seems to be reasonable, as guests would not want to pay the money in advance of their booking, or they do not want to pay more than what is deserved. **Hence, guests with a Non_Refund deposit type have a higher cancellation probability.**\n",
    "\n",
    "2. `Lead time` is the number of days from the time they book to the time of arrival to the hotel. This should affect the cancellation probability highly, as a bigger lead time could give the guest time to change their travel plan; and for a smaller lead time, the guest will not have a lot of choices as time is approaching. **Hence, and guests with larger lead time will have a higher cancellation probability.**\n",
    "3. `country_prt` indicates if the guest is from the Portgual or from other countries. The two hotels are located in Portgual, and it is reasonable to think that Portuguese will be more familiar with the city, and they have the option to change their plans frequently. For people who are travelling abroad, either on business or on holiday, they will book hotels carefully, and they are less likely to change their plans once they made the decision, as the international tickets can be expensive. **Hence, guests from PRT have a higher cancellation probability.**\n",
    "4. `reserved_equal_assigned` shows if the booked room type is the same as the assigned room type. Usually when the hotel assign different type of room to the guest, they will assign an advanced room type. We could understand that if the guest was assigned a higher level room, they will be happy and are less likely to cancel the booking, unless they have to change their travel plan. **Hence, guests who are assigned the same room type as their booked room type have a higher cancellation probability.**\n",
    "5. For `total_of_special_requests`, this records the number of times the guests asking for special service to the hotel. As the guests request more to the hotel, they will stick with the hotel, because they will need to repeat their requests again if they need to change to another hotel. **Hence, guests with no or fewer special requests have a higher cancellation probability.**\n",
    "6. Similar to total of special requests, `booking_changes_class` functions the same. If the guest chose to change their booking, they would be more likely to change the booking again if needed, instead of switching to another hotel. **Hence, guests with no booking changes have a higher cancellation probability.**\n",
    "7. `adults` with a group over 8 have a very high cancellation percentage. Guests with a group over 8 are rare, and if they cancel, the cancellation percentage for this group size will be as high as 1, this is caused by data imbalance (tiny sample size). Future research needs to be conducted in this feature. **Based on current dataset, guests with a large group of people have a higher cancellation probability.**\n",
    "\n",
    "\n",
    "Based on our testing of the dataset, the score of test set is high, and it is to the score of validation set and score of train set. Therefore, it is reasonable to believe that for new coming dataset, the model will have the same performance and accuracy.\n",
    "\n",
    "---\n",
    "\n",
    "With an prediction accuracy of 0.8, if we have a total of 1000 rooms, 800 are booked as normal, an\n",
    "\n",
    "The error are classified as \n",
    "**type I error**: we think the guest will cancel, but they did not cancel the booking. Then the room is double booked, so the hotel either need to pay some compensation to one group of the guests, or they need to assign a higher level of room to the guests. This type of error cause directly loss to the profit of the hotel. To quantify the loss more convinently, we considered giving compensation and assigning a higher level of room are the same amount of loss, i.e., the profit of this room.\n",
    "\n",
    "**type II error**: we think the guest will not cancel, but they canceled the booking. Then we lost the profit of this room.\n",
    "\n",
    "Assume we have a total of 100 booking orders, if 80 of them are predicted accurately based on our model accuracy, i.e. if the prediction is accurate that they will cancel the booking, then we still have profit of these rooms because we have booked these rooms to other guest; or the prediction is accurate that they did not cancel the booking, then we have the profit of these rooms. In conclusion, we could guarantee the profit of these 80 orders.\n",
    "\n",
    "If the profit of an order is \\$100, then these 80 orders have a profit of 80\\*\\$100 = \\$8000. The type I error and type II error will cause a loss of 20\\*\\$100 = \\$2000. So the total profit will be \\$6000.\n",
    "\n",
    "---\n",
    "\n",
    "We need to pay more attention to **type I error**, because in such a situation, we may not only have to pay higher compensation to the guests, but also such thing will cause damage to the reputation of the hotel."
   ]
  }
 ],
 "metadata": {
  "colab": {
   "collapsed_sections": [],
   "name": "proj2.ipynb",
   "provenance": []
  },
  "kernelspec": {
   "display_name": "Python 3",
   "language": "python",
   "name": "python3"
  },
  "language_info": {
   "codemirror_mode": {
    "name": "ipython",
    "version": 3
   },
   "file_extension": ".py",
   "mimetype": "text/x-python",
   "name": "python",
   "nbconvert_exporter": "python",
   "pygments_lexer": "ipython3",
   "version": "3.8.8"
  }
 },
 "nbformat": 4,
 "nbformat_minor": 1
}
